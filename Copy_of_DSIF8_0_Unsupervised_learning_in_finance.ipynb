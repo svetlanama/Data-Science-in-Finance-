{
  "cells": [
    {
      "cell_type": "markdown",
      "metadata": {
        "id": "view-in-github",
        "colab_type": "text"
      },
      "source": [
        "<a href=\"https://colab.research.google.com/github/svetlanama/Data-Science-in-Finance-/blob/main/Copy_of_DSIF8_0_Unsupervised_learning_in_finance.ipynb\" target=\"_parent\"><img src=\"https://colab.research.google.com/assets/colab-badge.svg\" alt=\"Open In Colab\"/></a>"
      ]
    },
    {
      "cell_type": "markdown",
      "metadata": {
        "id": "DH1XQ07F5Bx8"
      },
      "source": [
        "# Introduction\n",
        "\n",
        "\n",
        "\n",
        "## Agenda:\n",
        "**1. Outlier detection**  \n",
        "**2. Clustering**  \n",
        "**3. Principal Component Analysis**  \n",
        "**4. Assignment**  \n",
        "**5. Bonus content - NLP and sentiment analysis**  \n",
        "\n",
        "\n",
        "Demo: Implementation in Python\n",
        "------------------------------\n",
        "\n",
        "### LendingClub Use Case\n",
        "\n",
        "\n",
        "---\n"
      ]
    },
    {
      "cell_type": "markdown",
      "metadata": {
        "id": "bQcNIIZhTJDJ"
      },
      "source": [
        "### Set up"
      ]
    },
    {
      "cell_type": "markdown",
      "metadata": {
        "id": "Jniugz5aTJDO"
      },
      "source": [
        "#### User-specified parameters"
      ]
    },
    {
      "cell_type": "code",
      "execution_count": null,
      "metadata": {
        "id": "QWUuadE6TJDR"
      },
      "outputs": [],
      "source": [
        "python_material_folder_name = \"python-material-INSTRUCTOR\""
      ]
    },
    {
      "cell_type": "markdown",
      "metadata": {
        "id": "wdOsQ4-JTJDU"
      },
      "source": [
        "#### Import libraries"
      ]
    },
    {
      "cell_type": "code",
      "execution_count": null,
      "metadata": {
        "id": "d26GbnSyTJDV"
      },
      "outputs": [],
      "source": [
        "import pandas as pd\n",
        "import numpy as np\n",
        "\n",
        "pd.set_option('display.max_columns', None)\n",
        "pd.set_option('display.max_rows', None)\n",
        "\n",
        "# Check if in Google Colab environment\n",
        "try:\n",
        "    from google.colab import drive\n",
        "    # Mount drive\n",
        "    drive.mount('/content/drive')\n",
        "    # Set up path to Python material parent folder\n",
        "    path_python_material = rf\"drive/MyDrive/{python_material_folder_name}\"\n",
        "        # If unsure, print current directory path by executing the following in a new cell:\n",
        "        # !pwd\n",
        "    IN_COLAB = True\n",
        "except:\n",
        "    IN_COLAB = False\n",
        "    # If working locally on Jupyter Notebook, parent folder is one folder up (assuming you are using the folder structure shared at the beginning of the course)\n",
        "    path_python_material = \"..\""
      ]
    },
    {
      "cell_type": "markdown",
      "metadata": {
        "id": "qi2ZAw77TJDX"
      },
      "source": [
        "#### Import data"
      ]
    },
    {
      "cell_type": "code",
      "execution_count": null,
      "metadata": {
        "id": "f-Uk31wyTJDX",
        "scrolled": true
      },
      "outputs": [],
      "source": [
        "# Read data that was exported from previous session\n",
        "df = pd.read_csv(f\"{path_python_material}/data/2-intermediate/df_out_dsif6.csv\").sample(1000)\n",
        "df.head()"
      ]
    },
    {
      "cell_type": "markdown",
      "metadata": {
        "id": "dGODy-ZCTJDY"
      },
      "source": [
        "# 1 - Outlier detection"
      ]
    },
    {
      "cell_type": "markdown",
      "metadata": {
        "id": "MKFEVqKcTJDZ"
      },
      "source": [
        "Do you remember where we saw these in previous lessons? and what methodology we used?"
      ]
    },
    {
      "cell_type": "markdown",
      "metadata": {
        "id": "PjJtbTcITJDZ"
      },
      "source": [
        "## 1.1 - Z scores"
      ]
    },
    {
      "cell_type": "code",
      "execution_count": null,
      "metadata": {
        "id": "8yh5pJ6kTJDa"
      },
      "outputs": [],
      "source": [
        "from scipy import stats\n",
        "\n",
        "# Calculate the Z-score for a specific column (e.g., annual_inc)\n",
        "df['annual_inc_zscore'] = np.abs(stats.zscore(df['annual_inc']))\n",
        "\n",
        "# Flag outliers (Z-score > 3)\n",
        "outliers = df[df['annual_inc_zscore'] > 3]\n",
        "print(f\"Outliers detected using z-scores: {len(outliers)}\")"
      ]
    },
    {
      "cell_type": "markdown",
      "metadata": {
        "id": "9mfuDSz1TJDa"
      },
      "source": [
        "## 1.2 - Interquantile range"
      ]
    },
    {
      "cell_type": "code",
      "execution_count": null,
      "metadata": {
        "id": "KR574QKlTJDa"
      },
      "outputs": [],
      "source": [
        "df_sample = df.sample(100) # for viz purposes\n",
        "\n",
        "# Calculate IQR for annual_inc\n",
        "Q1 = df['annual_inc'].quantile(0.25)\n",
        "Q3 = df['annual_inc'].quantile(0.75)\n",
        "IQR = Q3 - Q1\n",
        "\n",
        "# Define outlier boundaries\n",
        "lower_bound = Q1 - 1.5 * IQR\n",
        "upper_bound = Q3 + 1.5 * IQR\n",
        "\n",
        "# Identify outliers\n",
        "outliers_iqr = df_sample[(df_sample['annual_inc'] < lower_bound) | (df_sample['annual_inc'] > upper_bound)]\n",
        "print(f\"Outliers detected using IQR: {len(outliers_iqr)}\")\n"
      ]
    },
    {
      "cell_type": "code",
      "execution_count": null,
      "metadata": {
        "id": "UJBjf6byTJDa"
      },
      "outputs": [],
      "source": [
        "# Also this is the same as using a Box plot\n",
        "import matplotlib.pyplot as plt\n",
        "import seaborn as sns\n",
        "\n",
        "# Box Plot\n",
        "plt.figure(figsize=(8, 6))\n",
        "sns.boxplot(y=df_sample['annual_inc'])\n",
        "plt.title('Box plot of annual_inc')\n",
        "plt.show()\n"
      ]
    },
    {
      "cell_type": "markdown",
      "metadata": {
        "id": "Yw43OUFMTJDb"
      },
      "source": [
        "## 1.3 - Autoencoders - (Bonus content)\n",
        "\n",
        "Intuition: By training an autoencoder on normal data and calculating reconstruction errors on test data, we can identify outliers as those with reconstruction errors significantly higher than the threshold.\n",
        "\n",
        "Example [here](https://www.kaggle.com/code/robinteuwens/anomaly-detection-with-auto-encoders).\n"
      ]
    },
    {
      "cell_type": "markdown",
      "metadata": {
        "id": "YY6BG3AxTJDe"
      },
      "source": [
        "# 2. Clustering\n",
        "## 2.1 k-means clustering\n",
        "popular clustering algorithm that partitions the data into `k` clusters by minimizing the variance within each cluster.\n",
        "\n",
        "**Note:** We will be using 2 features in the example as it is much easier to visualise and get acquainted with this technique, but where clustering becomes very useful is on multi-dimentional data."
      ]
    },
    {
      "cell_type": "code",
      "execution_count": null,
      "metadata": {
        "id": "SIYXCnarTJDe"
      },
      "outputs": [],
      "source": [
        "from sklearn.cluster import KMeans\n",
        "import matplotlib.pyplot as plt\n",
        "\n",
        "# Let's use a simplified dataset for demonstration (e.g., annual income and loan amount)\n",
        "data_for_clustering = df[['annual_inc', 'loan_amnt']].dropna()\n"
      ]
    },
    {
      "cell_type": "code",
      "execution_count": null,
      "metadata": {
        "id": "3vZBef2D7ZcQ"
      },
      "outputs": [],
      "source": [
        "# Let's use the Elbow graph to determine optimal number of clusters:\n",
        "wcss = []\n",
        "max_clusters = 10\n",
        "\n",
        "for i in range(1, max_clusters + 1):\n",
        "    kmeans = KMeans(n_clusters=i, random_state=42)\n",
        "    kmeans.fit(data_for_clustering)\n",
        "    wcss.append(kmeans.inertia_)\n",
        "\n",
        "# Elbow Graph\n",
        "plt.figure(figsize=(10, 6))\n",
        "sns.lineplot(x=range(1, max_clusters + 1), y=wcss, marker='o', linestyle='--')\n",
        "plt.xlabel('# of clusters')\n",
        "plt.ylabel('Within-cluster sum of squares')\n",
        "plt.title('Elbow method for optimal number of clusters')\n",
        "plt.grid(True)\n",
        "plt.show()"
      ]
    },
    {
      "cell_type": "markdown",
      "metadata": {
        "id": "MYHB4_LrTJDr"
      },
      "source": [
        "The \"elbow point\" on this graph indicates the optimal number of clusters, i.e. where adding more clusters doesn't significantly reduce WCSS.\n",
        "\n",
        "Based on the above chart, the 'elbow' point seems to be at around 3 clusters."
      ]
    },
    {
      "cell_type": "code",
      "execution_count": null,
      "metadata": {
        "id": "U2ZK8Ae07ZcQ"
      },
      "outputs": [],
      "source": [
        "num_clusters = 3"
      ]
    },
    {
      "cell_type": "code",
      "execution_count": null,
      "metadata": {
        "id": "KH1Py7Ef7ZcQ"
      },
      "outputs": [],
      "source": [
        "# Applying K-Means\n",
        "kmeans = KMeans(n_clusters=num_clusters, random_state=42)\n",
        "data_for_clustering['cluster-km'] = kmeans.fit_predict(data_for_clustering)\n",
        "data_for_clustering.head()"
      ]
    },
    {
      "cell_type": "code",
      "execution_count": null,
      "metadata": {
        "id": "yVT4HW-vTJDq"
      },
      "outputs": [],
      "source": [
        "# Visualize the clusters\n",
        "plt.scatter(data_for_clustering['annual_inc'], data_for_clustering['loan_amnt'], c=data_for_clustering['cluster-km'], cmap='viridis')\n",
        "plt.xlabel('Annual Income')\n",
        "plt.ylabel('Loan Amount')\n",
        "plt.title('K-Means Clustering')\n",
        "plt.show()\n"
      ]
    },
    {
      "cell_type": "markdown",
      "metadata": {
        "id": "9qgwjthvTJDr"
      },
      "source": [
        "### Extrapolating insight from the created clusters\n",
        "Extrapolating insights from the created clusters involves analyzing the characteristics of each group (and relationship between them) to uncover patterns that can drive business decisions.\n",
        "\n",
        "By understanding the defining features of each cluster (e.g. spending habits, income levels, risk profiles etc.) you can craft a compelling business narrative that highlights how different customer segments behave and what they value.  \n",
        "\n",
        "This can be leveraged to align business strategies with customer needs, tailor marketing campaigns, optimize product offerings, and enhance customer engagement. Ultimately, translating these insights into a coherent story enables stakeholders to grasp the significance of the data, make informed decisions, and identify new opportunities for growth and innovation."
      ]
    },
    {
      "cell_type": "code",
      "execution_count": null,
      "metadata": {
        "id": "8HrRjF6PcDRy"
      },
      "outputs": [],
      "source": [
        "data_for_clustering.head()"
      ]
    },
    {
      "cell_type": "code",
      "execution_count": null,
      "metadata": {
        "id": "qZmUhXIsTJDs"
      },
      "outputs": [],
      "source": [
        "# Provide key Statistics by cluster\n",
        "cluster_summary = data_for_clustering\\\n",
        "    .groupby('cluster-km').agg(['mean'])#, 'median', 'std', 'min', 'max'])\n",
        "print(\"Key stats by cluster:\")\n",
        "\n",
        "# Set float format to display with 2 decimal places\n",
        "pd.options.display.float_format = '{:.2f}'.format\n",
        "\n",
        "cluster_summary\n"
      ]
    },
    {
      "cell_type": "code",
      "execution_count": null,
      "metadata": {
        "id": "CGdsT6vz7ZcQ"
      },
      "outputs": [],
      "source": [
        "# Visualize cluster means for each feature\n",
        "plt.figure(figsize=(12, 8))\n",
        "\n",
        "feats=list(data_for_clustering.drop(columns = ['cluster-km',]).columns)\n",
        "print(feats)\n",
        "\n",
        "for feature in feats:\n",
        "    sns.barplot(x='cluster-km', y=feature, data=data_for_clustering, estimator=np.mean, ci=None)\n",
        "    plt.title(f'Mean of {feature} by Cluster')\n",
        "    plt.show()"
      ]
    },
    {
      "cell_type": "code",
      "execution_count": null,
      "metadata": {
        "id": "TlOopQSK7ZcQ"
      },
      "outputs": [],
      "source": [
        "sns.pairplot(data_for_clustering[['loan_amnt', 'annual_inc', 'cluster-km']]\n",
        "             ,hue = 'cluster-km')\n",
        "plt.show()"
      ]
    },
    {
      "cell_type": "markdown",
      "metadata": {
        "id": "tANepQhQTJDs"
      },
      "source": [
        "## 2.2 - Hierarchical clustering\n",
        "Builds a hierarchy of clusters either in a bottom-up approach (agglomerative) or top-down approach (divisive)."
      ]
    },
    {
      "cell_type": "code",
      "execution_count": null,
      "metadata": {
        "id": "BHT5A6-rTJDs"
      },
      "outputs": [],
      "source": [
        "from scipy.cluster.hierarchy import dendrogram, linkage\n",
        "\n",
        "# Generate the linkage matrix\n",
        "linked = linkage(data_for_clustering[['annual_inc', 'loan_amnt']]\n",
        "                , method='ward')\n",
        "\n",
        "# First define the leaf label function.\n",
        "def llf(id):\n",
        "    if id < n:\n",
        "        return str(id)\n",
        "    else:\n",
        "        return '[%d %d %1.2f]' % (id, count, R[n-id,3])\n",
        "\n",
        "\n",
        "# Plot the dendrogram\n",
        "plt.figure(figsize=(10, 7))\n",
        "dendrogram(linked\n",
        "           ,truncate_mode=\"level\" ,p= 7\n",
        "          )\n",
        "plt.title('Hierarchical Clustering Dendrogram')\n",
        "plt.xlabel('Data Points or Cluster Labels')\n",
        "plt.ylabel('Distance (Euclidean)')\n",
        "plt.xticks()\n",
        "plt.show()\n"
      ]
    },
    {
      "cell_type": "markdown",
      "metadata": {
        "id": "yGOt-3pHTJDt"
      },
      "source": [
        "**What does this show?**  \n",
        "The y-axis of a dendrogram represents the distance or similarity between clusters when they are merged.\n",
        "We selected 'ward' method, hence distance metric used in this case is the variance increase (within-cluster) when clusters are merged.\n",
        "\n",
        "**So what?**  \n",
        "By analyzing the y-axis, which represents the distance or dissimilarity between merged clusters, you can determine the point at which clusters should stop being merged to retain meaningful groupings in your data.\n",
        "By drawing an imaginatory horizontal line, we can pick the 'optimal number of clusters', i.e. when clusters start to become similar (low distance on the y-axis) to each other.\n",
        "\n"
      ]
    },
    {
      "cell_type": "markdown",
      "metadata": {
        "id": "--oVvbqtTJDt"
      },
      "source": [
        "### <span style=\"color:BLUE\"> **>>> DISCUSSION:**  </span>     \n",
        "How many clusters should we opt for in this case?  "
      ]
    },
    {
      "cell_type": "markdown",
      "metadata": {
        "id": "opm9joCRTJDt"
      },
      "source": [
        "## 2.3 - DBSCAN (Bonus content)\n",
        "DBSCAN stands for Density-Based Spatial Clustering of Applications with Noise.  \n",
        "DBSCAN clusters data points that are close to each other based on density, with points in low-density regions considered as noise (outliers).  \n",
        "\n",
        "**Advantages**\n",
        "- Does not require specifying the number of clusters upfront\n",
        "- Can find arbitrarily shaped clusters (see slides)\n",
        "- Effectively identifies outliers\n",
        "\n",
        "**Disadvantages**\n",
        "- Sensitive to the choice of parameters (epsilon and min_samples) - see below!\n",
        "> **eps (epsilon)**: The maximum distance between two samples for them to be considered as in the same neighborhood.  \n",
        "> **min_samples**: The minimum number of samples required in a neighborhood to form a core point (a point that can s\n",
        "- Expects data to be standardised or normalised"
      ]
    },
    {
      "cell_type": "code",
      "execution_count": null,
      "metadata": {
        "id": "77UoT6UnTJDu"
      },
      "outputs": [],
      "source": [
        "from sklearn.cluster import DBSCAN\n",
        "\n",
        "epsilon_range = range(1, 10, 2)\n",
        "min_samples_range = range(1, 10, 2)\n",
        "\n",
        "for epsilon in epsilon_range:\n",
        "    for minimum_samples in min_samples_range:\n",
        "\n",
        "        if epsilon == 0:  # DBSCAN requires epsilon > 0, so skip this\n",
        "            continue\n",
        "\n",
        "        # Apply DBSCAN with the current pair of parameters\n",
        "        dbscan = DBSCAN(eps=epsilon, min_samples=minimum_samples)\n",
        "        data_for_clustering['cluster-dbscan'] = dbscan.fit_predict(data_for_clustering[['annual_inc', 'loan_amnt']])\n",
        "\n",
        "        # Count and print the number of clusters (excluding noise labeled as -1)\n",
        "        n_clusters = len(set(data_for_clustering['cluster-dbscan']) - {-1})\n",
        "        print(f\"eps={epsilon}, min_samples={minimum_samples}: Number of clusters identified = {n_clusters}\")\n"
      ]
    },
    {
      "cell_type": "markdown",
      "metadata": {
        "id": "9Sry28aY7ZcR"
      },
      "source": [
        "To determine a good starting value for the eps parameter in DBSCAN, you can use a K-nearest neighbors (KNN) distance plot. This plot helps you visualize the distance to the nearest neighbors and identify a suitable eps value where the slope of the curve changes significantly (often called the \"elbow point\")."
      ]
    },
    {
      "cell_type": "code",
      "execution_count": null,
      "metadata": {
        "id": "2su8-j_k7ZcR"
      },
      "outputs": [],
      "source": [
        "from sklearn.neighbors import NearestNeighbors\n",
        "\n",
        "# Select relevant features for clustering\n",
        "X = data_for_clustering[['annual_inc', 'loan_amnt']].values\n",
        "\n",
        "# Fit Nearest Neighbors model to the data (for k = 4 because DBSCAN typically considers 4 nearest neighbors)\n",
        "neighbors = NearestNeighbors(n_neighbors=4)\n",
        "neighbors_fit = neighbors.fit(X)\n",
        "\n",
        "# Calculate distances and sort them\n",
        "distances, indices = neighbors_fit.kneighbors(X)\n",
        "distances = np.sort(distances[:, 3])  # Sort distances to the 4th nearest neighbor\n",
        "\n",
        "# Plot KNN distance plot\n",
        "plt.figure(figsize=(8, 5))\n",
        "plt.plot(distances)\n",
        "plt.title('KNN Distance Plot')\n",
        "plt.xlabel('Data Points sorted by distance')\n",
        "plt.ylabel('4th Nearest Neighbor Distance')\n",
        "plt.show()"
      ]
    },
    {
      "cell_type": "code",
      "execution_count": null,
      "metadata": {
        "id": "QtGtUzlz7ZcR"
      },
      "outputs": [],
      "source": [
        "epsilon = 950\n",
        "min_samples_range = range(1, 10, 1)\n",
        "\n",
        "for minimum_samples in min_samples_range:\n",
        "\n",
        "    # Apply DBSCAN with the current pair of parameters\n",
        "    dbscan = DBSCAN(eps=epsilon, min_samples=minimum_samples)\n",
        "    data_for_clustering['cluster-dbscan'] = dbscan.fit_predict(data_for_clustering[['annual_inc', 'loan_amnt']])\n",
        "\n",
        "    # Count and print the number of clusters (excluding noise labeled as -1)\n",
        "    n_clusters = len(set(data_for_clustering['cluster-dbscan']) - {-1})\n",
        "    print(f\"eps={epsilon}, min_samples={minimum_samples}: Number of clusters identified = {n_clusters}\")\n"
      ]
    },
    {
      "cell_type": "code",
      "execution_count": null,
      "metadata": {
        "id": "U7omBga77ZcR"
      },
      "outputs": [],
      "source": [
        "chosen_min_samples = 8\n",
        "dbscan = DBSCAN(eps=epsilon, min_samples=chosen_min_samples)\n",
        "data_for_clustering['cluster-dbscan'] = dbscan.fit_predict(data_for_clustering)\n",
        "print(f\"Number of clusters: {len(data_for_clustering['cluster-dbscan'].unique())-1}\")"
      ]
    },
    {
      "cell_type": "code",
      "execution_count": null,
      "metadata": {
        "id": "Xsy8g3qz7ZcR"
      },
      "outputs": [],
      "source": [
        "import matplotlib.pyplot as plt\n",
        "import seaborn as sns\n",
        "\n",
        "# Define unique cluster labels\n",
        "unique_labels = data_for_clustering['cluster-dbscan'].unique()\n",
        "\n",
        "# Create a color map for categorical clusters\n",
        "colors = sns.color_palette('plasma', len(unique_labels))\n",
        "# # Manually specify distinct colors for each cluster\n",
        "# colors = ['red', 'blue', 'green', 'orange', 'purple', 'brown', 'pink']  # Add more if needed\n",
        "\n",
        "# Create a dictionary to map cluster labels to colors\n",
        "color_map = dict(zip(unique_labels, colors))\n",
        "\n",
        "# Create scatter plot with categorical colors\n",
        "plt.figure(figsize=(10, 6))\n",
        "for label in unique_labels:\n",
        "    plt.scatter(data_for_clustering[data_for_clustering['cluster-dbscan'] == label]['annual_inc'],\n",
        "                data_for_clustering[data_for_clustering['cluster-dbscan'] == label]['loan_amnt'],\n",
        "                color=color_map[label],\n",
        "                label=f'Cluster {label}')\n",
        "\n",
        "# Add labels and title\n",
        "plt.xlabel('Annual Income')\n",
        "plt.ylabel('Loan Amount')\n",
        "plt.title('DBSCAN Clustering: Annual Income vs Loan Amount')\n",
        "\n",
        "# Add legend for categorical clusters\n",
        "plt.legend(title='Clusters')\n",
        "plt.show()"
      ]
    },
    {
      "cell_type": "markdown",
      "metadata": {
        "id": "1Iw27GMK7ZcR"
      },
      "source": [
        "If your DBSCAN is identifying a large number of outliers and very few clusters, it typically means that the eps parameter is too small or the min_samples parameter is too large.\n",
        "\n",
        "Few things you can do to adjust:  \n",
        "- Increase epsilon and decrease min_sample params  \n",
        "- Check data scaling: make sure the data has been standardized or normalized  \n"
      ]
    },
    {
      "cell_type": "markdown",
      "metadata": {
        "id": "T7HcKGGSTJEM"
      },
      "source": [
        "# 3 - Principal Component Analysis (PCA)\n",
        "Principal Component Analysis (PCA) is a technique for dimensionality reduction and feature extraction that can be used to simplify complex datasets, identify patterns, and improve model performance.\n",
        "\n",
        "\n",
        "## 3.1 - Applications\n",
        "\n",
        "PCA is often used to:\n",
        "- reduce dimensionality in the data - in particular the **curse of dimensionality** refers to challenges that highly-dimensional data leads to, such as overfitting, increased computational cost, and difficulty in visualisation/interpretability. Principal Component Analysis (PCA) is a technique that helps mitigate these problems by reducing the number of dimensions while retaining most of the variability in the data.\n",
        "- for segmentation purposes: PCA can be helpful to visualise segments, having reduced multi dimensional data into lower dimensional space (e.g. 2 PCs).\n",
        "\n",
        "\n",
        "## 3.2 - How does it work?\n",
        "\n",
        "PCA is a linear transformation technique that projects data into a new coordinate system. The new coordinates, called **principal components**, are ordered by the amount of variance they capture from the data. We say that the new features that are **linear combinations** of the original features.\n",
        "\n",
        "**Steps followed:**\n",
        "1. **Standardize the Data:** Center the data around the mean and scale it to unit variance.\n",
        "2. **Compute the Covariance Matrix:** Measure the covariance between features.\n",
        "3. **Calculate Eigenvalues and Eigenvectors:** Determine the principal components.\n",
        "4. **Sort and Select Principal Components:** Choose components that capture the most variance.\n",
        "5. **Transform the Data:** Project data onto the selected principal components.\n",
        "\n",
        "More details [here](https://en.wikipedia.org/wiki/Principal_component_analysis).\n"
      ]
    },
    {
      "cell_type": "markdown",
      "metadata": {
        "id": "5mcPA7pj7ZcR"
      },
      "source": [
        "## 3.3. Python implementation\n",
        "\n",
        "In this section, we will see a very common workflow consisting of:\n",
        "- Running PCA\n",
        "- Then running analysis on top of PCA outputs, more specifically:\n",
        "    - Outlier detection\n",
        "    - Segmentation"
      ]
    },
    {
      "cell_type": "markdown",
      "metadata": {
        "id": "4NsJG2_z7ZcR"
      },
      "source": [
        "### 3.3.1 - PCA"
      ]
    },
    {
      "cell_type": "code",
      "execution_count": null,
      "metadata": {
        "id": "LGgMPU6MTJEM"
      },
      "outputs": [],
      "source": [
        "from sklearn.preprocessing import StandardScaler\n",
        "from sklearn.decomposition import PCA"
      ]
    },
    {
      "cell_type": "code",
      "execution_count": null,
      "metadata": {
        "id": "CHmUux5z7ZcR"
      },
      "outputs": [],
      "source": [
        "df.head()"
      ]
    },
    {
      "cell_type": "code",
      "execution_count": null,
      "metadata": {
        "id": "WB92zXRxTJEM"
      },
      "outputs": [],
      "source": [
        "scaler = StandardScaler()\n",
        "df_scaled = scaler.fit_transform(df)\n",
        "len(df_scaled), len(df_scaled[0])"
      ]
    },
    {
      "cell_type": "code",
      "execution_count": null,
      "metadata": {
        "id": "WDy0Ge0YTJEM"
      },
      "outputs": [],
      "source": [
        "# Initialize PCA with the number of components you want to keep\n",
        "pca = PCA(n_components=2)  # Reduce to 2 dimensions, often used for visualization\n",
        "df_pca = pd.DataFrame(pca.fit_transform(df_scaled)\n",
        "                      , columns = [\"pc1\", \"pc2\"])\n",
        "\n",
        "# Explained variance ratio\n",
        "explained_variance = pca.explained_variance_ratio_\n",
        "print(\"Explained variance ratio by component:\", explained_variance)\n",
        "\n",
        "# Cumulative explained variance\n",
        "cumulative_variance = np.cumsum(explained_variance)\n",
        "print(\"Cumulative explained variance:\", cumulative_variance)\n"
      ]
    },
    {
      "cell_type": "markdown",
      "metadata": {
        "id": "wORegmObTJEN"
      },
      "source": [
        "**Explained Variance Ratio** indicates the proportion of the dataset's total variance that is captured by each principal component.  \n",
        "**Cumulative Explained Variance** is the sum of the explained variance ratios up to a given principal component, i.e. total proportion of the variance explained by the first *'X'* principal components.\n",
        "\n",
        "**Caveat:** 23% not good enough to use these principal components alone, we would need to add a few more to get to 80%+ (rule of thumb) to use PCs instead of original data. Sticking to 2 here for explainability purposes.  "
      ]
    },
    {
      "cell_type": "code",
      "execution_count": null,
      "metadata": {
        "id": "WwullFPuTJEN"
      },
      "outputs": [],
      "source": [
        "# Plot the transformed data\n",
        "plt.figure(figsize=(8, 6))\n",
        "plt.scatter(df_pca[\"pc1\"], df_pca[\"pc2\"], alpha=0.7)\n",
        "plt.xlabel('Principal Component 1')\n",
        "plt.ylabel('Principal Component 2')\n",
        "plt.title('PCA - 2D Projection of the Data')\n",
        "plt.show()\n",
        "\n"
      ]
    },
    {
      "cell_type": "markdown",
      "metadata": {
        "id": "Chi-Gp0pTJEN"
      },
      "source": [
        "PCA can be useful in conjunction with clustering techniques as a visualisation tool.\n",
        "\n",
        "By projecting high-dimensional data into a 2D or 3D space, PCA allows the different clusters identified to be visualized in a way that is easy to interpret. This helps in validating whether the clusters are well-separated or overlapping, providing a clearer understanding of the underlying data structure.\n",
        "\n",
        "From a business perspective, this visualization aids in making data-driven decisions. For instance, if a company segments its customers into different clusters based on purchasing behavior, PCA can help visualize these segments, revealing insights about customer groups that might not be immediately obvious. This can lead to more targeted marketing strategies, better customer service, and optimized product offerings tailored to the specific needs of different customer segments, ultimately driving higher customer satisfaction and business performance."
      ]
    },
    {
      "cell_type": "code",
      "execution_count": null,
      "metadata": {
        "id": "kvVMjpAS7ZcR"
      },
      "outputs": [],
      "source": [
        "df_pca.head()"
      ]
    },
    {
      "cell_type": "markdown",
      "metadata": {
        "id": "prnDK_3V7ZcR"
      },
      "source": [
        "### 3.3.2 - Outlier detection on top of PCs"
      ]
    },
    {
      "cell_type": "code",
      "execution_count": null,
      "metadata": {
        "id": "x9Er1jPH7ZcR"
      },
      "outputs": [],
      "source": [
        "from scipy import stats\n",
        "\n",
        "for col in [\"pc1\", \"pc2\"]:\n",
        "\n",
        "    print(f\"### Column: {col} ###\")\n",
        "    # Calculate the Z-score for a specific column (e.g., annual_inc)\n",
        "    df_pca[f\"{col}_zscore\"] = np.abs(stats.zscore(df_pca[f\"{col}\"]))\n",
        "\n",
        "    # Flag outliers (Z-score > 3)\n",
        "    outliers = df_pca[df_pca[f\"{col}_zscore\"] > 3]\n",
        "    print(f\"Outliers detected using z-scores: {len(outliers)}\")"
      ]
    },
    {
      "cell_type": "code",
      "execution_count": null,
      "metadata": {
        "id": "-MPw_qHZ7ZcS"
      },
      "outputs": [],
      "source": [
        "df_pca.head()"
      ]
    },
    {
      "cell_type": "markdown",
      "metadata": {
        "id": "SzeXp5_V7ZcS"
      },
      "source": [
        "### 3.3.3 - Clustering on top of PCs"
      ]
    },
    {
      "cell_type": "code",
      "execution_count": null,
      "metadata": {
        "id": "NbV-XgSz7ZcS"
      },
      "outputs": [],
      "source": [
        "from sklearn.cluster import KMeans\n",
        "import matplotlib.pyplot as plt\n",
        "\n",
        "# Applying K-Means\n",
        "kmeans = KMeans(n_clusters=3, random_state=42)\n",
        "df_pca['cluster-km'] = kmeans.fit_predict(df_pca)\n",
        "df_pca.head()"
      ]
    },
    {
      "cell_type": "code",
      "execution_count": null,
      "metadata": {
        "id": "8mN4wB0j7ZcS"
      },
      "outputs": [],
      "source": [
        "# Visualize the clusters\n",
        "plt.scatter(df_pca['pc1'], df_pca['pc2'], c=df_pca['cluster-km'], cmap='viridis')\n",
        "plt.xlabel('Principal Component 1')\n",
        "plt.ylabel('Principal Component 2')\n",
        "plt.title('K-Means Clustering')\n",
        "plt.show()\n"
      ]
    },
    {
      "cell_type": "code",
      "execution_count": null,
      "metadata": {
        "id": "Y7O8bLVV7ZcS"
      },
      "outputs": [],
      "source": [
        "df_pca.head()"
      ]
    },
    {
      "cell_type": "code",
      "execution_count": null,
      "metadata": {
        "id": "xVPbMkFk7ZcS"
      },
      "outputs": [],
      "source": [
        "df.head()"
      ]
    },
    {
      "cell_type": "code",
      "execution_count": null,
      "metadata": {
        "id": "gCRp5VWa7ZcS"
      },
      "outputs": [],
      "source": [
        "df_pca.index = df.index\n",
        "df_pca.head()"
      ]
    },
    {
      "cell_type": "code",
      "execution_count": null,
      "metadata": {
        "scrolled": true,
        "id": "LDhdEHuM7ZcS"
      },
      "outputs": [],
      "source": [
        "df_merged = pd.merge(df_pca[[\"pc1\", \"pc2\", \"cluster-km\"]]\n",
        "                     , df\n",
        "                     , how = \"inner\"\n",
        "                    , left_index=True\n",
        "                    , right_index=True)\n",
        "df_merged.head()"
      ]
    },
    {
      "cell_type": "code",
      "execution_count": null,
      "metadata": {
        "id": "HfrJZRfi7ZcS"
      },
      "outputs": [],
      "source": [
        "# Provide key Statistics by cluster\n",
        "pca_cluster_summary = df_merged \\\n",
        "    .groupby([\"cluster-km\"]) \\\n",
        "    .agg(['median'])#, 'median', 'std', 'min', 'max'])\n",
        "print(\"Key stats by cluster:\")\n",
        "\n",
        "# Set float format to display with 2 decimal places\n",
        "pd.options.display.float_format = '{:.2f}'.format\n",
        "\n",
        "pca_cluster_summary\n"
      ]
    },
    {
      "cell_type": "markdown",
      "metadata": {
        "id": "zgEVULaBTJEN"
      },
      "source": [
        "4\\. Assignment: Create a customer segmentation\n",
        "----------------------------------------------------\n",
        "\n",
        "### Objective\n",
        "\n",
        "The goal of this assignment is to segment a credit card customer base into different groups for marketing and customer management purposes.\n",
        "\n",
        "### Dataset\n",
        "\n",
        "Use the following dataset available on Kaggle:\n",
        "1. Title – Customer Credit Card Data\n",
        "2. Author  - n.a., Fatemeh Habibimoghaddam (Owner)\n",
        "3. Source – https://www.kaggle.com/datasets/fhabibimoghaddam/customer-credit-card-data   \n",
        "(alternatively, can be found in `DSIF-course-material/python-material/data/1-raw/dsif8-assignment`)\n",
        "3. License – Attribution 4.0 International (CC BY 4.0)\n",
        "\n",
        "### Instructions\n",
        "-   **Load and Explore the Data:** Start by loading the data and performing basic exploratory data analysis (EDA).\n",
        "-   **Data Preprocessing:** Handle missing values, standardize the data, and prepare it for clustering.\n",
        "-   **Clustering:** Apply clustering techniques like K-Means or Hierarchical Clustering to segment the customers. Optionally, use PCA to reduce dimensionality before clustering.\n",
        "-   **Segmentation and interpretation:** Create meaningful and valid customer segments (at least 2, pick the number that works best for you based on your analysis) that can be leveraged for targeted marketing, customer management, and strategic decision-making.\n",
        "\n",
        "### Submission\n",
        "Submit your Python code and a brief analysis using Markdown comments summarizing your findings and insights."
      ]
    },
    {
      "cell_type": "code",
      "execution_count": null,
      "metadata": {
        "id": "34dXg53m7ZcS"
      },
      "outputs": [],
      "source": []
    },
    {
      "cell_type": "code",
      "execution_count": null,
      "metadata": {
        "id": "q9QHi2M97ZcS"
      },
      "outputs": [],
      "source": []
    },
    {
      "cell_type": "markdown",
      "metadata": {
        "id": "twdLpZECTJEO"
      },
      "source": [
        "### Useful references\n",
        "- [Example of CACI segmentation products](https://www.caci.co.uk/datasets/fresco/): can give you some ideas of what a good segmentation may look like\n",
        "- [Nationwide segmentation use case](https://www.caci.co.uk/insights/case-studies/nationwide/)\n",
        "- Some more on customer segmentation: https://www.caci.co.uk/services/data-science-analytics/customer-segmentation/"
      ]
    },
    {
      "cell_type": "markdown",
      "metadata": {
        "id": "Ho6EK9UKTJEQ"
      },
      "source": [
        "# End of session"
      ]
    },
    {
      "cell_type": "code",
      "execution_count": null,
      "metadata": {
        "id": "kb0QdoUETJEQ"
      },
      "outputs": [],
      "source": [
        "from IPython.display import Image\n",
        "Image(filename=f\"{path_python_material}/images/the-end.jpg\", width=500,)\n"
      ]
    },
    {
      "cell_type": "code",
      "execution_count": null,
      "metadata": {
        "id": "oXEHwyeTTJEQ"
      },
      "outputs": [],
      "source": []
    },
    {
      "cell_type": "markdown",
      "source": [
        "## Home Assignment: Create a customer segmentation\n",
        "segment a credit card customer base into different groups for marketing and customer management purposes.\n"
      ],
      "metadata": {
        "id": "WZ95BCd-94Ed"
      }
    },
    {
      "cell_type": "markdown",
      "source": [
        "STEP1: Load and Explore the Data: Start by loading the data and performing basic exploratory data analysis (EDA)."
      ],
      "metadata": {
        "id": "e-5dW-Vf-lsj"
      }
    },
    {
      "cell_type": "code",
      "source": [
        "import pandas as pd\n",
        "import numpy as np\n",
        "\n",
        "pd.set_option('display.max_columns', None)\n",
        "pd.set_option('display.max_rows', None)\n",
        "\n",
        "python_material_folder_name = \"python-material\"\n",
        "\n",
        "try:\n",
        "    from google.colab import drive\n",
        "    # Mount drive\n",
        "    drive.mount('/content/drive')\n",
        "    # Set up path to Python material parent folder\n",
        "    path_python_material = rf\"drive/MyDrive/{python_material_folder_name}\"\n",
        "        # If unsure, print current directory path by executing the following in a new cell:\n",
        "        # !pwd\n",
        "    IN_COLAB = True\n",
        "except:\n",
        "    IN_COLAB = False\n",
        "    # If working locally on Jupyter Notebook, parent folder is one folder up (assuming you are using the folder structure shared at the beginning of the course)\n",
        "    path_python_material = \"..\"\n",
        "\n",
        "\n",
        "df = pd.read_csv(f\"drive/MyDrive/AI/PUBLIC_CSV/dsif8-assignment/Customer_Data.csv\").sample(1000)\n",
        "\n",
        "df.head()"
      ],
      "metadata": {
        "colab": {
          "base_uri": "https://localhost:8080/",
          "height": 244
        },
        "id": "JgK2Y62f-Nb8",
        "outputId": "638358b5-31ec-45ac-8132-4a1993c1574b"
      },
      "execution_count": 8,
      "outputs": [
        {
          "output_type": "stream",
          "name": "stdout",
          "text": [
            "Mounted at /content/drive\n"
          ]
        },
        {
          "output_type": "execute_result",
          "data": {
            "text/plain": [
              "     CUST_ID      BALANCE  BALANCE_FREQUENCY  PURCHASES  ONE_OFF_PURCHASES  \\\n",
              "4280  C14398    79.345909           1.000000     906.50                0.0   \n",
              "8870  C19111   100.427621           1.000000     793.28                0.0   \n",
              "3983  C14095  1126.942655           1.000000       0.00                0.0   \n",
              "6289  C16464  2276.666051           1.000000      87.51                0.0   \n",
              "7621  C17827  5471.186593           0.777778       0.00                0.0   \n",
              "\n",
              "      INSTALLMENTS_PURCHASES  CASH_ADVANCE  PURCHASES_FREQUENCY  \\\n",
              "4280                  906.50      0.000000             1.000000   \n",
              "8870                  793.28      0.000000             1.000000   \n",
              "3983                    0.00     86.437024             0.000000   \n",
              "6289                   87.51      0.000000             0.583333   \n",
              "7621                    0.00   8411.998221             0.000000   \n",
              "\n",
              "      ONE_OFF_PURCHASES_FREQUENCY  PURCHASES_INSTALLMENTS_FREQUENCY  \\\n",
              "4280                          0.0                          0.916667   \n",
              "8870                          0.0                          0.875000   \n",
              "3983                          0.0                          0.000000   \n",
              "6289                          0.0                          0.583333   \n",
              "7621                          0.0                          0.000000   \n",
              "\n",
              "      CASH_ADVANCE_FREQUENCY  CASH_ADVANCE_TRX  PURCHASES_TRX  CREDIT_LIMIT  \\\n",
              "4280                0.000000                 0             12        6000.0   \n",
              "8870                0.000000                 0              8        1000.0   \n",
              "3983                0.166667                 2              0        1200.0   \n",
              "6289                0.000000                 0             11        8000.0   \n",
              "7621                0.555556                10              0        9000.0   \n",
              "\n",
              "         PAYMENTS  MINIMUM_PAYMENTS  PRC_FULL_PAYMENT  TENURE  \n",
              "4280   922.337660        180.755765          0.916667      12  \n",
              "8870   679.031744        117.258435          1.000000       8  \n",
              "3983   353.897911        231.575224          0.000000      12  \n",
              "6289   605.029703        700.831872          0.000000      12  \n",
              "7621  1281.454609       1401.967646          0.000000       9  "
            ],
            "text/html": [
              "\n",
              "  <div id=\"df-e813a97c-f5c0-4a97-8b0b-7f44faec9eeb\" class=\"colab-df-container\">\n",
              "    <div>\n",
              "<style scoped>\n",
              "    .dataframe tbody tr th:only-of-type {\n",
              "        vertical-align: middle;\n",
              "    }\n",
              "\n",
              "    .dataframe tbody tr th {\n",
              "        vertical-align: top;\n",
              "    }\n",
              "\n",
              "    .dataframe thead th {\n",
              "        text-align: right;\n",
              "    }\n",
              "</style>\n",
              "<table border=\"1\" class=\"dataframe\">\n",
              "  <thead>\n",
              "    <tr style=\"text-align: right;\">\n",
              "      <th></th>\n",
              "      <th>CUST_ID</th>\n",
              "      <th>BALANCE</th>\n",
              "      <th>BALANCE_FREQUENCY</th>\n",
              "      <th>PURCHASES</th>\n",
              "      <th>ONE_OFF_PURCHASES</th>\n",
              "      <th>INSTALLMENTS_PURCHASES</th>\n",
              "      <th>CASH_ADVANCE</th>\n",
              "      <th>PURCHASES_FREQUENCY</th>\n",
              "      <th>ONE_OFF_PURCHASES_FREQUENCY</th>\n",
              "      <th>PURCHASES_INSTALLMENTS_FREQUENCY</th>\n",
              "      <th>CASH_ADVANCE_FREQUENCY</th>\n",
              "      <th>CASH_ADVANCE_TRX</th>\n",
              "      <th>PURCHASES_TRX</th>\n",
              "      <th>CREDIT_LIMIT</th>\n",
              "      <th>PAYMENTS</th>\n",
              "      <th>MINIMUM_PAYMENTS</th>\n",
              "      <th>PRC_FULL_PAYMENT</th>\n",
              "      <th>TENURE</th>\n",
              "    </tr>\n",
              "  </thead>\n",
              "  <tbody>\n",
              "    <tr>\n",
              "      <th>4280</th>\n",
              "      <td>C14398</td>\n",
              "      <td>79.345909</td>\n",
              "      <td>1.000000</td>\n",
              "      <td>906.50</td>\n",
              "      <td>0.0</td>\n",
              "      <td>906.50</td>\n",
              "      <td>0.000000</td>\n",
              "      <td>1.000000</td>\n",
              "      <td>0.0</td>\n",
              "      <td>0.916667</td>\n",
              "      <td>0.000000</td>\n",
              "      <td>0</td>\n",
              "      <td>12</td>\n",
              "      <td>6000.0</td>\n",
              "      <td>922.337660</td>\n",
              "      <td>180.755765</td>\n",
              "      <td>0.916667</td>\n",
              "      <td>12</td>\n",
              "    </tr>\n",
              "    <tr>\n",
              "      <th>8870</th>\n",
              "      <td>C19111</td>\n",
              "      <td>100.427621</td>\n",
              "      <td>1.000000</td>\n",
              "      <td>793.28</td>\n",
              "      <td>0.0</td>\n",
              "      <td>793.28</td>\n",
              "      <td>0.000000</td>\n",
              "      <td>1.000000</td>\n",
              "      <td>0.0</td>\n",
              "      <td>0.875000</td>\n",
              "      <td>0.000000</td>\n",
              "      <td>0</td>\n",
              "      <td>8</td>\n",
              "      <td>1000.0</td>\n",
              "      <td>679.031744</td>\n",
              "      <td>117.258435</td>\n",
              "      <td>1.000000</td>\n",
              "      <td>8</td>\n",
              "    </tr>\n",
              "    <tr>\n",
              "      <th>3983</th>\n",
              "      <td>C14095</td>\n",
              "      <td>1126.942655</td>\n",
              "      <td>1.000000</td>\n",
              "      <td>0.00</td>\n",
              "      <td>0.0</td>\n",
              "      <td>0.00</td>\n",
              "      <td>86.437024</td>\n",
              "      <td>0.000000</td>\n",
              "      <td>0.0</td>\n",
              "      <td>0.000000</td>\n",
              "      <td>0.166667</td>\n",
              "      <td>2</td>\n",
              "      <td>0</td>\n",
              "      <td>1200.0</td>\n",
              "      <td>353.897911</td>\n",
              "      <td>231.575224</td>\n",
              "      <td>0.000000</td>\n",
              "      <td>12</td>\n",
              "    </tr>\n",
              "    <tr>\n",
              "      <th>6289</th>\n",
              "      <td>C16464</td>\n",
              "      <td>2276.666051</td>\n",
              "      <td>1.000000</td>\n",
              "      <td>87.51</td>\n",
              "      <td>0.0</td>\n",
              "      <td>87.51</td>\n",
              "      <td>0.000000</td>\n",
              "      <td>0.583333</td>\n",
              "      <td>0.0</td>\n",
              "      <td>0.583333</td>\n",
              "      <td>0.000000</td>\n",
              "      <td>0</td>\n",
              "      <td>11</td>\n",
              "      <td>8000.0</td>\n",
              "      <td>605.029703</td>\n",
              "      <td>700.831872</td>\n",
              "      <td>0.000000</td>\n",
              "      <td>12</td>\n",
              "    </tr>\n",
              "    <tr>\n",
              "      <th>7621</th>\n",
              "      <td>C17827</td>\n",
              "      <td>5471.186593</td>\n",
              "      <td>0.777778</td>\n",
              "      <td>0.00</td>\n",
              "      <td>0.0</td>\n",
              "      <td>0.00</td>\n",
              "      <td>8411.998221</td>\n",
              "      <td>0.000000</td>\n",
              "      <td>0.0</td>\n",
              "      <td>0.000000</td>\n",
              "      <td>0.555556</td>\n",
              "      <td>10</td>\n",
              "      <td>0</td>\n",
              "      <td>9000.0</td>\n",
              "      <td>1281.454609</td>\n",
              "      <td>1401.967646</td>\n",
              "      <td>0.000000</td>\n",
              "      <td>9</td>\n",
              "    </tr>\n",
              "  </tbody>\n",
              "</table>\n",
              "</div>\n",
              "    <div class=\"colab-df-buttons\">\n",
              "\n",
              "  <div class=\"colab-df-container\">\n",
              "    <button class=\"colab-df-convert\" onclick=\"convertToInteractive('df-e813a97c-f5c0-4a97-8b0b-7f44faec9eeb')\"\n",
              "            title=\"Convert this dataframe to an interactive table.\"\n",
              "            style=\"display:none;\">\n",
              "\n",
              "  <svg xmlns=\"http://www.w3.org/2000/svg\" height=\"24px\" viewBox=\"0 -960 960 960\">\n",
              "    <path d=\"M120-120v-720h720v720H120Zm60-500h600v-160H180v160Zm220 220h160v-160H400v160Zm0 220h160v-160H400v160ZM180-400h160v-160H180v160Zm440 0h160v-160H620v160ZM180-180h160v-160H180v160Zm440 0h160v-160H620v160Z\"/>\n",
              "  </svg>\n",
              "    </button>\n",
              "\n",
              "  <style>\n",
              "    .colab-df-container {\n",
              "      display:flex;\n",
              "      gap: 12px;\n",
              "    }\n",
              "\n",
              "    .colab-df-convert {\n",
              "      background-color: #E8F0FE;\n",
              "      border: none;\n",
              "      border-radius: 50%;\n",
              "      cursor: pointer;\n",
              "      display: none;\n",
              "      fill: #1967D2;\n",
              "      height: 32px;\n",
              "      padding: 0 0 0 0;\n",
              "      width: 32px;\n",
              "    }\n",
              "\n",
              "    .colab-df-convert:hover {\n",
              "      background-color: #E2EBFA;\n",
              "      box-shadow: 0px 1px 2px rgba(60, 64, 67, 0.3), 0px 1px 3px 1px rgba(60, 64, 67, 0.15);\n",
              "      fill: #174EA6;\n",
              "    }\n",
              "\n",
              "    .colab-df-buttons div {\n",
              "      margin-bottom: 4px;\n",
              "    }\n",
              "\n",
              "    [theme=dark] .colab-df-convert {\n",
              "      background-color: #3B4455;\n",
              "      fill: #D2E3FC;\n",
              "    }\n",
              "\n",
              "    [theme=dark] .colab-df-convert:hover {\n",
              "      background-color: #434B5C;\n",
              "      box-shadow: 0px 1px 3px 1px rgba(0, 0, 0, 0.15);\n",
              "      filter: drop-shadow(0px 1px 2px rgba(0, 0, 0, 0.3));\n",
              "      fill: #FFFFFF;\n",
              "    }\n",
              "  </style>\n",
              "\n",
              "    <script>\n",
              "      const buttonEl =\n",
              "        document.querySelector('#df-e813a97c-f5c0-4a97-8b0b-7f44faec9eeb button.colab-df-convert');\n",
              "      buttonEl.style.display =\n",
              "        google.colab.kernel.accessAllowed ? 'block' : 'none';\n",
              "\n",
              "      async function convertToInteractive(key) {\n",
              "        const element = document.querySelector('#df-e813a97c-f5c0-4a97-8b0b-7f44faec9eeb');\n",
              "        const dataTable =\n",
              "          await google.colab.kernel.invokeFunction('convertToInteractive',\n",
              "                                                    [key], {});\n",
              "        if (!dataTable) return;\n",
              "\n",
              "        const docLinkHtml = 'Like what you see? Visit the ' +\n",
              "          '<a target=\"_blank\" href=https://colab.research.google.com/notebooks/data_table.ipynb>data table notebook</a>'\n",
              "          + ' to learn more about interactive tables.';\n",
              "        element.innerHTML = '';\n",
              "        dataTable['output_type'] = 'display_data';\n",
              "        await google.colab.output.renderOutput(dataTable, element);\n",
              "        const docLink = document.createElement('div');\n",
              "        docLink.innerHTML = docLinkHtml;\n",
              "        element.appendChild(docLink);\n",
              "      }\n",
              "    </script>\n",
              "  </div>\n",
              "\n",
              "\n",
              "<div id=\"df-c9a7f797-9aff-4c13-98fb-c9ac31929b4c\">\n",
              "  <button class=\"colab-df-quickchart\" onclick=\"quickchart('df-c9a7f797-9aff-4c13-98fb-c9ac31929b4c')\"\n",
              "            title=\"Suggest charts\"\n",
              "            style=\"display:none;\">\n",
              "\n",
              "<svg xmlns=\"http://www.w3.org/2000/svg\" height=\"24px\"viewBox=\"0 0 24 24\"\n",
              "     width=\"24px\">\n",
              "    <g>\n",
              "        <path d=\"M19 3H5c-1.1 0-2 .9-2 2v14c0 1.1.9 2 2 2h14c1.1 0 2-.9 2-2V5c0-1.1-.9-2-2-2zM9 17H7v-7h2v7zm4 0h-2V7h2v10zm4 0h-2v-4h2v4z\"/>\n",
              "    </g>\n",
              "</svg>\n",
              "  </button>\n",
              "\n",
              "<style>\n",
              "  .colab-df-quickchart {\n",
              "      --bg-color: #E8F0FE;\n",
              "      --fill-color: #1967D2;\n",
              "      --hover-bg-color: #E2EBFA;\n",
              "      --hover-fill-color: #174EA6;\n",
              "      --disabled-fill-color: #AAA;\n",
              "      --disabled-bg-color: #DDD;\n",
              "  }\n",
              "\n",
              "  [theme=dark] .colab-df-quickchart {\n",
              "      --bg-color: #3B4455;\n",
              "      --fill-color: #D2E3FC;\n",
              "      --hover-bg-color: #434B5C;\n",
              "      --hover-fill-color: #FFFFFF;\n",
              "      --disabled-bg-color: #3B4455;\n",
              "      --disabled-fill-color: #666;\n",
              "  }\n",
              "\n",
              "  .colab-df-quickchart {\n",
              "    background-color: var(--bg-color);\n",
              "    border: none;\n",
              "    border-radius: 50%;\n",
              "    cursor: pointer;\n",
              "    display: none;\n",
              "    fill: var(--fill-color);\n",
              "    height: 32px;\n",
              "    padding: 0;\n",
              "    width: 32px;\n",
              "  }\n",
              "\n",
              "  .colab-df-quickchart:hover {\n",
              "    background-color: var(--hover-bg-color);\n",
              "    box-shadow: 0 1px 2px rgba(60, 64, 67, 0.3), 0 1px 3px 1px rgba(60, 64, 67, 0.15);\n",
              "    fill: var(--button-hover-fill-color);\n",
              "  }\n",
              "\n",
              "  .colab-df-quickchart-complete:disabled,\n",
              "  .colab-df-quickchart-complete:disabled:hover {\n",
              "    background-color: var(--disabled-bg-color);\n",
              "    fill: var(--disabled-fill-color);\n",
              "    box-shadow: none;\n",
              "  }\n",
              "\n",
              "  .colab-df-spinner {\n",
              "    border: 2px solid var(--fill-color);\n",
              "    border-color: transparent;\n",
              "    border-bottom-color: var(--fill-color);\n",
              "    animation:\n",
              "      spin 1s steps(1) infinite;\n",
              "  }\n",
              "\n",
              "  @keyframes spin {\n",
              "    0% {\n",
              "      border-color: transparent;\n",
              "      border-bottom-color: var(--fill-color);\n",
              "      border-left-color: var(--fill-color);\n",
              "    }\n",
              "    20% {\n",
              "      border-color: transparent;\n",
              "      border-left-color: var(--fill-color);\n",
              "      border-top-color: var(--fill-color);\n",
              "    }\n",
              "    30% {\n",
              "      border-color: transparent;\n",
              "      border-left-color: var(--fill-color);\n",
              "      border-top-color: var(--fill-color);\n",
              "      border-right-color: var(--fill-color);\n",
              "    }\n",
              "    40% {\n",
              "      border-color: transparent;\n",
              "      border-right-color: var(--fill-color);\n",
              "      border-top-color: var(--fill-color);\n",
              "    }\n",
              "    60% {\n",
              "      border-color: transparent;\n",
              "      border-right-color: var(--fill-color);\n",
              "    }\n",
              "    80% {\n",
              "      border-color: transparent;\n",
              "      border-right-color: var(--fill-color);\n",
              "      border-bottom-color: var(--fill-color);\n",
              "    }\n",
              "    90% {\n",
              "      border-color: transparent;\n",
              "      border-bottom-color: var(--fill-color);\n",
              "    }\n",
              "  }\n",
              "</style>\n",
              "\n",
              "  <script>\n",
              "    async function quickchart(key) {\n",
              "      const quickchartButtonEl =\n",
              "        document.querySelector('#' + key + ' button');\n",
              "      quickchartButtonEl.disabled = true;  // To prevent multiple clicks.\n",
              "      quickchartButtonEl.classList.add('colab-df-spinner');\n",
              "      try {\n",
              "        const charts = await google.colab.kernel.invokeFunction(\n",
              "            'suggestCharts', [key], {});\n",
              "      } catch (error) {\n",
              "        console.error('Error during call to suggestCharts:', error);\n",
              "      }\n",
              "      quickchartButtonEl.classList.remove('colab-df-spinner');\n",
              "      quickchartButtonEl.classList.add('colab-df-quickchart-complete');\n",
              "    }\n",
              "    (() => {\n",
              "      let quickchartButtonEl =\n",
              "        document.querySelector('#df-c9a7f797-9aff-4c13-98fb-c9ac31929b4c button');\n",
              "      quickchartButtonEl.style.display =\n",
              "        google.colab.kernel.accessAllowed ? 'block' : 'none';\n",
              "    })();\n",
              "  </script>\n",
              "</div>\n",
              "    </div>\n",
              "  </div>\n"
            ],
            "application/vnd.google.colaboratory.intrinsic+json": {
              "type": "dataframe",
              "variable_name": "df",
              "summary": "{\n  \"name\": \"df\",\n  \"rows\": 1000,\n  \"fields\": [\n    {\n      \"column\": \"CUST_ID\",\n      \"properties\": {\n        \"dtype\": \"string\",\n        \"num_unique_values\": 1000,\n        \"samples\": [\n          \"C16775\",\n          \"C15149\",\n          \"C13848\"\n        ],\n        \"semantic_type\": \"\",\n        \"description\": \"\"\n      }\n    },\n    {\n      \"column\": \"BALANCE\",\n      \"properties\": {\n        \"dtype\": \"number\",\n        \"std\": 2239.3911723828496,\n        \"min\": 0.0,\n        \"max\": 19043.13856,\n        \"num_unique_values\": 990,\n        \"samples\": [\n          119.368715,\n          2648.244646,\n          595.677343\n        ],\n        \"semantic_type\": \"\",\n        \"description\": \"\"\n      }\n    },\n    {\n      \"column\": \"BALANCE_FREQUENCY\",\n      \"properties\": {\n        \"dtype\": \"number\",\n        \"std\": 0.2438297273530725,\n        \"min\": 0.0,\n        \"max\": 1.0,\n        \"num_unique_values\": 39,\n        \"samples\": [\n          0.625,\n          0.6,\n          0.111111\n        ],\n        \"semantic_type\": \"\",\n        \"description\": \"\"\n      }\n    },\n    {\n      \"column\": \"PURCHASES\",\n      \"properties\": {\n        \"dtype\": \"number\",\n        \"std\": 2168.425973737019,\n        \"min\": 0.0,\n        \"max\": 31299.35,\n        \"num_unique_values\": 755,\n        \"samples\": [\n          99.24,\n          324.0,\n          1888.88\n        ],\n        \"semantic_type\": \"\",\n        \"description\": \"\"\n      }\n    },\n    {\n      \"column\": \"ONE_OFF_PURCHASES\",\n      \"properties\": {\n        \"dtype\": \"number\",\n        \"std\": 1437.7454461068037,\n        \"min\": 0.0,\n        \"max\": 19064.3,\n        \"num_unique_values\": 504,\n        \"samples\": [\n          588.48,\n          1223.0,\n          1479.24\n        ],\n        \"semantic_type\": \"\",\n        \"description\": \"\"\n      }\n    },\n    {\n      \"column\": \"INSTALLMENTS_PURCHASES\",\n      \"properties\": {\n        \"dtype\": \"number\",\n        \"std\": 1052.2832755313755,\n        \"min\": 0.0,\n        \"max\": 14686.1,\n        \"num_unique_values\": 565,\n        \"samples\": [\n          417.28,\n          835.47,\n          174.46\n        ],\n        \"semantic_type\": \"\",\n        \"description\": \"\"\n      }\n    },\n    {\n      \"column\": \"CASH_ADVANCE\",\n      \"properties\": {\n        \"dtype\": \"number\",\n        \"std\": 2427.27387818643,\n        \"min\": 0.0,\n        \"max\": 27296.48576,\n        \"num_unique_values\": 489,\n        \"samples\": [\n          5997.514998,\n          1508.526487,\n          2946.839566\n        ],\n        \"semantic_type\": \"\",\n        \"description\": \"\"\n      }\n    },\n    {\n      \"column\": \"PURCHASES_FREQUENCY\",\n      \"properties\": {\n        \"dtype\": \"number\",\n        \"std\": 0.40038455045345817,\n        \"min\": 0.0,\n        \"max\": 1.0,\n        \"num_unique_values\": 40,\n        \"samples\": [\n          0.909091,\n          0.75,\n          0.166667\n        ],\n        \"semantic_type\": \"\",\n        \"description\": \"\"\n      }\n    },\n    {\n      \"column\": \"ONE_OFF_PURCHASES_FREQUENCY\",\n      \"properties\": {\n        \"dtype\": \"number\",\n        \"std\": 0.29041572185406517,\n        \"min\": 0.0,\n        \"max\": 1.0,\n        \"num_unique_values\": 32,\n        \"samples\": [\n          0.727273,\n          0.222222,\n          0.181818\n        ],\n        \"semantic_type\": \"\",\n        \"description\": \"\"\n      }\n    },\n    {\n      \"column\": \"PURCHASES_INSTALLMENTS_FREQUENCY\",\n      \"properties\": {\n        \"dtype\": \"number\",\n        \"std\": 0.39463321737797846,\n        \"min\": 0.0,\n        \"max\": 1.0,\n        \"num_unique_values\": 39,\n        \"samples\": [\n          0.090909,\n          0.125,\n          1.0\n        ],\n        \"semantic_type\": \"\",\n        \"description\": \"\"\n      }\n    },\n    {\n      \"column\": \"CASH_ADVANCE_FREQUENCY\",\n      \"properties\": {\n        \"dtype\": \"number\",\n        \"std\": 0.20166992561557423,\n        \"min\": 0.0,\n        \"max\": 1.5,\n        \"num_unique_values\": 34,\n        \"samples\": [\n          0.714286,\n          0.142857,\n          0.363636\n        ],\n        \"semantic_type\": \"\",\n        \"description\": \"\"\n      }\n    },\n    {\n      \"column\": \"CASH_ADVANCE_TRX\",\n      \"properties\": {\n        \"dtype\": \"number\",\n        \"std\": 8,\n        \"min\": 0,\n        \"max\": 123,\n        \"num_unique_values\": 35,\n        \"samples\": [\n          123,\n          4,\n          47\n        ],\n        \"semantic_type\": \"\",\n        \"description\": \"\"\n      }\n    },\n    {\n      \"column\": \"PURCHASES_TRX\",\n      \"properties\": {\n        \"dtype\": \"number\",\n        \"std\": 28,\n        \"min\": 0,\n        \"max\": 347,\n        \"num_unique_values\": 98,\n        \"samples\": [\n          54,\n          1,\n          97\n        ],\n        \"semantic_type\": \"\",\n        \"description\": \"\"\n      }\n    },\n    {\n      \"column\": \"CREDIT_LIMIT\",\n      \"properties\": {\n        \"dtype\": \"number\",\n        \"std\": 3642.151415081938,\n        \"min\": 150.0,\n        \"max\": 22000.0,\n        \"num_unique_values\": 88,\n        \"samples\": [\n          3200.0,\n          6000.0,\n          10000.0\n        ],\n        \"semantic_type\": \"\",\n        \"description\": \"\"\n      }\n    },\n    {\n      \"column\": \"PAYMENTS\",\n      \"properties\": {\n        \"dtype\": \"number\",\n        \"std\": 3135.6853944967747,\n        \"min\": 0.0,\n        \"max\": 32048.6122,\n        \"num_unique_values\": 973,\n        \"samples\": [\n          598.012696,\n          1293.523382,\n          1305.177304\n        ],\n        \"semantic_type\": \"\",\n        \"description\": \"\"\n      }\n    },\n    {\n      \"column\": \"MINIMUM_PAYMENTS\",\n      \"properties\": {\n        \"dtype\": \"number\",\n        \"std\": 2294.36400753715,\n        \"min\": 0.311953,\n        \"max\": 50260.75947,\n        \"num_unique_values\": 965,\n        \"samples\": [\n          212.358132,\n          1043.148468,\n          171.92066\n        ],\n        \"semantic_type\": \"\",\n        \"description\": \"\"\n      }\n    },\n    {\n      \"column\": \"PRC_FULL_PAYMENT\",\n      \"properties\": {\n        \"dtype\": \"number\",\n        \"std\": 0.3083974465938835,\n        \"min\": 0.0,\n        \"max\": 1.0,\n        \"num_unique_values\": 42,\n        \"samples\": [\n          0.714286,\n          0.142857,\n          0.818182\n        ],\n        \"semantic_type\": \"\",\n        \"description\": \"\"\n      }\n    },\n    {\n      \"column\": \"TENURE\",\n      \"properties\": {\n        \"dtype\": \"number\",\n        \"std\": 1,\n        \"min\": 6,\n        \"max\": 12,\n        \"num_unique_values\": 7,\n        \"samples\": [\n          12,\n          8,\n          10\n        ],\n        \"semantic_type\": \"\",\n        \"description\": \"\"\n      }\n    }\n  ]\n}"
            }
          },
          "metadata": {},
          "execution_count": 8
        }
      ]
    },
    {
      "cell_type": "markdown",
      "source": [
        "### # 1 - Outlier detection\n",
        "## 1.1 - Z scores"
      ],
      "metadata": {
        "id": "SU6k7-KhA69I"
      }
    },
    {
      "cell_type": "code",
      "source": [
        "from scipy import stats\n",
        "import numpy as np\n",
        "\n",
        "# Calculate the Z-score for column balance\n",
        "df['z_balance'] = np.abs(stats.zscore(df['BALANCE']))\n",
        "\n",
        "df.head()\n"
      ],
      "metadata": {
        "id": "uNZm9oMK-Qyt",
        "colab": {
          "base_uri": "https://localhost:8080/",
          "height": 226
        },
        "outputId": "8e7757bd-709f-4cbd-ee6a-16d59e47d0ec"
      },
      "execution_count": 12,
      "outputs": [
        {
          "output_type": "execute_result",
          "data": {
            "text/plain": [
              "     CUST_ID      BALANCE  BALANCE_FREQUENCY  PURCHASES  ONE_OFF_PURCHASES  \\\n",
              "4280  C14398    79.345909           1.000000     906.50                0.0   \n",
              "8870  C19111   100.427621           1.000000     793.28                0.0   \n",
              "3983  C14095  1126.942655           1.000000       0.00                0.0   \n",
              "6289  C16464  2276.666051           1.000000      87.51                0.0   \n",
              "7621  C17827  5471.186593           0.777778       0.00                0.0   \n",
              "\n",
              "      INSTALLMENTS_PURCHASES  CASH_ADVANCE  PURCHASES_FREQUENCY  \\\n",
              "4280                  906.50      0.000000             1.000000   \n",
              "8870                  793.28      0.000000             1.000000   \n",
              "3983                    0.00     86.437024             0.000000   \n",
              "6289                   87.51      0.000000             0.583333   \n",
              "7621                    0.00   8411.998221             0.000000   \n",
              "\n",
              "      ONE_OFF_PURCHASES_FREQUENCY  PURCHASES_INSTALLMENTS_FREQUENCY  \\\n",
              "4280                          0.0                          0.916667   \n",
              "8870                          0.0                          0.875000   \n",
              "3983                          0.0                          0.000000   \n",
              "6289                          0.0                          0.583333   \n",
              "7621                          0.0                          0.000000   \n",
              "\n",
              "      CASH_ADVANCE_FREQUENCY  CASH_ADVANCE_TRX  PURCHASES_TRX  CREDIT_LIMIT  \\\n",
              "4280                0.000000                 0             12        6000.0   \n",
              "8870                0.000000                 0              8        1000.0   \n",
              "3983                0.166667                 2              0        1200.0   \n",
              "6289                0.000000                 0             11        8000.0   \n",
              "7621                0.555556                10              0        9000.0   \n",
              "\n",
              "         PAYMENTS  MINIMUM_PAYMENTS  PRC_FULL_PAYMENT  TENURE  z_balance  \n",
              "4280   922.337660        180.755765          0.916667      12   0.695875  \n",
              "8870   679.031744        117.258435          1.000000       8   0.686456  \n",
              "3983   353.897911        231.575224          0.000000      12   0.227837  \n",
              "6289   605.029703        700.831872          0.000000      12   0.285829  \n",
              "7621  1281.454609       1401.967646          0.000000       9   1.713056  "
            ],
            "text/html": [
              "\n",
              "  <div id=\"df-46e9b27d-a311-4915-978e-478a13b81f0d\" class=\"colab-df-container\">\n",
              "    <div>\n",
              "<style scoped>\n",
              "    .dataframe tbody tr th:only-of-type {\n",
              "        vertical-align: middle;\n",
              "    }\n",
              "\n",
              "    .dataframe tbody tr th {\n",
              "        vertical-align: top;\n",
              "    }\n",
              "\n",
              "    .dataframe thead th {\n",
              "        text-align: right;\n",
              "    }\n",
              "</style>\n",
              "<table border=\"1\" class=\"dataframe\">\n",
              "  <thead>\n",
              "    <tr style=\"text-align: right;\">\n",
              "      <th></th>\n",
              "      <th>CUST_ID</th>\n",
              "      <th>BALANCE</th>\n",
              "      <th>BALANCE_FREQUENCY</th>\n",
              "      <th>PURCHASES</th>\n",
              "      <th>ONE_OFF_PURCHASES</th>\n",
              "      <th>INSTALLMENTS_PURCHASES</th>\n",
              "      <th>CASH_ADVANCE</th>\n",
              "      <th>PURCHASES_FREQUENCY</th>\n",
              "      <th>ONE_OFF_PURCHASES_FREQUENCY</th>\n",
              "      <th>PURCHASES_INSTALLMENTS_FREQUENCY</th>\n",
              "      <th>CASH_ADVANCE_FREQUENCY</th>\n",
              "      <th>CASH_ADVANCE_TRX</th>\n",
              "      <th>PURCHASES_TRX</th>\n",
              "      <th>CREDIT_LIMIT</th>\n",
              "      <th>PAYMENTS</th>\n",
              "      <th>MINIMUM_PAYMENTS</th>\n",
              "      <th>PRC_FULL_PAYMENT</th>\n",
              "      <th>TENURE</th>\n",
              "      <th>z_balance</th>\n",
              "    </tr>\n",
              "  </thead>\n",
              "  <tbody>\n",
              "    <tr>\n",
              "      <th>4280</th>\n",
              "      <td>C14398</td>\n",
              "      <td>79.345909</td>\n",
              "      <td>1.000000</td>\n",
              "      <td>906.50</td>\n",
              "      <td>0.0</td>\n",
              "      <td>906.50</td>\n",
              "      <td>0.000000</td>\n",
              "      <td>1.000000</td>\n",
              "      <td>0.0</td>\n",
              "      <td>0.916667</td>\n",
              "      <td>0.000000</td>\n",
              "      <td>0</td>\n",
              "      <td>12</td>\n",
              "      <td>6000.0</td>\n",
              "      <td>922.337660</td>\n",
              "      <td>180.755765</td>\n",
              "      <td>0.916667</td>\n",
              "      <td>12</td>\n",
              "      <td>0.695875</td>\n",
              "    </tr>\n",
              "    <tr>\n",
              "      <th>8870</th>\n",
              "      <td>C19111</td>\n",
              "      <td>100.427621</td>\n",
              "      <td>1.000000</td>\n",
              "      <td>793.28</td>\n",
              "      <td>0.0</td>\n",
              "      <td>793.28</td>\n",
              "      <td>0.000000</td>\n",
              "      <td>1.000000</td>\n",
              "      <td>0.0</td>\n",
              "      <td>0.875000</td>\n",
              "      <td>0.000000</td>\n",
              "      <td>0</td>\n",
              "      <td>8</td>\n",
              "      <td>1000.0</td>\n",
              "      <td>679.031744</td>\n",
              "      <td>117.258435</td>\n",
              "      <td>1.000000</td>\n",
              "      <td>8</td>\n",
              "      <td>0.686456</td>\n",
              "    </tr>\n",
              "    <tr>\n",
              "      <th>3983</th>\n",
              "      <td>C14095</td>\n",
              "      <td>1126.942655</td>\n",
              "      <td>1.000000</td>\n",
              "      <td>0.00</td>\n",
              "      <td>0.0</td>\n",
              "      <td>0.00</td>\n",
              "      <td>86.437024</td>\n",
              "      <td>0.000000</td>\n",
              "      <td>0.0</td>\n",
              "      <td>0.000000</td>\n",
              "      <td>0.166667</td>\n",
              "      <td>2</td>\n",
              "      <td>0</td>\n",
              "      <td>1200.0</td>\n",
              "      <td>353.897911</td>\n",
              "      <td>231.575224</td>\n",
              "      <td>0.000000</td>\n",
              "      <td>12</td>\n",
              "      <td>0.227837</td>\n",
              "    </tr>\n",
              "    <tr>\n",
              "      <th>6289</th>\n",
              "      <td>C16464</td>\n",
              "      <td>2276.666051</td>\n",
              "      <td>1.000000</td>\n",
              "      <td>87.51</td>\n",
              "      <td>0.0</td>\n",
              "      <td>87.51</td>\n",
              "      <td>0.000000</td>\n",
              "      <td>0.583333</td>\n",
              "      <td>0.0</td>\n",
              "      <td>0.583333</td>\n",
              "      <td>0.000000</td>\n",
              "      <td>0</td>\n",
              "      <td>11</td>\n",
              "      <td>8000.0</td>\n",
              "      <td>605.029703</td>\n",
              "      <td>700.831872</td>\n",
              "      <td>0.000000</td>\n",
              "      <td>12</td>\n",
              "      <td>0.285829</td>\n",
              "    </tr>\n",
              "    <tr>\n",
              "      <th>7621</th>\n",
              "      <td>C17827</td>\n",
              "      <td>5471.186593</td>\n",
              "      <td>0.777778</td>\n",
              "      <td>0.00</td>\n",
              "      <td>0.0</td>\n",
              "      <td>0.00</td>\n",
              "      <td>8411.998221</td>\n",
              "      <td>0.000000</td>\n",
              "      <td>0.0</td>\n",
              "      <td>0.000000</td>\n",
              "      <td>0.555556</td>\n",
              "      <td>10</td>\n",
              "      <td>0</td>\n",
              "      <td>9000.0</td>\n",
              "      <td>1281.454609</td>\n",
              "      <td>1401.967646</td>\n",
              "      <td>0.000000</td>\n",
              "      <td>9</td>\n",
              "      <td>1.713056</td>\n",
              "    </tr>\n",
              "  </tbody>\n",
              "</table>\n",
              "</div>\n",
              "    <div class=\"colab-df-buttons\">\n",
              "\n",
              "  <div class=\"colab-df-container\">\n",
              "    <button class=\"colab-df-convert\" onclick=\"convertToInteractive('df-46e9b27d-a311-4915-978e-478a13b81f0d')\"\n",
              "            title=\"Convert this dataframe to an interactive table.\"\n",
              "            style=\"display:none;\">\n",
              "\n",
              "  <svg xmlns=\"http://www.w3.org/2000/svg\" height=\"24px\" viewBox=\"0 -960 960 960\">\n",
              "    <path d=\"M120-120v-720h720v720H120Zm60-500h600v-160H180v160Zm220 220h160v-160H400v160Zm0 220h160v-160H400v160ZM180-400h160v-160H180v160Zm440 0h160v-160H620v160ZM180-180h160v-160H180v160Zm440 0h160v-160H620v160Z\"/>\n",
              "  </svg>\n",
              "    </button>\n",
              "\n",
              "  <style>\n",
              "    .colab-df-container {\n",
              "      display:flex;\n",
              "      gap: 12px;\n",
              "    }\n",
              "\n",
              "    .colab-df-convert {\n",
              "      background-color: #E8F0FE;\n",
              "      border: none;\n",
              "      border-radius: 50%;\n",
              "      cursor: pointer;\n",
              "      display: none;\n",
              "      fill: #1967D2;\n",
              "      height: 32px;\n",
              "      padding: 0 0 0 0;\n",
              "      width: 32px;\n",
              "    }\n",
              "\n",
              "    .colab-df-convert:hover {\n",
              "      background-color: #E2EBFA;\n",
              "      box-shadow: 0px 1px 2px rgba(60, 64, 67, 0.3), 0px 1px 3px 1px rgba(60, 64, 67, 0.15);\n",
              "      fill: #174EA6;\n",
              "    }\n",
              "\n",
              "    .colab-df-buttons div {\n",
              "      margin-bottom: 4px;\n",
              "    }\n",
              "\n",
              "    [theme=dark] .colab-df-convert {\n",
              "      background-color: #3B4455;\n",
              "      fill: #D2E3FC;\n",
              "    }\n",
              "\n",
              "    [theme=dark] .colab-df-convert:hover {\n",
              "      background-color: #434B5C;\n",
              "      box-shadow: 0px 1px 3px 1px rgba(0, 0, 0, 0.15);\n",
              "      filter: drop-shadow(0px 1px 2px rgba(0, 0, 0, 0.3));\n",
              "      fill: #FFFFFF;\n",
              "    }\n",
              "  </style>\n",
              "\n",
              "    <script>\n",
              "      const buttonEl =\n",
              "        document.querySelector('#df-46e9b27d-a311-4915-978e-478a13b81f0d button.colab-df-convert');\n",
              "      buttonEl.style.display =\n",
              "        google.colab.kernel.accessAllowed ? 'block' : 'none';\n",
              "\n",
              "      async function convertToInteractive(key) {\n",
              "        const element = document.querySelector('#df-46e9b27d-a311-4915-978e-478a13b81f0d');\n",
              "        const dataTable =\n",
              "          await google.colab.kernel.invokeFunction('convertToInteractive',\n",
              "                                                    [key], {});\n",
              "        if (!dataTable) return;\n",
              "\n",
              "        const docLinkHtml = 'Like what you see? Visit the ' +\n",
              "          '<a target=\"_blank\" href=https://colab.research.google.com/notebooks/data_table.ipynb>data table notebook</a>'\n",
              "          + ' to learn more about interactive tables.';\n",
              "        element.innerHTML = '';\n",
              "        dataTable['output_type'] = 'display_data';\n",
              "        await google.colab.output.renderOutput(dataTable, element);\n",
              "        const docLink = document.createElement('div');\n",
              "        docLink.innerHTML = docLinkHtml;\n",
              "        element.appendChild(docLink);\n",
              "      }\n",
              "    </script>\n",
              "  </div>\n",
              "\n",
              "\n",
              "<div id=\"df-70861656-1d84-4c56-81e5-78de2d506f10\">\n",
              "  <button class=\"colab-df-quickchart\" onclick=\"quickchart('df-70861656-1d84-4c56-81e5-78de2d506f10')\"\n",
              "            title=\"Suggest charts\"\n",
              "            style=\"display:none;\">\n",
              "\n",
              "<svg xmlns=\"http://www.w3.org/2000/svg\" height=\"24px\"viewBox=\"0 0 24 24\"\n",
              "     width=\"24px\">\n",
              "    <g>\n",
              "        <path d=\"M19 3H5c-1.1 0-2 .9-2 2v14c0 1.1.9 2 2 2h14c1.1 0 2-.9 2-2V5c0-1.1-.9-2-2-2zM9 17H7v-7h2v7zm4 0h-2V7h2v10zm4 0h-2v-4h2v4z\"/>\n",
              "    </g>\n",
              "</svg>\n",
              "  </button>\n",
              "\n",
              "<style>\n",
              "  .colab-df-quickchart {\n",
              "      --bg-color: #E8F0FE;\n",
              "      --fill-color: #1967D2;\n",
              "      --hover-bg-color: #E2EBFA;\n",
              "      --hover-fill-color: #174EA6;\n",
              "      --disabled-fill-color: #AAA;\n",
              "      --disabled-bg-color: #DDD;\n",
              "  }\n",
              "\n",
              "  [theme=dark] .colab-df-quickchart {\n",
              "      --bg-color: #3B4455;\n",
              "      --fill-color: #D2E3FC;\n",
              "      --hover-bg-color: #434B5C;\n",
              "      --hover-fill-color: #FFFFFF;\n",
              "      --disabled-bg-color: #3B4455;\n",
              "      --disabled-fill-color: #666;\n",
              "  }\n",
              "\n",
              "  .colab-df-quickchart {\n",
              "    background-color: var(--bg-color);\n",
              "    border: none;\n",
              "    border-radius: 50%;\n",
              "    cursor: pointer;\n",
              "    display: none;\n",
              "    fill: var(--fill-color);\n",
              "    height: 32px;\n",
              "    padding: 0;\n",
              "    width: 32px;\n",
              "  }\n",
              "\n",
              "  .colab-df-quickchart:hover {\n",
              "    background-color: var(--hover-bg-color);\n",
              "    box-shadow: 0 1px 2px rgba(60, 64, 67, 0.3), 0 1px 3px 1px rgba(60, 64, 67, 0.15);\n",
              "    fill: var(--button-hover-fill-color);\n",
              "  }\n",
              "\n",
              "  .colab-df-quickchart-complete:disabled,\n",
              "  .colab-df-quickchart-complete:disabled:hover {\n",
              "    background-color: var(--disabled-bg-color);\n",
              "    fill: var(--disabled-fill-color);\n",
              "    box-shadow: none;\n",
              "  }\n",
              "\n",
              "  .colab-df-spinner {\n",
              "    border: 2px solid var(--fill-color);\n",
              "    border-color: transparent;\n",
              "    border-bottom-color: var(--fill-color);\n",
              "    animation:\n",
              "      spin 1s steps(1) infinite;\n",
              "  }\n",
              "\n",
              "  @keyframes spin {\n",
              "    0% {\n",
              "      border-color: transparent;\n",
              "      border-bottom-color: var(--fill-color);\n",
              "      border-left-color: var(--fill-color);\n",
              "    }\n",
              "    20% {\n",
              "      border-color: transparent;\n",
              "      border-left-color: var(--fill-color);\n",
              "      border-top-color: var(--fill-color);\n",
              "    }\n",
              "    30% {\n",
              "      border-color: transparent;\n",
              "      border-left-color: var(--fill-color);\n",
              "      border-top-color: var(--fill-color);\n",
              "      border-right-color: var(--fill-color);\n",
              "    }\n",
              "    40% {\n",
              "      border-color: transparent;\n",
              "      border-right-color: var(--fill-color);\n",
              "      border-top-color: var(--fill-color);\n",
              "    }\n",
              "    60% {\n",
              "      border-color: transparent;\n",
              "      border-right-color: var(--fill-color);\n",
              "    }\n",
              "    80% {\n",
              "      border-color: transparent;\n",
              "      border-right-color: var(--fill-color);\n",
              "      border-bottom-color: var(--fill-color);\n",
              "    }\n",
              "    90% {\n",
              "      border-color: transparent;\n",
              "      border-bottom-color: var(--fill-color);\n",
              "    }\n",
              "  }\n",
              "</style>\n",
              "\n",
              "  <script>\n",
              "    async function quickchart(key) {\n",
              "      const quickchartButtonEl =\n",
              "        document.querySelector('#' + key + ' button');\n",
              "      quickchartButtonEl.disabled = true;  // To prevent multiple clicks.\n",
              "      quickchartButtonEl.classList.add('colab-df-spinner');\n",
              "      try {\n",
              "        const charts = await google.colab.kernel.invokeFunction(\n",
              "            'suggestCharts', [key], {});\n",
              "      } catch (error) {\n",
              "        console.error('Error during call to suggestCharts:', error);\n",
              "      }\n",
              "      quickchartButtonEl.classList.remove('colab-df-spinner');\n",
              "      quickchartButtonEl.classList.add('colab-df-quickchart-complete');\n",
              "    }\n",
              "    (() => {\n",
              "      let quickchartButtonEl =\n",
              "        document.querySelector('#df-70861656-1d84-4c56-81e5-78de2d506f10 button');\n",
              "      quickchartButtonEl.style.display =\n",
              "        google.colab.kernel.accessAllowed ? 'block' : 'none';\n",
              "    })();\n",
              "  </script>\n",
              "</div>\n",
              "    </div>\n",
              "  </div>\n"
            ],
            "application/vnd.google.colaboratory.intrinsic+json": {
              "type": "dataframe",
              "variable_name": "df",
              "summary": "{\n  \"name\": \"df\",\n  \"rows\": 1000,\n  \"fields\": [\n    {\n      \"column\": \"CUST_ID\",\n      \"properties\": {\n        \"dtype\": \"string\",\n        \"num_unique_values\": 1000,\n        \"samples\": [\n          \"C16775\",\n          \"C15149\",\n          \"C13848\"\n        ],\n        \"semantic_type\": \"\",\n        \"description\": \"\"\n      }\n    },\n    {\n      \"column\": \"BALANCE\",\n      \"properties\": {\n        \"dtype\": \"number\",\n        \"std\": 2239.3911723828496,\n        \"min\": 0.0,\n        \"max\": 19043.13856,\n        \"num_unique_values\": 990,\n        \"samples\": [\n          119.368715,\n          2648.244646,\n          595.677343\n        ],\n        \"semantic_type\": \"\",\n        \"description\": \"\"\n      }\n    },\n    {\n      \"column\": \"BALANCE_FREQUENCY\",\n      \"properties\": {\n        \"dtype\": \"number\",\n        \"std\": 0.2438297273530725,\n        \"min\": 0.0,\n        \"max\": 1.0,\n        \"num_unique_values\": 39,\n        \"samples\": [\n          0.625,\n          0.6,\n          0.111111\n        ],\n        \"semantic_type\": \"\",\n        \"description\": \"\"\n      }\n    },\n    {\n      \"column\": \"PURCHASES\",\n      \"properties\": {\n        \"dtype\": \"number\",\n        \"std\": 2168.425973737019,\n        \"min\": 0.0,\n        \"max\": 31299.35,\n        \"num_unique_values\": 755,\n        \"samples\": [\n          99.24,\n          324.0,\n          1888.88\n        ],\n        \"semantic_type\": \"\",\n        \"description\": \"\"\n      }\n    },\n    {\n      \"column\": \"ONE_OFF_PURCHASES\",\n      \"properties\": {\n        \"dtype\": \"number\",\n        \"std\": 1437.7454461068037,\n        \"min\": 0.0,\n        \"max\": 19064.3,\n        \"num_unique_values\": 504,\n        \"samples\": [\n          588.48,\n          1223.0,\n          1479.24\n        ],\n        \"semantic_type\": \"\",\n        \"description\": \"\"\n      }\n    },\n    {\n      \"column\": \"INSTALLMENTS_PURCHASES\",\n      \"properties\": {\n        \"dtype\": \"number\",\n        \"std\": 1052.2832755313755,\n        \"min\": 0.0,\n        \"max\": 14686.1,\n        \"num_unique_values\": 565,\n        \"samples\": [\n          417.28,\n          835.47,\n          174.46\n        ],\n        \"semantic_type\": \"\",\n        \"description\": \"\"\n      }\n    },\n    {\n      \"column\": \"CASH_ADVANCE\",\n      \"properties\": {\n        \"dtype\": \"number\",\n        \"std\": 2427.27387818643,\n        \"min\": 0.0,\n        \"max\": 27296.48576,\n        \"num_unique_values\": 489,\n        \"samples\": [\n          5997.514998,\n          1508.526487,\n          2946.839566\n        ],\n        \"semantic_type\": \"\",\n        \"description\": \"\"\n      }\n    },\n    {\n      \"column\": \"PURCHASES_FREQUENCY\",\n      \"properties\": {\n        \"dtype\": \"number\",\n        \"std\": 0.40038455045345817,\n        \"min\": 0.0,\n        \"max\": 1.0,\n        \"num_unique_values\": 40,\n        \"samples\": [\n          0.909091,\n          0.75,\n          0.166667\n        ],\n        \"semantic_type\": \"\",\n        \"description\": \"\"\n      }\n    },\n    {\n      \"column\": \"ONE_OFF_PURCHASES_FREQUENCY\",\n      \"properties\": {\n        \"dtype\": \"number\",\n        \"std\": 0.29041572185406517,\n        \"min\": 0.0,\n        \"max\": 1.0,\n        \"num_unique_values\": 32,\n        \"samples\": [\n          0.727273,\n          0.222222,\n          0.181818\n        ],\n        \"semantic_type\": \"\",\n        \"description\": \"\"\n      }\n    },\n    {\n      \"column\": \"PURCHASES_INSTALLMENTS_FREQUENCY\",\n      \"properties\": {\n        \"dtype\": \"number\",\n        \"std\": 0.39463321737797846,\n        \"min\": 0.0,\n        \"max\": 1.0,\n        \"num_unique_values\": 39,\n        \"samples\": [\n          0.090909,\n          0.125,\n          1.0\n        ],\n        \"semantic_type\": \"\",\n        \"description\": \"\"\n      }\n    },\n    {\n      \"column\": \"CASH_ADVANCE_FREQUENCY\",\n      \"properties\": {\n        \"dtype\": \"number\",\n        \"std\": 0.20166992561557423,\n        \"min\": 0.0,\n        \"max\": 1.5,\n        \"num_unique_values\": 34,\n        \"samples\": [\n          0.714286,\n          0.142857,\n          0.363636\n        ],\n        \"semantic_type\": \"\",\n        \"description\": \"\"\n      }\n    },\n    {\n      \"column\": \"CASH_ADVANCE_TRX\",\n      \"properties\": {\n        \"dtype\": \"number\",\n        \"std\": 8,\n        \"min\": 0,\n        \"max\": 123,\n        \"num_unique_values\": 35,\n        \"samples\": [\n          123,\n          4,\n          47\n        ],\n        \"semantic_type\": \"\",\n        \"description\": \"\"\n      }\n    },\n    {\n      \"column\": \"PURCHASES_TRX\",\n      \"properties\": {\n        \"dtype\": \"number\",\n        \"std\": 28,\n        \"min\": 0,\n        \"max\": 347,\n        \"num_unique_values\": 98,\n        \"samples\": [\n          54,\n          1,\n          97\n        ],\n        \"semantic_type\": \"\",\n        \"description\": \"\"\n      }\n    },\n    {\n      \"column\": \"CREDIT_LIMIT\",\n      \"properties\": {\n        \"dtype\": \"number\",\n        \"std\": 3642.151415081938,\n        \"min\": 150.0,\n        \"max\": 22000.0,\n        \"num_unique_values\": 88,\n        \"samples\": [\n          3200.0,\n          6000.0,\n          10000.0\n        ],\n        \"semantic_type\": \"\",\n        \"description\": \"\"\n      }\n    },\n    {\n      \"column\": \"PAYMENTS\",\n      \"properties\": {\n        \"dtype\": \"number\",\n        \"std\": 3135.6853944967747,\n        \"min\": 0.0,\n        \"max\": 32048.6122,\n        \"num_unique_values\": 973,\n        \"samples\": [\n          598.012696,\n          1293.523382,\n          1305.177304\n        ],\n        \"semantic_type\": \"\",\n        \"description\": \"\"\n      }\n    },\n    {\n      \"column\": \"MINIMUM_PAYMENTS\",\n      \"properties\": {\n        \"dtype\": \"number\",\n        \"std\": 2294.36400753715,\n        \"min\": 0.311953,\n        \"max\": 50260.75947,\n        \"num_unique_values\": 965,\n        \"samples\": [\n          212.358132,\n          1043.148468,\n          171.92066\n        ],\n        \"semantic_type\": \"\",\n        \"description\": \"\"\n      }\n    },\n    {\n      \"column\": \"PRC_FULL_PAYMENT\",\n      \"properties\": {\n        \"dtype\": \"number\",\n        \"std\": 0.3083974465938835,\n        \"min\": 0.0,\n        \"max\": 1.0,\n        \"num_unique_values\": 42,\n        \"samples\": [\n          0.714286,\n          0.142857,\n          0.818182\n        ],\n        \"semantic_type\": \"\",\n        \"description\": \"\"\n      }\n    },\n    {\n      \"column\": \"TENURE\",\n      \"properties\": {\n        \"dtype\": \"number\",\n        \"std\": 1,\n        \"min\": 6,\n        \"max\": 12,\n        \"num_unique_values\": 7,\n        \"samples\": [\n          12,\n          8,\n          10\n        ],\n        \"semantic_type\": \"\",\n        \"description\": \"\"\n      }\n    },\n    {\n      \"column\": \"z_balance\",\n      \"properties\": {\n        \"dtype\": \"number\",\n        \"std\": 0.7324802348309463,\n        \"min\": 0.0019313104110484593,\n        \"max\": 7.776642853173254,\n        \"num_unique_values\": 990,\n        \"samples\": [\n          0.6779938649437119,\n          0.4518405959971665,\n          0.4651918467185366\n        ],\n        \"semantic_type\": \"\",\n        \"description\": \"\"\n      }\n    }\n  ]\n}"
            }
          },
          "metadata": {},
          "execution_count": 12
        }
      ]
    },
    {
      "cell_type": "code",
      "source": [
        "# Flag outliers (Z-score > 2)\n",
        "\n",
        "# I pick up 2 as a threashold, not sure if it is ok,but, for now, seI thinkems this is an optimal\n",
        "outliers = df[df['z_balance'] > 2]\n",
        "print(f\"Outliers detected using z-scores: {len(outliers)}\")"
      ],
      "metadata": {
        "colab": {
          "base_uri": "https://localhost:8080/"
        },
        "id": "jjhIROsJWy2Y",
        "outputId": "d9fc9689-875e-4ed6-f2f5-e0beba53198f"
      },
      "execution_count": 17,
      "outputs": [
        {
          "output_type": "stream",
          "name": "stdout",
          "text": [
            "Outliers detected using z-scores: 51\n"
          ]
        }
      ]
    },
    {
      "cell_type": "markdown",
      "source": [
        "### 1.2 - Interquantile range"
      ],
      "metadata": {
        "id": "mhzxz7tJZFY9"
      }
    },
    {
      "cell_type": "code",
      "source": [
        "df_sample = df.sample(100)\n",
        "\n",
        "# Calculate IQR for annual_inc\n",
        "Q1 = df['BALANCE'].quantile(0.25)\n",
        "Q3 = df['BALANCE'].quantile(0.75)\n",
        "IQR = Q3 - Q1\n",
        "\n",
        "# Define outlier boundaries\n",
        "lower_bound = Q1 - 1.5 * IQR\n",
        "upper_bound = Q3 + 1.5 * IQR\n",
        "\n",
        "print(f\"lower_bound: {lower_bound}\")\n",
        "print(f\"upper_bound: {upper_bound}\")\n",
        "\n",
        "# Identify outliers\n",
        "outliers_iqr = df_sample[(df_sample['BALANCE'] < lower_bound) | (df_sample['BALANCE'] > upper_bound)]\n",
        "print(f\"Outliers detected using IQR: {len(outliers_iqr)}\")"
      ],
      "metadata": {
        "colab": {
          "base_uri": "https://localhost:8080/"
        },
        "id": "TkePY8HkZGAT",
        "outputId": "fcacc20c-50ae-4a65-88b0-29f480deac05"
      },
      "execution_count": 24,
      "outputs": [
        {
          "output_type": "stream",
          "name": "stdout",
          "text": [
            "lower_bound: -2790.9554228750003\n",
            "upper_bound: 4995.971550125\n",
            "Outliers detected using IQR: 13\n"
          ]
        }
      ]
    },
    {
      "cell_type": "code",
      "source": [
        "import matplotlib.pyplot as plt\n",
        "from scipy.stats import zscore\n",
        "\n",
        "# Also this is the same as using a Box plot\n",
        "import matplotlib.pyplot as plt\n",
        "import seaborn as sns\n",
        "\n",
        "\n",
        "# Boxplot for BALANCE to visualize outliers\n",
        "plt.figure(figsize=(8, 5))\n",
        "plt.boxplot(df['BALANCE'], vert=False, patch_artist=True, boxprops=dict(facecolor=\"lightblue\"))\n",
        "plt.axvline(lower_bound, color='r', linestyle='dashed', label='Lower Bound')\n",
        "plt.axvline(upper_bound, color='g', linestyle='dashed', label='Upper Bound')\n",
        "plt.scatter(outliers_iqr['BALANCE'], [1] * len(outliers_iqr), color='red', label='Outliers', zorder=3)\n",
        "plt.xlabel(\"Balance\")\n",
        "plt.title(\"Boxplot of BALANCE with Outlier Boundaries\")\n",
        "plt.legend()\n",
        "plt.show()\n",
        "\n",
        "# Histogram to visualize the distribution of BALANCE with outliers marked\n",
        "plt.figure(figsize=(8, 5))\n",
        "plt.hist(df['BALANCE'], bins=20, alpha=0.7, color='blue', label=\"Balance Distribution\")\n",
        "plt.axvline(lower_bound, color='r', linestyle='dashed', label='Lower Bound')\n",
        "plt.axvline(upper_bound, color='g', linestyle='dashed', label='Upper Bound')\n",
        "plt.scatter(outliers_iqr['BALANCE'], [0] * len(outliers_iqr), color='red', label='Outliers', zorder=3)\n",
        "plt.xlabel(\"Balance\")\n",
        "plt.ylabel(\"Frequency\")\n",
        "plt.title(\"Histogram of BALANCE with Outlier Boundaries\")\n",
        "plt.legend()\n",
        "plt.show()"
      ],
      "metadata": {
        "colab": {
          "base_uri": "https://localhost:8080/",
          "height": 957
        },
        "id": "aHMuPzlhbeep",
        "outputId": "7bd97e99-0b2b-42ce-96ff-8288bddf01e8"
      },
      "execution_count": 21,
      "outputs": [
        {
          "output_type": "display_data",
          "data": {
            "text/plain": [
              "<Figure size 800x500 with 1 Axes>"
            ],
            "image/png": "[encoded data removed]"
          },
          "metadata": {}
        },
        {
          "output_type": "display_data",
          "data": {
            "text/plain": [
              "<Figure size 800x500 with 1 Axes>"
            ],
            "image/png": "[encoded data removed]"
          },
          "metadata": {}
        }
      ]
    },
    {
      "cell_type": "markdown",
      "source": [
        "According to diagram we can cut outliners after 5000"
      ],
      "metadata": {
        "id": "qtwGIsyIbtR6"
      }
    },
    {
      "cell_type": "markdown",
      "source": [
        "### 2. Clustering"
      ],
      "metadata": {
        "id": "vSpHurSMeSEb"
      }
    },
    {
      "cell_type": "code",
      "source": [
        "from sklearn.cluster import KMeans\n",
        "import matplotlib.pyplot as plt\n",
        "\n",
        "\n",
        "data_for_clustering = df[['BALANCE', 'PURCHASES']].dropna()"
      ],
      "metadata": {
        "id": "w37CNRcueZ1m"
      },
      "execution_count": 25,
      "outputs": []
    },
    {
      "cell_type": "code",
      "source": [
        "import seaborn as sns\n",
        "\n",
        "# Use the Elbow graph to determine optimal number of clusters:\n",
        "wcss = []\n",
        "max_clusters = 10\n",
        "\n",
        "for i in range(1, max_clusters + 1):\n",
        "    kmeans = KMeans(n_clusters=i, random_state=42)\n",
        "    kmeans.fit(data_for_clustering)\n",
        "    wcss.append(kmeans.inertia_)\n",
        "\n",
        "# Elbow Graph\n",
        "plt.figure(figsize=(10, 6))\n",
        "sns.lineplot(x=range(1, max_clusters + 1), y=wcss, marker='o', linestyle='--')\n",
        "plt.xlabel('# of clusters')\n",
        "plt.ylabel('Within-cluster sum of squares')\n",
        "plt.title('Elbow method for optimal number of clusters')\n",
        "plt.grid(True)\n",
        "plt.show()"
      ],
      "metadata": {
        "colab": {
          "base_uri": "https://localhost:8080/",
          "height": 564
        },
        "id": "5_T4DCEFe1il",
        "outputId": "453ab82e-c9b8-4cf8-faf5-b465703fd496"
      },
      "execution_count": 28,
      "outputs": [
        {
          "output_type": "display_data",
          "data": {
            "text/plain": [
              "<Figure size 1000x600 with 1 Axes>"
            ],
            "image/png": "[encoded data removed]"
          },
          "metadata": {}
        }
      ]
    },
    {
      "cell_type": "code",
      "source": [
        "Upcoming...."
      ],
      "metadata": {
        "id": "1DG9aB7Gfp1c"
      },
      "execution_count": null,
      "outputs": []
    }
  ],
  "metadata": {
    "colab": {
      "provenance": [],
      "include_colab_link": true
    },
    "kernelspec": {
      "display_name": "Python 3 (ipykernel)",
      "language": "python",
      "name": "python3"
    },
    "language_info": {
      "codemirror_mode": {
        "name": "ipython",
        "version": 3
      },
      "file_extension": ".py",
      "mimetype": "text/x-python",
      "name": "python",
      "nbconvert_exporter": "python",
      "pygments_lexer": "ipython3",
      "version": "3.12.9"
    }
  },
  "nbformat": 4,
  "nbformat_minor": 0
}