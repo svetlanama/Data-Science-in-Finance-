{
 "cells": [
  {
   "cell_type": "markdown",
   "metadata": {
    "id": "jaD354S7TQh5"
   },
   "source": [
    "### <span style=\"color:RED\"> **>>>TODOs:**\n",
    "- Slides to introduce apps and streamlit concepts, and also architecture\n",
    "- Extra bits to add more functionality / visuals\n",
    "- Outdet git repo overview with 'accumulator concept' or near-real time design and considerations in production\n",
    "- Remove solutions and TODOs\n",
    "- Enrich with finance nuggets\n",
    "- Remove some Extra exercises (too much currently)\n",
    "</span>"
   ]
  },
  {
   "cell_type": "markdown",
   "metadata": {
    "id": "TAp-ZdoF7txU"
   },
   "source": [
    "## <span style=\"color:RED\"> **>>>TODO:**  \n",
    "build a NN model using autoencoders using credit card fraud dataset.  \n",
    "see thread called \"TO USE IN CLASS 11\" in Cgp.  \n",
    "\n",
    "    See: https://www.comet.com/site/blog/credit-card-fraud-detection-with-autoencoders/\n",
    "    or: https://towardsdatascience.com/applying-anomaly-detection-with-autoencoders-to-fraud-detection-feaaee6b5b09\n",
    "\n",
    "    Or GANs?\n",
    "    \n",
    "## <span style=\"color:RED\"> **>>>Please note:**\n",
    "    \n",
    "\n",
    "Running this application in the Google Colab environment can be challenging. For this exercise, I **highly recommend** using a locally installed Jupyter Notebook. Setting up Jupyter locally via Python/Anaconda (as outlined in the pre-course resources) is much more straightforward than configuring tunnels or other workarounds to run apps in Colab.\n",
    "\n",
    "### Why Jupyter Notebook?\n",
    "\n",
    "Using Jupyter Notebook installed on your local machine simplifies the process considerably. You avoid the complexities associated with configuring remote environments, allowing you to focus on the core aspects of building and running your app.\n",
    "\n",
    "### If You Prefer Google Colab\n",
    "\n",
    "If you still wish to proceed with Google Colab, here are some resources that might be helpful (please note that I have not personally tested or validated these methods):\n",
    "\n",
    "-   [Running FastAPI and Streamlit on Google Colab - Medium Article 1](https://stephencowchau.medium.com/using-google-colab-a-bit-more-with-fastapi-and-streamlit-23988cde0f18)\n",
    "-   [How to Run Streamlit Apps from Colab - Medium Article 2](https://medium.com/@jcharistech/how-to-run-streamlit-apps-from-colab-29b969a1bdfc)\n",
    "    \n",
    "    \n",
    "________"
   ]
  },
  {
   "cell_type": "markdown",
   "metadata": {
    "id": "DH1XQ07F5Bx8"
   },
   "source": [
    "# Introduction\n",
    "\n",
    "\n",
    "\n",
    "## Agenda:\n",
    "1. Data import\n",
    "\n",
    "\n",
    "Demo: Implementation in Python\n",
    "------------------------------\n",
    "\n",
    "\n",
    "\n",
    "---\n"
   ]
  },
  {
   "cell_type": "markdown",
   "metadata": {
    "id": "93zyIXyCTQh6"
   },
   "source": [
    "### Set up"
   ]
  },
  {
   "cell_type": "markdown",
   "metadata": {
    "id": "5q-PsskSTQh9"
   },
   "source": [
    "#### User-specified parameters"
   ]
  },
  {
   "cell_type": "code",
   "execution_count": 1,
   "metadata": {
    "id": "iMxzfTkWTQiA"
   },
   "outputs": [],
   "source": [
    "python_material_folder_name = \"python-material-INSTRUCTOR\""
   ]
  },
  {
   "cell_type": "markdown",
   "metadata": {
    "id": "2K81Jx98TQiC"
   },
   "source": [
    "#### Import libraries"
   ]
  },
  {
   "cell_type": "code",
   "execution_count": 11,
   "metadata": {
    "id": "lAoEXuaMTQiD"
   },
   "outputs": [],
   "source": [
    "import pandas as pd\n",
    "import numpy as np\n",
    "\n",
    "pd.set_option('display.max_columns', None)\n",
    "pd.set_option('display.max_rows', None)\n",
    "\n",
    "# Check if in Google Colab environment\n",
    "try:\n",
    "    from google.colab import drive\n",
    "    # Mount drive\n",
    "    drive.mount('/content/drive')\n",
    "    # Set up path to Python material parent folder\n",
    "    path_python_material = rf\"drive/MyDrive/{python_material_folder_name}\"\n",
    "        # If unsure, print current directory path by executing the following in a new cell:\n",
    "        # !pwd\n",
    "    IN_COLAB = True\n",
    "except:\n",
    "    IN_COLAB = False\n",
    "    # If working locally on Jupyter Notebook, parent folder is one folder up (assuming you are using the folder structure shared at the beginning of the course)\n",
    "    path_python_material = \"..\""
   ]
  },
  {
   "cell_type": "code",
   "execution_count": 12,
   "metadata": {
    "id": "4ON-ykfTIdnN"
   },
   "outputs": [],
   "source": [
    "if IN_COLAB == True:\n",
    "  !pip install fastapi uvicorn"
   ]
  },
  {
   "cell_type": "markdown",
   "metadata": {
    "id": "3emSk9-nTQiD"
   },
   "source": [
    "# 1. Create a dummy app\n",
    "## Create app with FastAPI\n",
    "Save the following in dsif11app.py"
   ]
  },
  {
   "cell_type": "code",
   "execution_count": 13,
   "metadata": {
    "id": "HLY_AaF3IY3c"
   },
   "outputs": [],
   "source": [
    "code = \"\"\"\n",
    "\n",
    "from fastapi import FastAPI\n",
    "\n",
    "app = FastAPI() #creates an instance of the FastAPI application\n",
    "\n",
    "@app.get(\"/\")\n",
    "def read_root(): # Decorator, defines a route for the root URL (/). Returns a JSON response with welcome message\n",
    "    return {\"message\": \"Welcome to the best ELVTR course ever\"}\n",
    "\n",
    "\"\"\"\n",
    "\n",
    "with open(f\"{path_python_material}/notebooks/dsif11/dsif11-v1/dsif11app.py\", 'w') as file:\n",
    "    file.write(code)\n"
   ]
  },
  {
   "cell_type": "markdown",
   "metadata": {
    "id": "EgYOdWtGJCyY"
   },
   "source": [
    "## Running the app\n"
   ]
  },
  {
   "cell_type": "code",
   "execution_count": null,
   "metadata": {
    "id": "c7k6hYDSIY90"
   },
   "outputs": [],
   "source": [
    "# Run from terminal (from the notebooks folder)\n",
    "# !uvicorn dsif11app:app --reload --port 8501\n"
   ]
  },
  {
   "cell_type": "markdown",
   "metadata": {
    "executionInfo": {
     "elapsed": 344,
     "status": "ok",
     "timestamp": 1725171211254,
     "user": {
      "displayName": "Andrea Baroni",
      "userId": "13443912204230378793"
     },
     "user_tz": -60
    },
    "id": "WgDZGKH7IY_z",
    "outputId": "fe6968f7-3214-4d79-88bf-94564852c6de"
   },
   "source": [
    "# 2. Demo: Build a Real-time Fraud Detection App"
   ]
  },
  {
   "cell_type": "code",
   "execution_count": null,
   "metadata": {
    "executionInfo": {
     "elapsed": 13,
     "status": "aborted",
     "timestamp": 1725170760639,
     "user": {
      "displayName": "Andrea Baroni",
      "userId": "13443912204230378793"
     },
     "user_tz": -60
    },
    "id": "R3LpI3mxIZB_",
    "outputId": "fc9c32f9-c94a-4d96-96a7-9d393d446237"
   },
   "outputs": [
    {
     "data": {
      "text/html": [
       "<div>\n",
       "<style scoped>\n",
       "    .dataframe tbody tr th:only-of-type {\n",
       "        vertical-align: middle;\n",
       "    }\n",
       "\n",
       "    .dataframe tbody tr th {\n",
       "        vertical-align: top;\n",
       "    }\n",
       "\n",
       "    .dataframe thead th {\n",
       "        text-align: right;\n",
       "    }\n",
       "</style>\n",
       "<table border=\"1\" class=\"dataframe\">\n",
       "  <thead>\n",
       "    <tr style=\"text-align: right;\">\n",
       "      <th></th>\n",
       "      <th>transaction_amount</th>\n",
       "      <th>transaction_date</th>\n",
       "      <th>transaction_time</th>\n",
       "      <th>customer_age</th>\n",
       "      <th>customer_balance</th>\n",
       "      <th>is_fraud</th>\n",
       "    </tr>\n",
       "  </thead>\n",
       "  <tbody>\n",
       "    <tr>\n",
       "      <th>0</th>\n",
       "      <td>46.926809</td>\n",
       "      <td>2023-02-09</td>\n",
       "      <td>55817</td>\n",
       "      <td>43</td>\n",
       "      <td>9143.802446</td>\n",
       "      <td>0</td>\n",
       "    </tr>\n",
       "    <tr>\n",
       "      <th>1</th>\n",
       "      <td>301.012143</td>\n",
       "      <td>2023-01-28</td>\n",
       "      <td>9356</td>\n",
       "      <td>60</td>\n",
       "      <td>3126.627558</td>\n",
       "      <td>0</td>\n",
       "    </tr>\n",
       "    <tr>\n",
       "      <th>2</th>\n",
       "      <td>131.674569</td>\n",
       "      <td>2023-11-13</td>\n",
       "      <td>33099</td>\n",
       "      <td>33</td>\n",
       "      <td>4316.836831</td>\n",
       "      <td>0</td>\n",
       "    </tr>\n",
       "    <tr>\n",
       "      <th>3</th>\n",
       "      <td>91.294255</td>\n",
       "      <td>2023-03-26</td>\n",
       "      <td>3190</td>\n",
       "      <td>18</td>\n",
       "      <td>4235.945356</td>\n",
       "      <td>0</td>\n",
       "    </tr>\n",
       "    <tr>\n",
       "      <th>4</th>\n",
       "      <td>16.962487</td>\n",
       "      <td>2023-12-07</td>\n",
       "      <td>13332</td>\n",
       "      <td>49</td>\n",
       "      <td>5491.237144</td>\n",
       "      <td>0</td>\n",
       "    </tr>\n",
       "  </tbody>\n",
       "</table>\n",
       "</div>"
      ],
      "text/plain": [
       "   transaction_amount transaction_date  transaction_time  customer_age  \\\n",
       "0           46.926809       2023-02-09             55817            43   \n",
       "1          301.012143       2023-01-28              9356            60   \n",
       "2          131.674569       2023-11-13             33099            33   \n",
       "3           91.294255       2023-03-26              3190            18   \n",
       "4           16.962487       2023-12-07             13332            49   \n",
       "\n",
       "   customer_balance  is_fraud  \n",
       "0       9143.802446         0  \n",
       "1       3126.627558         0  \n",
       "2       4316.836831         0  \n",
       "3       4235.945356         0  \n",
       "4       5491.237144         0  "
      ]
     },
     "execution_count": 6,
     "metadata": {},
     "output_type": "execute_result"
    }
   ],
   "source": [
    "# Build quick model here for fraud data\n",
    "import pandas as pd\n",
    "\n",
    "df = pd.read_csv(f\"{path_python_material}/data/1-raw/dsif11-fraud-detection/synthetic_transaction_data.csv\")\n",
    "df.head()\n"
   ]
  },
  {
   "cell_type": "markdown",
   "metadata": {
    "id": "4xZqtk3I7txf"
   },
   "source": [
    "### Simple fraud detection model"
   ]
  },
  {
   "cell_type": "code",
   "execution_count": null,
   "metadata": {
    "id": "4X2zOzFi7txf"
   },
   "outputs": [],
   "source": [
    "from sklearn.model_selection import train_test_split\n",
    "from sklearn.preprocessing import StandardScaler\n",
    "from sklearn.linear_model import LogisticRegression\n",
    "\n",
    "# Select features and target\n",
    "features = ['transaction_amount', 'customer_age', 'customer_balance']\n",
    "X = df[features]\n",
    "y = df['is_fraud']\n",
    "\n",
    "# Split the data\n",
    "X_train, X_test, y_train, y_test = train_test_split(X, y, test_size=0.2, random_state=42)\n",
    "\n",
    "# Scale the features\n",
    "scaler = StandardScaler()\n",
    "X_train_scaled = scaler.fit_transform(X_train)\n",
    "X_test_scaled = scaler.transform(X_test)"
   ]
  },
  {
   "cell_type": "code",
   "execution_count": null,
   "metadata": {
    "id": "cPm8Fvsj7txf",
    "outputId": "398a93a9-d5d4-4ac1-d650-2f7d768cd1da"
   },
   "outputs": [
    {
     "data": {
      "text/html": [
       "<style>#sk-container-id-1 {\n",
       "  /* Definition of color scheme common for light and dark mode */\n",
       "  --sklearn-color-text: black;\n",
       "  --sklearn-color-line: gray;\n",
       "  /* Definition of color scheme for unfitted estimators */\n",
       "  --sklearn-color-unfitted-level-0: #fff5e6;\n",
       "  --sklearn-color-unfitted-level-1: #f6e4d2;\n",
       "  --sklearn-color-unfitted-level-2: #ffe0b3;\n",
       "  --sklearn-color-unfitted-level-3: chocolate;\n",
       "  /* Definition of color scheme for fitted estimators */\n",
       "  --sklearn-color-fitted-level-0: #f0f8ff;\n",
       "  --sklearn-color-fitted-level-1: #d4ebff;\n",
       "  --sklearn-color-fitted-level-2: #b3dbfd;\n",
       "  --sklearn-color-fitted-level-3: cornflowerblue;\n",
       "\n",
       "  /* Specific color for light theme */\n",
       "  --sklearn-color-text-on-default-background: var(--sg-text-color, var(--theme-code-foreground, var(--jp-content-font-color1, black)));\n",
       "  --sklearn-color-background: var(--sg-background-color, var(--theme-background, var(--jp-layout-color0, white)));\n",
       "  --sklearn-color-border-box: var(--sg-text-color, var(--theme-code-foreground, var(--jp-content-font-color1, black)));\n",
       "  --sklearn-color-icon: #696969;\n",
       "\n",
       "  @media (prefers-color-scheme: dark) {\n",
       "    /* Redefinition of color scheme for dark theme */\n",
       "    --sklearn-color-text-on-default-background: var(--sg-text-color, var(--theme-code-foreground, var(--jp-content-font-color1, white)));\n",
       "    --sklearn-color-background: var(--sg-background-color, var(--theme-background, var(--jp-layout-color0, #111)));\n",
       "    --sklearn-color-border-box: var(--sg-text-color, var(--theme-code-foreground, var(--jp-content-font-color1, white)));\n",
       "    --sklearn-color-icon: #878787;\n",
       "  }\n",
       "}\n",
       "\n",
       "#sk-container-id-1 {\n",
       "  color: var(--sklearn-color-text);\n",
       "}\n",
       "\n",
       "#sk-container-id-1 pre {\n",
       "  padding: 0;\n",
       "}\n",
       "\n",
       "#sk-container-id-1 input.sk-hidden--visually {\n",
       "  border: 0;\n",
       "  clip: rect(1px 1px 1px 1px);\n",
       "  clip: rect(1px, 1px, 1px, 1px);\n",
       "  height: 1px;\n",
       "  margin: -1px;\n",
       "  overflow: hidden;\n",
       "  padding: 0;\n",
       "  position: absolute;\n",
       "  width: 1px;\n",
       "}\n",
       "\n",
       "#sk-container-id-1 div.sk-dashed-wrapped {\n",
       "  border: 1px dashed var(--sklearn-color-line);\n",
       "  margin: 0 0.4em 0.5em 0.4em;\n",
       "  box-sizing: border-box;\n",
       "  padding-bottom: 0.4em;\n",
       "  background-color: var(--sklearn-color-background);\n",
       "}\n",
       "\n",
       "#sk-container-id-1 div.sk-container {\n",
       "  /* jupyter's `normalize.less` sets `[hidden] { display: none; }`\n",
       "     but bootstrap.min.css set `[hidden] { display: none !important; }`\n",
       "     so we also need the `!important` here to be able to override the\n",
       "     default hidden behavior on the sphinx rendered scikit-learn.org.\n",
       "     See: https://github.com/scikit-learn/scikit-learn/issues/21755 */\n",
       "  display: inline-block !important;\n",
       "  position: relative;\n",
       "}\n",
       "\n",
       "#sk-container-id-1 div.sk-text-repr-fallback {\n",
       "  display: none;\n",
       "}\n",
       "\n",
       "div.sk-parallel-item,\n",
       "div.sk-serial,\n",
       "div.sk-item {\n",
       "  /* draw centered vertical line to link estimators */\n",
       "  background-image: linear-gradient(var(--sklearn-color-text-on-default-background), var(--sklearn-color-text-on-default-background));\n",
       "  background-size: 2px 100%;\n",
       "  background-repeat: no-repeat;\n",
       "  background-position: center center;\n",
       "}\n",
       "\n",
       "/* Parallel-specific style estimator block */\n",
       "\n",
       "#sk-container-id-1 div.sk-parallel-item::after {\n",
       "  content: \"\";\n",
       "  width: 100%;\n",
       "  border-bottom: 2px solid var(--sklearn-color-text-on-default-background);\n",
       "  flex-grow: 1;\n",
       "}\n",
       "\n",
       "#sk-container-id-1 div.sk-parallel {\n",
       "  display: flex;\n",
       "  align-items: stretch;\n",
       "  justify-content: center;\n",
       "  background-color: var(--sklearn-color-background);\n",
       "  position: relative;\n",
       "}\n",
       "\n",
       "#sk-container-id-1 div.sk-parallel-item {\n",
       "  display: flex;\n",
       "  flex-direction: column;\n",
       "}\n",
       "\n",
       "#sk-container-id-1 div.sk-parallel-item:first-child::after {\n",
       "  align-self: flex-end;\n",
       "  width: 50%;\n",
       "}\n",
       "\n",
       "#sk-container-id-1 div.sk-parallel-item:last-child::after {\n",
       "  align-self: flex-start;\n",
       "  width: 50%;\n",
       "}\n",
       "\n",
       "#sk-container-id-1 div.sk-parallel-item:only-child::after {\n",
       "  width: 0;\n",
       "}\n",
       "\n",
       "/* Serial-specific style estimator block */\n",
       "\n",
       "#sk-container-id-1 div.sk-serial {\n",
       "  display: flex;\n",
       "  flex-direction: column;\n",
       "  align-items: center;\n",
       "  background-color: var(--sklearn-color-background);\n",
       "  padding-right: 1em;\n",
       "  padding-left: 1em;\n",
       "}\n",
       "\n",
       "\n",
       "/* Toggleable style: style used for estimator/Pipeline/ColumnTransformer box that is\n",
       "clickable and can be expanded/collapsed.\n",
       "- Pipeline and ColumnTransformer use this feature and define the default style\n",
       "- Estimators will overwrite some part of the style using the `sk-estimator` class\n",
       "*/\n",
       "\n",
       "/* Pipeline and ColumnTransformer style (default) */\n",
       "\n",
       "#sk-container-id-1 div.sk-toggleable {\n",
       "  /* Default theme specific background. It is overwritten whether we have a\n",
       "  specific estimator or a Pipeline/ColumnTransformer */\n",
       "  background-color: var(--sklearn-color-background);\n",
       "}\n",
       "\n",
       "/* Toggleable label */\n",
       "#sk-container-id-1 label.sk-toggleable__label {\n",
       "  cursor: pointer;\n",
       "  display: block;\n",
       "  width: 100%;\n",
       "  margin-bottom: 0;\n",
       "  padding: 0.5em;\n",
       "  box-sizing: border-box;\n",
       "  text-align: center;\n",
       "}\n",
       "\n",
       "#sk-container-id-1 label.sk-toggleable__label-arrow:before {\n",
       "  /* Arrow on the left of the label */\n",
       "  content: \"▸\";\n",
       "  float: left;\n",
       "  margin-right: 0.25em;\n",
       "  color: var(--sklearn-color-icon);\n",
       "}\n",
       "\n",
       "#sk-container-id-1 label.sk-toggleable__label-arrow:hover:before {\n",
       "  color: var(--sklearn-color-text);\n",
       "}\n",
       "\n",
       "/* Toggleable content - dropdown */\n",
       "\n",
       "#sk-container-id-1 div.sk-toggleable__content {\n",
       "  max-height: 0;\n",
       "  max-width: 0;\n",
       "  overflow: hidden;\n",
       "  text-align: left;\n",
       "  /* unfitted */\n",
       "  background-color: var(--sklearn-color-unfitted-level-0);\n",
       "}\n",
       "\n",
       "#sk-container-id-1 div.sk-toggleable__content.fitted {\n",
       "  /* fitted */\n",
       "  background-color: var(--sklearn-color-fitted-level-0);\n",
       "}\n",
       "\n",
       "#sk-container-id-1 div.sk-toggleable__content pre {\n",
       "  margin: 0.2em;\n",
       "  border-radius: 0.25em;\n",
       "  color: var(--sklearn-color-text);\n",
       "  /* unfitted */\n",
       "  background-color: var(--sklearn-color-unfitted-level-0);\n",
       "}\n",
       "\n",
       "#sk-container-id-1 div.sk-toggleable__content.fitted pre {\n",
       "  /* unfitted */\n",
       "  background-color: var(--sklearn-color-fitted-level-0);\n",
       "}\n",
       "\n",
       "#sk-container-id-1 input.sk-toggleable__control:checked~div.sk-toggleable__content {\n",
       "  /* Expand drop-down */\n",
       "  max-height: 200px;\n",
       "  max-width: 100%;\n",
       "  overflow: auto;\n",
       "}\n",
       "\n",
       "#sk-container-id-1 input.sk-toggleable__control:checked~label.sk-toggleable__label-arrow:before {\n",
       "  content: \"▾\";\n",
       "}\n",
       "\n",
       "/* Pipeline/ColumnTransformer-specific style */\n",
       "\n",
       "#sk-container-id-1 div.sk-label input.sk-toggleable__control:checked~label.sk-toggleable__label {\n",
       "  color: var(--sklearn-color-text);\n",
       "  background-color: var(--sklearn-color-unfitted-level-2);\n",
       "}\n",
       "\n",
       "#sk-container-id-1 div.sk-label.fitted input.sk-toggleable__control:checked~label.sk-toggleable__label {\n",
       "  background-color: var(--sklearn-color-fitted-level-2);\n",
       "}\n",
       "\n",
       "/* Estimator-specific style */\n",
       "\n",
       "/* Colorize estimator box */\n",
       "#sk-container-id-1 div.sk-estimator input.sk-toggleable__control:checked~label.sk-toggleable__label {\n",
       "  /* unfitted */\n",
       "  background-color: var(--sklearn-color-unfitted-level-2);\n",
       "}\n",
       "\n",
       "#sk-container-id-1 div.sk-estimator.fitted input.sk-toggleable__control:checked~label.sk-toggleable__label {\n",
       "  /* fitted */\n",
       "  background-color: var(--sklearn-color-fitted-level-2);\n",
       "}\n",
       "\n",
       "#sk-container-id-1 div.sk-label label.sk-toggleable__label,\n",
       "#sk-container-id-1 div.sk-label label {\n",
       "  /* The background is the default theme color */\n",
       "  color: var(--sklearn-color-text-on-default-background);\n",
       "}\n",
       "\n",
       "/* On hover, darken the color of the background */\n",
       "#sk-container-id-1 div.sk-label:hover label.sk-toggleable__label {\n",
       "  color: var(--sklearn-color-text);\n",
       "  background-color: var(--sklearn-color-unfitted-level-2);\n",
       "}\n",
       "\n",
       "/* Label box, darken color on hover, fitted */\n",
       "#sk-container-id-1 div.sk-label.fitted:hover label.sk-toggleable__label.fitted {\n",
       "  color: var(--sklearn-color-text);\n",
       "  background-color: var(--sklearn-color-fitted-level-2);\n",
       "}\n",
       "\n",
       "/* Estimator label */\n",
       "\n",
       "#sk-container-id-1 div.sk-label label {\n",
       "  font-family: monospace;\n",
       "  font-weight: bold;\n",
       "  display: inline-block;\n",
       "  line-height: 1.2em;\n",
       "}\n",
       "\n",
       "#sk-container-id-1 div.sk-label-container {\n",
       "  text-align: center;\n",
       "}\n",
       "\n",
       "/* Estimator-specific */\n",
       "#sk-container-id-1 div.sk-estimator {\n",
       "  font-family: monospace;\n",
       "  border: 1px dotted var(--sklearn-color-border-box);\n",
       "  border-radius: 0.25em;\n",
       "  box-sizing: border-box;\n",
       "  margin-bottom: 0.5em;\n",
       "  /* unfitted */\n",
       "  background-color: var(--sklearn-color-unfitted-level-0);\n",
       "}\n",
       "\n",
       "#sk-container-id-1 div.sk-estimator.fitted {\n",
       "  /* fitted */\n",
       "  background-color: var(--sklearn-color-fitted-level-0);\n",
       "}\n",
       "\n",
       "/* on hover */\n",
       "#sk-container-id-1 div.sk-estimator:hover {\n",
       "  /* unfitted */\n",
       "  background-color: var(--sklearn-color-unfitted-level-2);\n",
       "}\n",
       "\n",
       "#sk-container-id-1 div.sk-estimator.fitted:hover {\n",
       "  /* fitted */\n",
       "  background-color: var(--sklearn-color-fitted-level-2);\n",
       "}\n",
       "\n",
       "/* Specification for estimator info (e.g. \"i\" and \"?\") */\n",
       "\n",
       "/* Common style for \"i\" and \"?\" */\n",
       "\n",
       ".sk-estimator-doc-link,\n",
       "a:link.sk-estimator-doc-link,\n",
       "a:visited.sk-estimator-doc-link {\n",
       "  float: right;\n",
       "  font-size: smaller;\n",
       "  line-height: 1em;\n",
       "  font-family: monospace;\n",
       "  background-color: var(--sklearn-color-background);\n",
       "  border-radius: 1em;\n",
       "  height: 1em;\n",
       "  width: 1em;\n",
       "  text-decoration: none !important;\n",
       "  margin-left: 1ex;\n",
       "  /* unfitted */\n",
       "  border: var(--sklearn-color-unfitted-level-1) 1pt solid;\n",
       "  color: var(--sklearn-color-unfitted-level-1);\n",
       "}\n",
       "\n",
       ".sk-estimator-doc-link.fitted,\n",
       "a:link.sk-estimator-doc-link.fitted,\n",
       "a:visited.sk-estimator-doc-link.fitted {\n",
       "  /* fitted */\n",
       "  border: var(--sklearn-color-fitted-level-1) 1pt solid;\n",
       "  color: var(--sklearn-color-fitted-level-1);\n",
       "}\n",
       "\n",
       "/* On hover */\n",
       "div.sk-estimator:hover .sk-estimator-doc-link:hover,\n",
       ".sk-estimator-doc-link:hover,\n",
       "div.sk-label-container:hover .sk-estimator-doc-link:hover,\n",
       ".sk-estimator-doc-link:hover {\n",
       "  /* unfitted */\n",
       "  background-color: var(--sklearn-color-unfitted-level-3);\n",
       "  color: var(--sklearn-color-background);\n",
       "  text-decoration: none;\n",
       "}\n",
       "\n",
       "div.sk-estimator.fitted:hover .sk-estimator-doc-link.fitted:hover,\n",
       ".sk-estimator-doc-link.fitted:hover,\n",
       "div.sk-label-container:hover .sk-estimator-doc-link.fitted:hover,\n",
       ".sk-estimator-doc-link.fitted:hover {\n",
       "  /* fitted */\n",
       "  background-color: var(--sklearn-color-fitted-level-3);\n",
       "  color: var(--sklearn-color-background);\n",
       "  text-decoration: none;\n",
       "}\n",
       "\n",
       "/* Span, style for the box shown on hovering the info icon */\n",
       ".sk-estimator-doc-link span {\n",
       "  display: none;\n",
       "  z-index: 9999;\n",
       "  position: relative;\n",
       "  font-weight: normal;\n",
       "  right: .2ex;\n",
       "  padding: .5ex;\n",
       "  margin: .5ex;\n",
       "  width: min-content;\n",
       "  min-width: 20ex;\n",
       "  max-width: 50ex;\n",
       "  color: var(--sklearn-color-text);\n",
       "  box-shadow: 2pt 2pt 4pt #999;\n",
       "  /* unfitted */\n",
       "  background: var(--sklearn-color-unfitted-level-0);\n",
       "  border: .5pt solid var(--sklearn-color-unfitted-level-3);\n",
       "}\n",
       "\n",
       ".sk-estimator-doc-link.fitted span {\n",
       "  /* fitted */\n",
       "  background: var(--sklearn-color-fitted-level-0);\n",
       "  border: var(--sklearn-color-fitted-level-3);\n",
       "}\n",
       "\n",
       ".sk-estimator-doc-link:hover span {\n",
       "  display: block;\n",
       "}\n",
       "\n",
       "/* \"?\"-specific style due to the `<a>` HTML tag */\n",
       "\n",
       "#sk-container-id-1 a.estimator_doc_link {\n",
       "  float: right;\n",
       "  font-size: 1rem;\n",
       "  line-height: 1em;\n",
       "  font-family: monospace;\n",
       "  background-color: var(--sklearn-color-background);\n",
       "  border-radius: 1rem;\n",
       "  height: 1rem;\n",
       "  width: 1rem;\n",
       "  text-decoration: none;\n",
       "  /* unfitted */\n",
       "  color: var(--sklearn-color-unfitted-level-1);\n",
       "  border: var(--sklearn-color-unfitted-level-1) 1pt solid;\n",
       "}\n",
       "\n",
       "#sk-container-id-1 a.estimator_doc_link.fitted {\n",
       "  /* fitted */\n",
       "  border: var(--sklearn-color-fitted-level-1) 1pt solid;\n",
       "  color: var(--sklearn-color-fitted-level-1);\n",
       "}\n",
       "\n",
       "/* On hover */\n",
       "#sk-container-id-1 a.estimator_doc_link:hover {\n",
       "  /* unfitted */\n",
       "  background-color: var(--sklearn-color-unfitted-level-3);\n",
       "  color: var(--sklearn-color-background);\n",
       "  text-decoration: none;\n",
       "}\n",
       "\n",
       "#sk-container-id-1 a.estimator_doc_link.fitted:hover {\n",
       "  /* fitted */\n",
       "  background-color: var(--sklearn-color-fitted-level-3);\n",
       "}\n",
       "</style><div id=\"sk-container-id-1\" class=\"sk-top-container\"><div class=\"sk-text-repr-fallback\"><pre>LogisticRegression()</pre><b>In a Jupyter environment, please rerun this cell to show the HTML representation or trust the notebook. <br />On GitHub, the HTML representation is unable to render, please try loading this page with nbviewer.org.</b></div><div class=\"sk-container\" hidden><div class=\"sk-item\"><div class=\"sk-estimator fitted sk-toggleable\"><input class=\"sk-toggleable__control sk-hidden--visually\" id=\"sk-estimator-id-1\" type=\"checkbox\" checked><label for=\"sk-estimator-id-1\" class=\"sk-toggleable__label fitted sk-toggleable__label-arrow fitted\">&nbsp;&nbsp;LogisticRegression<a class=\"sk-estimator-doc-link fitted\" rel=\"noreferrer\" target=\"_blank\" href=\"https://scikit-learn.org/1.5/modules/generated/sklearn.linear_model.LogisticRegression.html\">?<span>Documentation for LogisticRegression</span></a><span class=\"sk-estimator-doc-link fitted\">i<span>Fitted</span></span></label><div class=\"sk-toggleable__content fitted\"><pre>LogisticRegression()</pre></div> </div></div></div></div>"
      ],
      "text/plain": [
       "LogisticRegression()"
      ]
     },
     "execution_count": 8,
     "metadata": {},
     "output_type": "execute_result"
    }
   ],
   "source": [
    "# Train the model\n",
    "model = LogisticRegression()\n",
    "model.fit(X_train_scaled, y_train)\n"
   ]
  },
  {
   "cell_type": "code",
   "execution_count": null,
   "metadata": {
    "id": "NfYEgZGr7txf",
    "outputId": "0e66e327-6f49-467a-a417-bf038331f3ee"
   },
   "outputs": [
    {
     "name": "stderr",
     "output_type": "stream",
     "text": [
      "/opt/anaconda3/envs/dsif/lib/python3.11/site-packages/sklearn/base.py:486: UserWarning: X has feature names, but LogisticRegression was fitted without feature names\n",
      "  warnings.warn(\n"
     ]
    },
    {
     "data": {
      "text/plain": [
       "array([0, 0, 0, ..., 0, 0, 0])"
      ]
     },
     "execution_count": 9,
     "metadata": {},
     "output_type": "execute_result"
    }
   ],
   "source": [
    "# Generate predictions\n",
    "predictions = model.predict(X_test)\n",
    "predictions\n"
   ]
  },
  {
   "cell_type": "code",
   "execution_count": null,
   "metadata": {
    "id": "KASyh0o37txg",
    "outputId": "41ed2034-2ba9-4e80-ff7d-253124905608"
   },
   "outputs": [
    {
     "name": "stdout",
     "output_type": "stream",
     "text": [
      "Accuracy: 0.98545\n",
      "Precision: 0.05405405405405406\n",
      "Recall: 0.017777777777777778\n",
      "F1-Score: 0.026755852842809364\n",
      "ROC-AUC: 0.5312777637308611\n",
      "Confusion Matrix:\n",
      "[[19705    70]\n",
      " [  221     4]]\n"
     ]
    },
    {
     "name": "stderr",
     "output_type": "stream",
     "text": [
      "/opt/anaconda3/envs/dsif/lib/python3.11/site-packages/sklearn/base.py:486: UserWarning: X has feature names, but LogisticRegression was fitted without feature names\n",
      "  warnings.warn(\n"
     ]
    }
   ],
   "source": [
    "from sklearn.metrics import accuracy_score, precision_score, recall_score, f1_score, roc_auc_score, confusion_matrix\n",
    "\n",
    "# Calculate metrics\n",
    "accuracy = accuracy_score(y_test, predictions)\n",
    "precision = precision_score(y_test, predictions)\n",
    "recall = recall_score(y_test, predictions)\n",
    "f1 = f1_score(y_test, predictions)\n",
    "roc_auc = roc_auc_score(y_test, model.predict_proba(X_test)[:,1])\n",
    "\n",
    "# Display the confusion matrix\n",
    "cm = confusion_matrix(y_test, predictions)\n",
    "\n",
    "print(f'Accuracy: {accuracy}')\n",
    "print(f'Precision: {precision}')\n",
    "print(f'Recall: {recall}')\n",
    "print(f'F1-Score: {f1}')\n",
    "print(f'ROC-AUC: {roc_auc}')\n",
    "print(f'Confusion Matrix:\\n{cm}')\n"
   ]
  },
  {
   "cell_type": "code",
   "execution_count": null,
   "metadata": {
    "id": "8GtXSoRn7txg"
   },
   "outputs": [],
   "source": [
    "## Dump model and scaler\n",
    "import pickle\n",
    "\n",
    "# Save the model and scaler\n",
    "with open(f\"{path_python_material}/models/model.pkl\", \"wb\") as f:\n",
    "    pickle.dump(model, f)\n",
    "\n",
    "with open(f\"{path_python_material}/models/scaler.pkl\", \"wb\") as f:\n",
    "    pickle.dump(scaler, f)\n"
   ]
  },
  {
   "cell_type": "markdown",
   "metadata": {
    "id": "Bi79h38f7txg"
   },
   "source": [
    "## API endpoint\n",
    "Let's create an API endpoint where users can send transaction data and get a prediction of whether it's fraudulent.\n",
    "Save the following in dsif11app-FRAUD.py"
   ]
  },
  {
   "cell_type": "code",
   "execution_count": null,
   "metadata": {
    "id": "pYZ4B9uW7txg"
   },
   "outputs": [],
   "source": [
    "code_fraud = \"\"\"\n",
    "\n",
    "path_python_material = \"..\" # REPLACE WITH YOUR PATH\n",
    "\n",
    "# If unsure, print current directory path by executing the following in a new cell:\n",
    "# !pwd\n",
    "\n",
    "import pickle\n",
    "from fastapi import FastAPI\n",
    "from pydantic import BaseModel\n",
    "\n",
    "app = FastAPI()\n",
    "\n",
    "# Load the model and scaler\n",
    "with open(f\"{path_python_material}/models/model.pkl\", 'rb') as f:\n",
    "    model = pickle.load(f)\n",
    "\n",
    "with open(f\"{path_python_material}/models/scaler.pkl\", 'rb') as f:\n",
    "    scaler = pickle.load(f)\n",
    "\n",
    "class Transaction(BaseModel):\n",
    "    transaction_amount: float\n",
    "    customer_age: int\n",
    "    customer_balance: float\n",
    "\n",
    "@app.post(\"/predict/\")\n",
    "def predict_fraud(transaction: Transaction):\n",
    "\n",
    "    data_point = [[\n",
    "        transaction.transaction_amount,\n",
    "        transaction.customer_age,\n",
    "        transaction.customer_balance\n",
    "    ]]\n",
    "\n",
    "    # Scale the data point and predict\n",
    "    data_point_scaled = scaler.transform(data_point)\n",
    "    prediction = model.predict(data_point_scaled)\n",
    "\n",
    "    return {\"fraud_prediction\": int(prediction[0])}\n",
    "\n",
    "\"\"\"\n",
    "\n",
    "with open(f\"{path_python_material}/notebooks/dsif11app-fraud.py\", 'w') as file:\n",
    "    file.write(code_fraud)"
   ]
  },
  {
   "cell_type": "markdown",
   "metadata": {
    "id": "oVAr7Glh7txh"
   },
   "source": [
    "## Streamlit front end\n",
    "Save the following in dsif11app-streamlit.py\n",
    "**Note**: Port needs to be the same as used in command further down (see 'running the app')"
   ]
  },
  {
   "cell_type": "code",
   "execution_count": null,
   "metadata": {
    "id": "A5wxDMmn7txh"
   },
   "outputs": [],
   "source": [
    "code_streamlit = \"\"\"\n",
    "\n",
    "import streamlit as st\n",
    "import requests\n",
    "\n",
    "st.title(\"Fraud Detection App\")\n",
    "\n",
    "transaction_amount = st.number_input(\"Transaction Amount\")\n",
    "customer_age = st.number_input(\"Customer Age\")\n",
    "customer_balance = st.number_input(\"Customer Balance\")\n",
    "\n",
    "if st.button(\"Predict\"):\n",
    "    response = requests.post(\"http://localhost:8502/predict/\",\n",
    "                             json={\n",
    "                                 \"transaction_amount\": transaction_amount,\n",
    "                                 \"customer_age\": customer_age,\n",
    "                                 \"customer_balance\": customer_balance\n",
    "                             })\n",
    "    result = response.json()\n",
    "\n",
    "    if result['fraud_prediction'] == 0:\n",
    "        st.write(\"Prediction: Not fraudulent\")\n",
    "    else:\n",
    "        st.write(\"Prediction: Fraudulent\")\n",
    "\n",
    "\n",
    "\"\"\"\n",
    "\n",
    "with open(f\"{path_python_material}/notebooks/dsif11app-fraud-streamlit.py\", 'w') as file:\n",
    "    file.write(code_streamlit)"
   ]
  },
  {
   "cell_type": "markdown",
   "metadata": {
    "id": "_r-JDLe97txh"
   },
   "source": [
    "## Running the app\n"
   ]
  },
  {
   "cell_type": "markdown",
   "metadata": {},
   "source": [
    "To start the app, run the following commands **in 2 different terminal windows**  \n",
    "\n",
    "terminal window 1: `uvicorn dsif11app-fraud:app --reload --port 8502`     \n",
    "terminal window 2: `streamlit run dsif11app-fraud-streamlit.py`      \n",
    "\n",
    "This will load up the app below:"
   ]
  },
  {
   "cell_type": "code",
   "execution_count": null,
   "metadata": {
    "id": "noDV8d_g7txh",
    "outputId": "485497df-0271-4508-82a4-b6138b6b9f7a"
   },
   "outputs": [
    {
     "data": {
      "image/png": "[encoded data removed]",
      "text/plain": [
       "<IPython.core.display.Image object>"
      ]
     },
     "execution_count": 15,
     "metadata": {
      "image/png": {
       "width": 800
      }
     },
     "output_type": "execute_result"
    }
   ],
   "source": [
    "from IPython.display import Image\n",
    "Image(filename=f\"{path_python_material}/images/streamlit-app.png\", width=800,)\n"
   ]
  },
  {
   "cell_type": "markdown",
   "metadata": {
    "executionInfo": {
     "elapsed": 344,
     "status": "ok",
     "timestamp": 1725171211254,
     "user": {
      "displayName": "Andrea Baroni",
      "userId": "13443912204230378793"
     },
     "user_tz": -60
    },
    "id": "LLJK87cl7txh",
    "outputId": "fe6968f7-3214-4d79-88bf-94564852c6de"
   },
   "source": [
    "# 3. Assignment"
   ]
  },
  {
   "cell_type": "markdown",
   "metadata": {
    "executionInfo": {
     "elapsed": 13,
     "status": "aborted",
     "timestamp": 1725170760639,
     "user": {
      "displayName": "Andrea Baroni",
      "userId": "13443912204230378793"
     },
     "user_tz": -60
    },
    "id": "rTgQtMqmIZDh"
   },
   "source": [
    "### **Assignment Instructions**\n",
    "\n",
    "In this assignment, you will enhance your existing FastAPI and Streamlit applications by incorporating advanced features, improving usability, and ensuring the solution is robust, explainable, and ethical. Your final submission will include a functioning application, along with comprehensive documentation and an analysis report. **PLEASE also include a report with screenshots of the functioning app and its key functionality.**\n",
    "\n",
    "### **Requirements**\n",
    "\n",
    "#### 1\\. **Enhance streamlit UI with interactive visualizations** (4 points)\n",
    "    -   Upgrade your Streamlit application by adding interactive visualizations. Include a feature importance graph to help users understand which features are most influential in predicting fraud. Implement real-time confidence intervals to display the model's prediction uncertainty.\n",
    "    -   Ensure the UI is intuitive and informative, catering to non-technical users.\n",
    "\n",
    "#### 2\\. **Incorporate SHAP Value Reporting** (4 points)\n",
    "    -   Integrate SHAP (SHapley Additive exPlanations) into your application to provide explanations for each prediction. Display SHAP values for individual transactions so that users can see which features contributed to the prediction.\n",
    "\n",
    "\n",
    "#### 3\\. **Real-Time Data Scoring** (2 points)\n",
    "    -   Modify your FastAPI application to handle real-time data streams. Implement a feature that allows the model to continuously score incoming transactions from a simulated real-time data source (e.g., reading from a file, Kafka, or WebSocket).\n",
    "    -   **Example:** Set up a simulated data stream (e.g., using a loop that reads transactions from a CSV file) and adapt your FastAPI app to process and score this data in real-time.\n",
    "\n",
    "\n",
    "#### 4\\. **Cloud Deployment and Monitoring** (2 points)\n",
    "    -   Deploy your FastAPI application to a cloud platform (e.g., AWS, Azure, Heroku). Set up basic monitoring to log and analyze prediction results over time. Provide a brief report on the application's performance post-deployment.\n",
    "\n",
    "\n",
    "#### 5\\. **Bias Analysis and Ethical Implications** (2 points)\n",
    "    -   Analyze your model for potential bias, especially regarding customer demographics (i.e. age). Discuss any ethical implications of using your model in a real-world setting and propose strategies to mitigate identified biases if any (e.g. rebalancing the training dataset or adjusting model thresholds).\n",
    "\n",
    "#### 6\\. **Security Measures in FastAPI** (2 points)\n",
    "    -   Implement at least two security measures in your FastAPI application to protect it from common vulnerabilities. These could include input validation, rate limiting, or basic authentication.\n",
    "        > e.g.:\n",
    "        - Add input validation to ensure that only valid data is processed by the API.\n",
    "        - Implement rate limiting to prevent abuse by limiting the number of requests from a single IP address.\n",
    "\n",
    "#### 7\\. **Comprehensive Documentation and Testing** (2 points)\n",
    "    -   Write detailed documentation for your FastAPI application, including instructions on deployment, usage, and extending the model. Implement unit and integration tests to ensure your API endpoints and model predictions are functioning correctly.\n",
    "    -   **Example:** Create a README file that explains how to set up and deploy the FastAPI app, including example API calls. Write unit tests using a testing framework (e.g., pytest) to validate API behavior.\n"
   ]
  },
  {
   "cell_type": "markdown",
   "metadata": {
    "executionInfo": {
     "elapsed": 277,
     "status": "ok",
     "timestamp": 1725171374347,
     "user": {
      "displayName": "Andrea Baroni",
      "userId": "13443912204230378793"
     },
     "user_tz": -60
    },
    "id": "qGcQo40IIZK7"
   },
   "source": [
    "# Solution\n",
    "\n",
    "## 1 & 2"
   ]
  },
  {
   "cell_type": "code",
   "execution_count": null,
   "metadata": {
    "id": "-pz_mM067txi"
   },
   "outputs": [],
   "source": [
    "# Save the ndarray to a file\n",
    "np.save(f\"{path_python_material}/data/2-intermediate/dsif11-X_train_scaled.npy\", X_train_scaled)\n"
   ]
  },
  {
   "cell_type": "code",
   "execution_count": null,
   "metadata": {
    "id": "Mg1ys2lV7txi"
   },
   "outputs": [],
   "source": [
    "folder_assignment = \"dsif11-assignment\"\n",
    "code_assignment = \"\"\"\n",
    "\n",
    "path_python_material = \"..\" # REPLACE WITH YOUR PATH\n",
    "\n",
    "# If unsure, print current directory path by executing the following in a new cell:\n",
    "# !pwd\n",
    "\n",
    "import numpy as np\n",
    "import pickle\n",
    "from fastapi import FastAPI\n",
    "from pydantic import BaseModel\n",
    "import shap\n",
    "\n",
    "\n",
    "app = FastAPI()\n",
    "\n",
    "# Load the model and scaler\n",
    "with open(f\"{path_python_material}/../models/model.pkl\", 'rb') as f:\n",
    "    model = pickle.load(f)\n",
    "\n",
    "with open(f\"{path_python_material}/../models/scaler.pkl\", 'rb') as f:\n",
    "    scaler = pickle.load(f)\n",
    "\n",
    "class Transaction(BaseModel):\n",
    "    transaction_amount: float\n",
    "    customer_age: int\n",
    "    customer_balance: float\n",
    "\n",
    "# Route to get feature importance\n",
    "@app.get(\"/feature-importance\")\n",
    "def get_feature_importance():\n",
    "    importance = model.coef_[0].tolist()\n",
    "    features = ['transaction_amount', 'customer_age', 'customer_balance']\n",
    "    feature_importance = dict(zip(features, importance))\n",
    "    return {\"feature_importance\": feature_importance}\n",
    "\n",
    "# Route to predict new observations\n",
    "@app.post(\"/predict/\")\n",
    "def predict_fraud(transaction: Transaction):\n",
    "\n",
    "    data_point = [[\n",
    "        transaction.transaction_amount,\n",
    "        transaction.customer_age,\n",
    "        transaction.customer_balance\n",
    "    ]]\n",
    "\n",
    "    # Scale the data point and predict\n",
    "    data_point_scaled = scaler.transform(data_point)\n",
    "    prediction = model.predict(data_point_scaled)\n",
    "\n",
    "    # Get probabilities for each class\n",
    "    probabilities = model.predict_proba(data_point_scaled)\n",
    "    confidence = probabilities[0].tolist()\n",
    "\n",
    "    # Shap values\n",
    "    path = f\"{path_python_material}/../data/2-intermediate/dsif11-X_train_scaled.npy\"\n",
    "    print(path)\n",
    "    X_train_scaled = np.load(path)\n",
    "    explainer = shap.LinearExplainer(model, X_train_scaled)\n",
    "    shap_values = explainer.shap_values(data_point_scaled)\n",
    "\n",
    "    return {\n",
    "        \"fraud_prediction\": int(prediction[0]),\n",
    "        \"confidence\": confidence,\n",
    "        \"shap_values\": shap_values.tolist(),\n",
    "        \"features\": ['transaction_amount', 'customer_age', 'customer_balance']\n",
    "        }\n",
    "\n",
    "\"\"\"\n",
    "\n",
    "with open(f\"{path_python_material}/notebooks/{folder_assignment}/dsif11app-fraud.py\", 'w') as file:\n",
    "    file.write(code_assignment)\n"
   ]
  },
  {
   "cell_type": "code",
   "execution_count": null,
   "metadata": {
    "id": "uiam5oDi7txj"
   },
   "outputs": [],
   "source": [
    "\n",
    "st_code_assignment = \"\"\"\n",
    "\n",
    "api_url = \"http://localhost:8502\"\n",
    "\n",
    "import streamlit as st\n",
    "import requests\n",
    "import numpy as np\n",
    "import matplotlib.pyplot as plt\n",
    "import shap\n",
    "\n",
    "st.title(\"Fraud Detection App\")\n",
    "\n",
    "transaction_amount = st.number_input(\"Transaction Amount\")\n",
    "customer_age = st.number_input(\"Customer Age\")\n",
    "customer_balance = st.number_input(\"Customer Balance\")\n",
    "\n",
    "data = {\n",
    "        \"transaction_amount\": transaction_amount,\n",
    "        \"customer_age\": customer_age,\n",
    "        \"customer_balance\": customer_balance\n",
    "    }\n",
    "\n",
    "if st.button(\"Show Feature Importance\"):\n",
    "    import matplotlib.pyplot as plt\n",
    "    response = requests.get(f\"{api_url}/feature-importance\")\n",
    "    feature_importance = response.json().get('feature_importance', {})\n",
    "\n",
    "    features = list(feature_importance.keys())\n",
    "    importance = list(feature_importance.values())\n",
    "\n",
    "    fig, ax = plt.subplots()\n",
    "    ax.barh(features, importance)\n",
    "    ax.set_xlabel('Importance')\n",
    "    ax.set_title('Feature Importance')\n",
    "    st.pyplot(fig)\n",
    "\n",
    "\n",
    "if st.button(\"Predict\"):\n",
    "    response = requests.post(f\"{api_url}/predict/\",\n",
    "                             json=data)\n",
    "    result = response.json()\n",
    "\n",
    "    if result['fraud_prediction'] == 0:\n",
    "        st.write(\"Prediction: Not fraudulent\")\n",
    "    else:\n",
    "        st.write(\"Prediction: Fraudulent\")\n",
    "\n",
    "    ######### SHAP #########\n",
    "    # Extract SHAP values and feature names\n",
    "    shap_values = np.array(result['shap_values'])\n",
    "    features = result['features']\n",
    "\n",
    "    # Display SHAP values\n",
    "    st.subheader(\"SHAP Values Explanation\")\n",
    "\n",
    "    # Bar plot for SHAP values\n",
    "    fig, ax = plt.subplots()\n",
    "    ax.barh(features, shap_values[0])\n",
    "    ax.set_xlabel('SHAP Value (Impact on Model Output)')\n",
    "    st.pyplot(fig)\n",
    "\n",
    "if st.button(\"Predict and show confidence intervals\"):\n",
    "    # Make the API call\n",
    "\n",
    "    response = requests.post(f\"{api_url}/predict/\",\n",
    "                            json=data)\n",
    "    result = response.json()\n",
    "    confidence = result['confidence']\n",
    "\n",
    "    if result['fraud_prediction'] == 0:\n",
    "        st.write(\"Prediction: Not fraudulent\")\n",
    "    else:\n",
    "        st.write(\"Prediction: Fraudulent\")\n",
    "\n",
    "    # Confidence Interval Visualization\n",
    "    labels = ['Not Fraudulent', 'Fraudulent']\n",
    "    fig, ax = plt.subplots()\n",
    "    ax.bar(labels, confidence, color=['green', 'red'])\n",
    "    ax.set_ylabel('Confidence')\n",
    "    ax.set_title('Prediction Confidence')\n",
    "    st.pyplot(fig)\n",
    "\n",
    "\"\"\"\n",
    "\n",
    "with open(f\"{path_python_material}/notebooks/{folder_assignment}/dsif11app-fraud-streamlit.py\", 'w') as file:\n",
    "    file.write(st_code_assignment)\n",
    "\n"
   ]
  },
  {
   "cell_type": "code",
   "execution_count": null,
   "metadata": {
    "id": "-zWHtgYD7txj"
   },
   "outputs": [],
   "source": [
    "# # Run the following in 2 different terminal windows\n",
    "# uvicorn dsif11app-fraud:app --reload --port 8502\n",
    "# streamlit run dsif11app-fraud-streamlit.py\n"
   ]
  },
  {
   "cell_type": "code",
   "execution_count": null,
   "metadata": {
    "id": "4KI7MJPe7txj"
   },
   "outputs": [],
   "source": []
  },
  {
   "cell_type": "code",
   "execution_count": null,
   "metadata": {
    "id": "6tbTGZHu7txj"
   },
   "outputs": [],
   "source": []
  },
  {
   "cell_type": "markdown",
   "metadata": {
    "id": "L2oU-bW1TQiD"
   },
   "source": [
    "### <span style=\"color:BLUE\"> **>>> EXERCISE:**  </span>    \n"
   ]
  },
  {
   "cell_type": "markdown",
   "metadata": {
    "id": "2oEJbpLSTQiF"
   },
   "source": [
    "### <span style=\"color:BLUE\"> **>>> DISCUSSION:**  </span>    "
   ]
  },
  {
   "cell_type": "code",
   "execution_count": null,
   "metadata": {
    "id": "0o1yez5nTQiG"
   },
   "outputs": [],
   "source": []
  },
  {
   "cell_type": "markdown",
   "metadata": {
    "id": "KGQ_8CZjTQiG"
   },
   "source": [
    "# End of session"
   ]
  },
  {
   "cell_type": "code",
   "execution_count": null,
   "metadata": {
    "id": "totLU62DTQiG"
   },
   "outputs": [],
   "source": [
    "from IPython.display import Image\n",
    "Image(filename=f\"{path_python_material}/images/the-end.jpg\", width=500,)\n"
   ]
  },
  {
   "cell_type": "code",
   "execution_count": null,
   "metadata": {
    "id": "W3VtHdbqTQiH"
   },
   "outputs": [],
   "source": []
  }
 ],
 "metadata": {
  "colab": {
   "provenance": []
  },
  "kernelspec": {
   "display_name": "dsif",
   "language": "python",
   "name": "dsif"
  },
  "language_info": {
   "codemirror_mode": {
    "name": "ipython",
    "version": 3
   },
   "file_extension": ".py",
   "mimetype": "text/x-python",
   "name": "python",
   "nbconvert_exporter": "python",
   "pygments_lexer": "ipython3",
   "version": "3.11.9"
  }
 },
 "nbformat": 4,
 "nbformat_minor": 1
}
