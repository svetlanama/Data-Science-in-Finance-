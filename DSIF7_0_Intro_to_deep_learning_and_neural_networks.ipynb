{
  "cells": [
    {
      "cell_type": "markdown",
      "metadata": {
        "id": "view-in-github",
        "colab_type": "text"
      },
      "source": [
        "<a href=\"https://colab.research.google.com/github/svetlanama/Data-Science-in-Finance-/blob/main/DSIF7_0_Intro_to_deep_learning_and_neural_networks.ipynb\" target=\"_parent\"><img src=\"https://colab.research.google.com/assets/colab-badge.svg\" alt=\"Open In Colab\"/></a>"
      ]
    },
    {
      "cell_type": "markdown",
      "metadata": {
        "id": "DH1XQ07F5Bx8"
      },
      "source": [
        "# Introduction\n",
        "\n",
        "Welcome to our class on deep learning and neural networks.\n",
        "In this session, we will introduce basic concepts of neural networks, key parameters and concepts in deep learning, and how these models are used in financial tasks like creditworthiness prediction.\n",
        "\n",
        "## Agenda:\n",
        "1. Useful concepts\n",
        "2. Data preprocessing\n",
        "3. Building a neural network model\n",
        "4. Assignment overview\n"
      ]
    },
    {
      "cell_type": "markdown",
      "metadata": {
        "id": "h8AUO6PKRBCm"
      },
      "source": [
        "\n",
        "\n",
        "# 1. Useful concepts\n",
        "An **activation function** determines the output of a neuron given an input or set of inputs. They introduce non-linearity into the network, allowing it to learn from errors and improve.\n",
        "\n",
        "**Common activation functions:**\n",
        "| **Activation Function**    | **Description**                                                                                       |\n",
        "|----------------------------|-------------------------------------------------------------------------------------------------------|\n",
        "| **Linear**                 | Not so useful for deep learning; can't perform backpropagation, essential for training multi-layer networks. |\n",
        "| **Binary**                 | On/off activation; limited for complex classification; vertical slopes hinder calculus, ineffective for modern networks. |\n",
        "| **Non-linear** (key to DL) | Essential for complex mappings, backpropagation, and multiple layers. Examples below.  |\n",
        "\n",
        "\n",
        "**Common NON LINEAR activation functions:**\n",
        "| **Activation Function**    | **Description**                                                                                       |\n",
        "|----------------------------|-------------------------------------------------------------------------------------------------------|\n",
        "| **Sigmoid (Logistic)**      | Scales outputs between 0 and 1; common for binary classification but suffers from vanishing gradients. |\n",
        "| **Tanh (Hyperbolic)**       | Scales between -1 and +1; better for RNNs, but faces vanishing gradient issues and is computationally expensive. |\n",
        "| **ReLU**                    | Popular for simplicity and speed; becomes linear when <= 0, limiting learning.                        |\n",
        "| **Leaky ReLU**              | Introduces a negative slope for values below 0, solving the zeroing-out problem.                      |\n",
        "| **Parametric ReLU (PReLU)** | Similar to Leaky ReLU, but slope is learned via backpropagation; computationally intensive.            |\n",
        "| **Other ReLU Variants**     | Includes ELU (Exponential), Google’s Swish (deep networks), Maxout (powerful but impractical).         |\n",
        "| **Softmax**                 | Converts outputs to probabilities; used for single-label classification; Sigmoid handles multi-label tasks. |\n",
        "\n",
        "\n",
        "**Loss function:** Measures the difference between the predicted output and the actual target. The goal is to minimize this loss during training.\n",
        "  - Example: Mean Squared Error (MSE), Cross-Entropy Loss.\n",
        "  \n",
        "**Optimization algorithms:** Methods used to minimize the loss function by adjusting the network's weights.\n",
        "  - **Gradient Descent:** The most common optimization algorithm, which updates the model's parameters by computing the gradient of the loss function.\n",
        "  - **Adam** is a popular stochastic gradient descent method that is computationally efficient, has little memory requirement and is well suited for problems that are large in terms of data/parameters.\n",
        "  - **Learning Rate:** A hyperparameter that controls how much the model's parameters are adjusted with each step of the optimization.\n",
        "\n",
        "**Number of layers and neurons:** More layers and neurons can capture more complex patterns but may lead to overfitting if not managed properly.\n",
        "\n",
        "**Regularization:** Techniques like dropout or L2 regularization help prevent overfitting by adding constraints to the model.\n",
        "\n",
        "---\n",
        "\n",
        "## Popular Python Frameworks for Neural Networks\n",
        "\n",
        "### Overview of Popular Frameworks\n",
        "- **TensorFlow and Keras:** Developed by Google, Keras is a high-level API that runs on top of TensorFlow. It's user-friendly and great for beginners.\n",
        "- **PyTorch:** Developed by Facebook, PyTorch is popular in academia for its flexibility and ease of debugging.\n",
        "\n",
        "**For This Course:**  \n",
        "We’ll focus on TensorFlow/Keras due to its simplicity and wide adoption in the industry.\n",
        "\n",
        "---\n",
        "\n",
        "Demo: Implementation in Python\n",
        "------------------------------\n",
        "\n",
        "### LendingClub Use Case\n",
        "\n",
        "\n",
        "---\n"
      ]
    },
    {
      "cell_type": "markdown",
      "metadata": {
        "id": "aeseLRulRBCn"
      },
      "source": [
        "### Set up"
      ]
    },
    {
      "cell_type": "markdown",
      "metadata": {
        "id": "sVcRQbveRBCo"
      },
      "source": [
        "#### User-specified parameters"
      ]
    },
    {
      "cell_type": "code",
      "execution_count": null,
      "metadata": {
        "id": "5TTTjZ1KRBCo"
      },
      "outputs": [],
      "source": [
        "python_material_folder_name = \"python-material\""
      ]
    },
    {
      "cell_type": "markdown",
      "metadata": {
        "id": "o_8Z641LRBCp"
      },
      "source": [
        "#### Import libraries"
      ]
    },
    {
      "cell_type": "code",
      "execution_count": null,
      "metadata": {
        "id": "_fnt6O1aRBCp"
      },
      "outputs": [],
      "source": [
        "import pandas as pd\n",
        "import numpy as np\n",
        "\n",
        "pd.set_option('display.max_columns', None)\n",
        "pd.set_option('display.max_rows', None)\n",
        "\n",
        "# Check if in Google Colab environment\n",
        "try:\n",
        "    from google.colab import drive\n",
        "    # Mount drive\n",
        "    drive.mount('/content/drive')\n",
        "    # Set up path to Python material parent folder\n",
        "    path_python_material = rf\"drive/MyDrive/{python_material_folder_name}\"\n",
        "        # If unsure, print current directory path by executing the following in a new cell:\n",
        "        # !pwd\n",
        "    IN_COLAB = True\n",
        "\n",
        "    import os\n",
        "    import sys\n",
        "\n",
        "    # Get the current working directory (notebook's directory)\n",
        "    notebook_dir = f\"{path_python_material}/notebooks\"\n",
        "    print(notebook_dir)\n",
        "\n",
        "    if notebook_dir not in sys.path:\n",
        "      sys.path.append(notebook_dir)\n",
        "\n",
        "except:\n",
        "    IN_COLAB = False\n",
        "    # If working locally on Jupyter Notebook, parent folder is one folder up (assuming you are using the folder structure shared at the beginning of the course)\n",
        "    path_python_material = \"..\""
      ]
    },
    {
      "cell_type": "markdown",
      "metadata": {
        "id": "aSq1v8uyRBCq"
      },
      "source": [
        "#### Import data"
      ]
    },
    {
      "cell_type": "code",
      "execution_count": null,
      "metadata": {
        "colab": {
          "base_uri": "https://localhost:8080/",
          "height": 226
        },
        "id": "xJviswQFRBCq",
        "outputId": "196077be-7e26-418b-e092-d1d0499f86dc"
      },
      "outputs": [
        {
          "data": {
            "text/html": [
              "<div>\n",
              "<style scoped>\n",
              "    .dataframe tbody tr th:only-of-type {\n",
              "        vertical-align: middle;\n",
              "    }\n",
              "\n",
              "    .dataframe tbody tr th {\n",
              "        vertical-align: top;\n",
              "    }\n",
              "\n",
              "    .dataframe thead th {\n",
              "        text-align: right;\n",
              "    }\n",
              "</style>\n",
              "<table border=\"1\" class=\"dataframe\">\n",
              "  <thead>\n",
              "    <tr style=\"text-align: right;\">\n",
              "      <th></th>\n",
              "      <th>loan_amnt</th>\n",
              "      <th>installment</th>\n",
              "      <th>annual_inc</th>\n",
              "      <th>delinq_2yrs</th>\n",
              "      <th>fico_range_low</th>\n",
              "      <th>fico_range_high</th>\n",
              "      <th>inq_last_6mths</th>\n",
              "      <th>open_acc</th>\n",
              "      <th>pub_rec</th>\n",
              "      <th>revol_bal</th>\n",
              "      <th>total_acc</th>\n",
              "      <th>total_rec_prncp</th>\n",
              "      <th>total_rec_int</th>\n",
              "      <th>total_rec_late_fee</th>\n",
              "      <th>recoveries</th>\n",
              "      <th>collection_recovery_fee</th>\n",
              "      <th>last_pymnt_amnt</th>\n",
              "      <th>last_fico_range_high</th>\n",
              "      <th>last_fico_range_low</th>\n",
              "      <th>collections_12_mths_ex_med</th>\n",
              "      <th>policy_code</th>\n",
              "      <th>acc_now_delinq</th>\n",
              "      <th>tot_coll_amt</th>\n",
              "      <th>tot_cur_bal</th>\n",
              "      <th>open_acc_6m</th>\n",
              "      <th>open_act_il</th>\n",
              "      <th>open_il_12m</th>\n",
              "      <th>open_il_24m</th>\n",
              "      <th>mths_since_rcnt_il</th>\n",
              "      <th>total_bal_il</th>\n",
              "      <th>il_util</th>\n",
              "      <th>open_rv_12m</th>\n",
              "      <th>open_rv_24m</th>\n",
              "      <th>max_bal_bc</th>\n",
              "      <th>all_util</th>\n",
              "      <th>total_rev_hi_lim</th>\n",
              "      <th>inq_fi</th>\n",
              "      <th>total_cu_tl</th>\n",
              "      <th>inq_last_12m</th>\n",
              "      <th>acc_open_past_24mths</th>\n",
              "      <th>avg_cur_bal</th>\n",
              "      <th>bc_open_to_buy</th>\n",
              "      <th>bc_util</th>\n",
              "      <th>chargeoff_within_12_mths</th>\n",
              "      <th>delinq_amnt</th>\n",
              "      <th>mo_sin_old_il_acct</th>\n",
              "      <th>mo_sin_old_rev_tl_op</th>\n",
              "      <th>mo_sin_rcnt_rev_tl_op</th>\n",
              "      <th>mo_sin_rcnt_tl</th>\n",
              "      <th>mort_acc</th>\n",
              "      <th>mths_since_recent_bc</th>\n",
              "      <th>mths_since_recent_inq</th>\n",
              "      <th>num_accts_ever_120_pd</th>\n",
              "      <th>num_actv_bc_tl</th>\n",
              "      <th>num_actv_rev_tl</th>\n",
              "      <th>num_bc_sats</th>\n",
              "      <th>num_bc_tl</th>\n",
              "      <th>num_il_tl</th>\n",
              "      <th>num_op_rev_tl</th>\n",
              "      <th>num_rev_accts</th>\n",
              "      <th>num_rev_tl_bal_gt_0</th>\n",
              "      <th>num_sats</th>\n",
              "      <th>num_tl_120dpd_2m</th>\n",
              "      <th>num_tl_30dpd</th>\n",
              "      <th>num_tl_90g_dpd_24m</th>\n",
              "      <th>num_tl_op_past_12m</th>\n",
              "      <th>pct_tl_nvr_dlq</th>\n",
              "      <th>percent_bc_gt_75</th>\n",
              "      <th>pub_rec_bankruptcies</th>\n",
              "      <th>tax_liens</th>\n",
              "      <th>tot_hi_cred_lim</th>\n",
              "      <th>total_bal_ex_mort</th>\n",
              "      <th>total_bc_limit</th>\n",
              "      <th>total_il_high_credit_limit</th>\n",
              "      <th>last_pymnt_amnt_log</th>\n",
              "      <th>last_pymnt_amnt_capped</th>\n",
              "      <th>int_rate_clean</th>\n",
              "      <th>term_numeric</th>\n",
              "      <th>debt_to_income</th>\n",
              "      <th>interest_per_loan_amnt</th>\n",
              "      <th>loan_amnt_log</th>\n",
              "      <th>grade_encoded</th>\n",
              "      <th>loan_amnt_std</th>\n",
              "      <th>annual_inc_std</th>\n",
              "      <th>loan_amnt_norm</th>\n",
              "      <th>annual_inc_norm</th>\n",
              "      <th>loan_default</th>\n",
              "    </tr>\n",
              "  </thead>\n",
              "  <tbody>\n",
              "    <tr>\n",
              "      <th>0</th>\n",
              "      <td>4000.0</td>\n",
              "      <td>134.93</td>\n",
              "      <td>48000.0</td>\n",
              "      <td>1.0</td>\n",
              "      <td>665.0</td>\n",
              "      <td>669.0</td>\n",
              "      <td>0.0</td>\n",
              "      <td>4.0</td>\n",
              "      <td>1.0</td>\n",
              "      <td>1988.0</td>\n",
              "      <td>12.0</td>\n",
              "      <td>183.66</td>\n",
              "      <td>83.29</td>\n",
              "      <td>0.0</td>\n",
              "      <td>0.0</td>\n",
              "      <td>0.0</td>\n",
              "      <td>134.93</td>\n",
              "      <td>669.0</td>\n",
              "      <td>665.0</td>\n",
              "      <td>1.0</td>\n",
              "      <td>1.0</td>\n",
              "      <td>0.0</td>\n",
              "      <td>3832.0</td>\n",
              "      <td>259024.0</td>\n",
              "      <td>0.0</td>\n",
              "      <td>1.0</td>\n",
              "      <td>0.0</td>\n",
              "      <td>1.0</td>\n",
              "      <td>16.0</td>\n",
              "      <td>9960.0</td>\n",
              "      <td>56.0</td>\n",
              "      <td>0.0</td>\n",
              "      <td>0.0</td>\n",
              "      <td>0.0</td>\n",
              "      <td>59.0</td>\n",
              "      <td>2400.0</td>\n",
              "      <td>1.0</td>\n",
              "      <td>0.0</td>\n",
              "      <td>0.0</td>\n",
              "      <td>1.0</td>\n",
              "      <td>64756.0</td>\n",
              "      <td>6262.5</td>\n",
              "      <td>57.3</td>\n",
              "      <td>0.0</td>\n",
              "      <td>0.0</td>\n",
              "      <td>179.0</td>\n",
              "      <td>75.0</td>\n",
              "      <td>38.0</td>\n",
              "      <td>16.0</td>\n",
              "      <td>2.0</td>\n",
              "      <td>14.0</td>\n",
              "      <td>16.0</td>\n",
              "      <td>1.0</td>\n",
              "      <td>0.0</td>\n",
              "      <td>2.0</td>\n",
              "      <td>0.0</td>\n",
              "      <td>1.0</td>\n",
              "      <td>5.0</td>\n",
              "      <td>2.0</td>\n",
              "      <td>5.0</td>\n",
              "      <td>2.0</td>\n",
              "      <td>4.0</td>\n",
              "      <td>0.0</td>\n",
              "      <td>0.0</td>\n",
              "      <td>0.0</td>\n",
              "      <td>0.0</td>\n",
              "      <td>75.0</td>\n",
              "      <td>33.3</td>\n",
              "      <td>1.0</td>\n",
              "      <td>0.0</td>\n",
              "      <td>395328.0</td>\n",
              "      <td>11948.0</td>\n",
              "      <td>0.0</td>\n",
              "      <td>17928.0</td>\n",
              "      <td>4.912140</td>\n",
              "      <td>134.93</td>\n",
              "      <td>0.1308</td>\n",
              "      <td>36</td>\n",
              "      <td>0.083333</td>\n",
              "      <td>1569.6</td>\n",
              "      <td>8.294300</td>\n",
              "      <td>1</td>\n",
              "      <td>-1.196895</td>\n",
              "      <td>-0.367206</td>\n",
              "      <td>0.083969</td>\n",
              "      <td>0.004364</td>\n",
              "      <td>False</td>\n",
              "    </tr>\n",
              "    <tr>\n",
              "      <th>1</th>\n",
              "      <td>24000.0</td>\n",
              "      <td>500.07</td>\n",
              "      <td>57000.0</td>\n",
              "      <td>0.0</td>\n",
              "      <td>680.0</td>\n",
              "      <td>684.0</td>\n",
              "      <td>0.0</td>\n",
              "      <td>10.0</td>\n",
              "      <td>0.0</td>\n",
              "      <td>22697.0</td>\n",
              "      <td>24.0</td>\n",
              "      <td>19666.71</td>\n",
              "      <td>5829.45</td>\n",
              "      <td>0.0</td>\n",
              "      <td>0.0</td>\n",
              "      <td>0.0</td>\n",
              "      <td>500.07</td>\n",
              "      <td>704.0</td>\n",
              "      <td>700.0</td>\n",
              "      <td>0.0</td>\n",
              "      <td>1.0</td>\n",
              "      <td>0.0</td>\n",
              "      <td>0.0</td>\n",
              "      <td>61815.0</td>\n",
              "      <td>0.0</td>\n",
              "      <td>3.0</td>\n",
              "      <td>0.0</td>\n",
              "      <td>3.0</td>\n",
              "      <td>14.0</td>\n",
              "      <td>39118.0</td>\n",
              "      <td>72.0</td>\n",
              "      <td>1.0</td>\n",
              "      <td>1.0</td>\n",
              "      <td>2137.0</td>\n",
              "      <td>67.0</td>\n",
              "      <td>35200.0</td>\n",
              "      <td>0.0</td>\n",
              "      <td>7.0</td>\n",
              "      <td>0.0</td>\n",
              "      <td>4.0</td>\n",
              "      <td>6182.0</td>\n",
              "      <td>7741.0</td>\n",
              "      <td>40.5</td>\n",
              "      <td>0.0</td>\n",
              "      <td>0.0</td>\n",
              "      <td>145.0</td>\n",
              "      <td>137.0</td>\n",
              "      <td>7.0</td>\n",
              "      <td>7.0</td>\n",
              "      <td>0.0</td>\n",
              "      <td>7.0</td>\n",
              "      <td>24.0</td>\n",
              "      <td>0.0</td>\n",
              "      <td>3.0</td>\n",
              "      <td>5.0</td>\n",
              "      <td>5.0</td>\n",
              "      <td>6.0</td>\n",
              "      <td>15.0</td>\n",
              "      <td>7.0</td>\n",
              "      <td>9.0</td>\n",
              "      <td>5.0</td>\n",
              "      <td>10.0</td>\n",
              "      <td>0.0</td>\n",
              "      <td>0.0</td>\n",
              "      <td>0.0</td>\n",
              "      <td>1.0</td>\n",
              "      <td>95.8</td>\n",
              "      <td>60.0</td>\n",
              "      <td>0.0</td>\n",
              "      <td>0.0</td>\n",
              "      <td>88154.0</td>\n",
              "      <td>61815.0</td>\n",
              "      <td>13000.0</td>\n",
              "      <td>52954.0</td>\n",
              "      <td>6.216746</td>\n",
              "      <td>500.07</td>\n",
              "      <td>0.0916</td>\n",
              "      <td>60</td>\n",
              "      <td>0.421053</td>\n",
              "      <td>10992.0</td>\n",
              "      <td>10.085851</td>\n",
              "      <td>1</td>\n",
              "      <td>0.915452</td>\n",
              "      <td>-0.264024</td>\n",
              "      <td>0.592875</td>\n",
              "      <td>0.005182</td>\n",
              "      <td>False</td>\n",
              "    </tr>\n",
              "    <tr>\n",
              "      <th>2</th>\n",
              "      <td>5000.0</td>\n",
              "      <td>162.49</td>\n",
              "      <td>55000.0</td>\n",
              "      <td>0.0</td>\n",
              "      <td>665.0</td>\n",
              "      <td>669.0</td>\n",
              "      <td>0.0</td>\n",
              "      <td>7.0</td>\n",
              "      <td>1.0</td>\n",
              "      <td>6001.0</td>\n",
              "      <td>9.0</td>\n",
              "      <td>5000.00</td>\n",
              "      <td>846.67</td>\n",
              "      <td>0.0</td>\n",
              "      <td>0.0</td>\n",
              "      <td>0.0</td>\n",
              "      <td>162.43</td>\n",
              "      <td>789.0</td>\n",
              "      <td>785.0</td>\n",
              "      <td>0.0</td>\n",
              "      <td>1.0</td>\n",
              "      <td>0.0</td>\n",
              "      <td>0.0</td>\n",
              "      <td>159131.0</td>\n",
              "      <td>0.0</td>\n",
              "      <td>0.0</td>\n",
              "      <td>0.0</td>\n",
              "      <td>0.0</td>\n",
              "      <td>999.0</td>\n",
              "      <td>0.0</td>\n",
              "      <td>0.0</td>\n",
              "      <td>0.0</td>\n",
              "      <td>0.0</td>\n",
              "      <td>0.0</td>\n",
              "      <td>0.0</td>\n",
              "      <td>11400.0</td>\n",
              "      <td>0.0</td>\n",
              "      <td>0.0</td>\n",
              "      <td>0.0</td>\n",
              "      <td>4.0</td>\n",
              "      <td>22733.0</td>\n",
              "      <td>4521.0</td>\n",
              "      <td>54.8</td>\n",
              "      <td>0.0</td>\n",
              "      <td>0.0</td>\n",
              "      <td>57.0</td>\n",
              "      <td>57.0</td>\n",
              "      <td>14.0</td>\n",
              "      <td>9.0</td>\n",
              "      <td>1.0</td>\n",
              "      <td>14.0</td>\n",
              "      <td>1.0</td>\n",
              "      <td>0.0</td>\n",
              "      <td>3.0</td>\n",
              "      <td>5.0</td>\n",
              "      <td>3.0</td>\n",
              "      <td>3.0</td>\n",
              "      <td>2.0</td>\n",
              "      <td>5.0</td>\n",
              "      <td>6.0</td>\n",
              "      <td>5.0</td>\n",
              "      <td>7.0</td>\n",
              "      <td>0.0</td>\n",
              "      <td>0.0</td>\n",
              "      <td>0.0</td>\n",
              "      <td>1.0</td>\n",
              "      <td>100.0</td>\n",
              "      <td>33.3</td>\n",
              "      <td>0.0</td>\n",
              "      <td>1.0</td>\n",
              "      <td>171118.0</td>\n",
              "      <td>13124.0</td>\n",
              "      <td>10000.0</td>\n",
              "      <td>7526.0</td>\n",
              "      <td>5.096385</td>\n",
              "      <td>162.43</td>\n",
              "      <td>0.1049</td>\n",
              "      <td>36</td>\n",
              "      <td>0.090909</td>\n",
              "      <td>1573.5</td>\n",
              "      <td>8.517393</td>\n",
              "      <td>1</td>\n",
              "      <td>-1.091278</td>\n",
              "      <td>-0.286953</td>\n",
              "      <td>0.109415</td>\n",
              "      <td>0.005000</td>\n",
              "      <td>False</td>\n",
              "    </tr>\n",
              "    <tr>\n",
              "      <th>3</th>\n",
              "      <td>24000.0</td>\n",
              "      <td>522.42</td>\n",
              "      <td>43500.0</td>\n",
              "      <td>0.0</td>\n",
              "      <td>750.0</td>\n",
              "      <td>754.0</td>\n",
              "      <td>0.0</td>\n",
              "      <td>15.0</td>\n",
              "      <td>0.0</td>\n",
              "      <td>6573.0</td>\n",
              "      <td>23.0</td>\n",
              "      <td>7682.31</td>\n",
              "      <td>4318.62</td>\n",
              "      <td>0.0</td>\n",
              "      <td>0.0</td>\n",
              "      <td>0.0</td>\n",
              "      <td>522.42</td>\n",
              "      <td>749.0</td>\n",
              "      <td>745.0</td>\n",
              "      <td>0.0</td>\n",
              "      <td>1.0</td>\n",
              "      <td>0.0</td>\n",
              "      <td>0.0</td>\n",
              "      <td>104590.0</td>\n",
              "      <td>2.0</td>\n",
              "      <td>1.0</td>\n",
              "      <td>0.0</td>\n",
              "      <td>1.0</td>\n",
              "      <td>17.0</td>\n",
              "      <td>11947.0</td>\n",
              "      <td>60.0</td>\n",
              "      <td>2.0</td>\n",
              "      <td>3.0</td>\n",
              "      <td>2223.0</td>\n",
              "      <td>25.0</td>\n",
              "      <td>54500.0</td>\n",
              "      <td>2.0</td>\n",
              "      <td>0.0</td>\n",
              "      <td>2.0</td>\n",
              "      <td>4.0</td>\n",
              "      <td>6973.0</td>\n",
              "      <td>43140.0</td>\n",
              "      <td>12.0</td>\n",
              "      <td>0.0</td>\n",
              "      <td>0.0</td>\n",
              "      <td>37.0</td>\n",
              "      <td>132.0</td>\n",
              "      <td>1.0</td>\n",
              "      <td>1.0</td>\n",
              "      <td>2.0</td>\n",
              "      <td>1.0</td>\n",
              "      <td>3.0</td>\n",
              "      <td>1.0</td>\n",
              "      <td>6.0</td>\n",
              "      <td>7.0</td>\n",
              "      <td>11.0</td>\n",
              "      <td>16.0</td>\n",
              "      <td>2.0</td>\n",
              "      <td>13.0</td>\n",
              "      <td>19.0</td>\n",
              "      <td>7.0</td>\n",
              "      <td>15.0</td>\n",
              "      <td>0.0</td>\n",
              "      <td>0.0</td>\n",
              "      <td>0.0</td>\n",
              "      <td>2.0</td>\n",
              "      <td>95.7</td>\n",
              "      <td>0.0</td>\n",
              "      <td>0.0</td>\n",
              "      <td>0.0</td>\n",
              "      <td>202606.0</td>\n",
              "      <td>18520.0</td>\n",
              "      <td>49000.0</td>\n",
              "      <td>20000.0</td>\n",
              "      <td>6.260384</td>\n",
              "      <td>522.42</td>\n",
              "      <td>0.1105</td>\n",
              "      <td>60</td>\n",
              "      <td>0.551724</td>\n",
              "      <td>13260.0</td>\n",
              "      <td>10.085851</td>\n",
              "      <td>1</td>\n",
              "      <td>0.915452</td>\n",
              "      <td>-0.418798</td>\n",
              "      <td>0.592875</td>\n",
              "      <td>0.003955</td>\n",
              "      <td>False</td>\n",
              "    </tr>\n",
              "    <tr>\n",
              "      <th>4</th>\n",
              "      <td>14000.0</td>\n",
              "      <td>322.79</td>\n",
              "      <td>48000.0</td>\n",
              "      <td>0.0</td>\n",
              "      <td>735.0</td>\n",
              "      <td>739.0</td>\n",
              "      <td>1.0</td>\n",
              "      <td>16.0</td>\n",
              "      <td>0.0</td>\n",
              "      <td>11894.0</td>\n",
              "      <td>23.0</td>\n",
              "      <td>14000.00</td>\n",
              "      <td>2605.68</td>\n",
              "      <td>0.0</td>\n",
              "      <td>0.0</td>\n",
              "      <td>0.0</td>\n",
              "      <td>11128.82</td>\n",
              "      <td>779.0</td>\n",
              "      <td>775.0</td>\n",
              "      <td>0.0</td>\n",
              "      <td>1.0</td>\n",
              "      <td>0.0</td>\n",
              "      <td>0.0</td>\n",
              "      <td>90253.0</td>\n",
              "      <td>2.0</td>\n",
              "      <td>2.0</td>\n",
              "      <td>1.0</td>\n",
              "      <td>1.0</td>\n",
              "      <td>7.0</td>\n",
              "      <td>22953.0</td>\n",
              "      <td>60.0</td>\n",
              "      <td>3.0</td>\n",
              "      <td>4.0</td>\n",
              "      <td>3907.0</td>\n",
              "      <td>43.0</td>\n",
              "      <td>43900.0</td>\n",
              "      <td>1.0</td>\n",
              "      <td>0.0</td>\n",
              "      <td>2.0</td>\n",
              "      <td>5.0</td>\n",
              "      <td>5641.0</td>\n",
              "      <td>17318.0</td>\n",
              "      <td>39.9</td>\n",
              "      <td>0.0</td>\n",
              "      <td>0.0</td>\n",
              "      <td>72.0</td>\n",
              "      <td>117.0</td>\n",
              "      <td>6.0</td>\n",
              "      <td>6.0</td>\n",
              "      <td>2.0</td>\n",
              "      <td>6.0</td>\n",
              "      <td>5.0</td>\n",
              "      <td>0.0</td>\n",
              "      <td>4.0</td>\n",
              "      <td>5.0</td>\n",
              "      <td>5.0</td>\n",
              "      <td>6.0</td>\n",
              "      <td>5.0</td>\n",
              "      <td>13.0</td>\n",
              "      <td>16.0</td>\n",
              "      <td>5.0</td>\n",
              "      <td>16.0</td>\n",
              "      <td>0.0</td>\n",
              "      <td>0.0</td>\n",
              "      <td>0.0</td>\n",
              "      <td>4.0</td>\n",
              "      <td>100.0</td>\n",
              "      <td>0.0</td>\n",
              "      <td>0.0</td>\n",
              "      <td>0.0</td>\n",
              "      <td>152081.0</td>\n",
              "      <td>34847.0</td>\n",
              "      <td>28800.0</td>\n",
              "      <td>38181.0</td>\n",
              "      <td>9.317383</td>\n",
              "      <td>11128.82</td>\n",
              "      <td>0.1359</td>\n",
              "      <td>60</td>\n",
              "      <td>0.291667</td>\n",
              "      <td>9513.0</td>\n",
              "      <td>9.546884</td>\n",
              "      <td>2</td>\n",
              "      <td>-0.140722</td>\n",
              "      <td>-0.367206</td>\n",
              "      <td>0.338422</td>\n",
              "      <td>0.004364</td>\n",
              "      <td>False</td>\n",
              "    </tr>\n",
              "  </tbody>\n",
              "</table>\n",
              "</div>"
            ],
            "text/plain": [
              "   loan_amnt  installment  annual_inc  delinq_2yrs  fico_range_low  \\\n",
              "0     4000.0       134.93     48000.0          1.0           665.0   \n",
              "1    24000.0       500.07     57000.0          0.0           680.0   \n",
              "2     5000.0       162.49     55000.0          0.0           665.0   \n",
              "3    24000.0       522.42     43500.0          0.0           750.0   \n",
              "4    14000.0       322.79     48000.0          0.0           735.0   \n",
              "\n",
              "   fico_range_high  inq_last_6mths  open_acc  pub_rec  revol_bal  total_acc  \\\n",
              "0            669.0             0.0       4.0      1.0     1988.0       12.0   \n",
              "1            684.0             0.0      10.0      0.0    22697.0       24.0   \n",
              "2            669.0             0.0       7.0      1.0     6001.0        9.0   \n",
              "3            754.0             0.0      15.0      0.0     6573.0       23.0   \n",
              "4            739.0             1.0      16.0      0.0    11894.0       23.0   \n",
              "\n",
              "   total_rec_prncp  total_rec_int  total_rec_late_fee  recoveries  \\\n",
              "0           183.66          83.29                 0.0         0.0   \n",
              "1         19666.71        5829.45                 0.0         0.0   \n",
              "2          5000.00         846.67                 0.0         0.0   \n",
              "3          7682.31        4318.62                 0.0         0.0   \n",
              "4         14000.00        2605.68                 0.0         0.0   \n",
              "\n",
              "   collection_recovery_fee  last_pymnt_amnt  last_fico_range_high  \\\n",
              "0                      0.0           134.93                 669.0   \n",
              "1                      0.0           500.07                 704.0   \n",
              "2                      0.0           162.43                 789.0   \n",
              "3                      0.0           522.42                 749.0   \n",
              "4                      0.0         11128.82                 779.0   \n",
              "\n",
              "   last_fico_range_low  collections_12_mths_ex_med  policy_code  \\\n",
              "0                665.0                         1.0          1.0   \n",
              "1                700.0                         0.0          1.0   \n",
              "2                785.0                         0.0          1.0   \n",
              "3                745.0                         0.0          1.0   \n",
              "4                775.0                         0.0          1.0   \n",
              "\n",
              "   acc_now_delinq  tot_coll_amt  tot_cur_bal  open_acc_6m  open_act_il  \\\n",
              "0             0.0        3832.0     259024.0          0.0          1.0   \n",
              "1             0.0           0.0      61815.0          0.0          3.0   \n",
              "2             0.0           0.0     159131.0          0.0          0.0   \n",
              "3             0.0           0.0     104590.0          2.0          1.0   \n",
              "4             0.0           0.0      90253.0          2.0          2.0   \n",
              "\n",
              "   open_il_12m  open_il_24m  mths_since_rcnt_il  total_bal_il  il_util  \\\n",
              "0          0.0          1.0                16.0        9960.0     56.0   \n",
              "1          0.0          3.0                14.0       39118.0     72.0   \n",
              "2          0.0          0.0               999.0           0.0      0.0   \n",
              "3          0.0          1.0                17.0       11947.0     60.0   \n",
              "4          1.0          1.0                 7.0       22953.0     60.0   \n",
              "\n",
              "   open_rv_12m  open_rv_24m  max_bal_bc  all_util  total_rev_hi_lim  inq_fi  \\\n",
              "0          0.0          0.0         0.0      59.0            2400.0     1.0   \n",
              "1          1.0          1.0      2137.0      67.0           35200.0     0.0   \n",
              "2          0.0          0.0         0.0       0.0           11400.0     0.0   \n",
              "3          2.0          3.0      2223.0      25.0           54500.0     2.0   \n",
              "4          3.0          4.0      3907.0      43.0           43900.0     1.0   \n",
              "\n",
              "   total_cu_tl  inq_last_12m  acc_open_past_24mths  avg_cur_bal  \\\n",
              "0          0.0           0.0                   1.0      64756.0   \n",
              "1          7.0           0.0                   4.0       6182.0   \n",
              "2          0.0           0.0                   4.0      22733.0   \n",
              "3          0.0           2.0                   4.0       6973.0   \n",
              "4          0.0           2.0                   5.0       5641.0   \n",
              "\n",
              "   bc_open_to_buy  bc_util  chargeoff_within_12_mths  delinq_amnt  \\\n",
              "0          6262.5     57.3                       0.0          0.0   \n",
              "1          7741.0     40.5                       0.0          0.0   \n",
              "2          4521.0     54.8                       0.0          0.0   \n",
              "3         43140.0     12.0                       0.0          0.0   \n",
              "4         17318.0     39.9                       0.0          0.0   \n",
              "\n",
              "   mo_sin_old_il_acct  mo_sin_old_rev_tl_op  mo_sin_rcnt_rev_tl_op  \\\n",
              "0               179.0                  75.0                   38.0   \n",
              "1               145.0                 137.0                    7.0   \n",
              "2                57.0                  57.0                   14.0   \n",
              "3                37.0                 132.0                    1.0   \n",
              "4                72.0                 117.0                    6.0   \n",
              "\n",
              "   mo_sin_rcnt_tl  mort_acc  mths_since_recent_bc  mths_since_recent_inq  \\\n",
              "0            16.0       2.0                  14.0                   16.0   \n",
              "1             7.0       0.0                   7.0                   24.0   \n",
              "2             9.0       1.0                  14.0                    1.0   \n",
              "3             1.0       2.0                   1.0                    3.0   \n",
              "4             6.0       2.0                   6.0                    5.0   \n",
              "\n",
              "   num_accts_ever_120_pd  num_actv_bc_tl  num_actv_rev_tl  num_bc_sats  \\\n",
              "0                    1.0             0.0              2.0          0.0   \n",
              "1                    0.0             3.0              5.0          5.0   \n",
              "2                    0.0             3.0              5.0          3.0   \n",
              "3                    1.0             6.0              7.0         11.0   \n",
              "4                    0.0             4.0              5.0          5.0   \n",
              "\n",
              "   num_bc_tl  num_il_tl  num_op_rev_tl  num_rev_accts  num_rev_tl_bal_gt_0  \\\n",
              "0        1.0        5.0            2.0            5.0                  2.0   \n",
              "1        6.0       15.0            7.0            9.0                  5.0   \n",
              "2        3.0        2.0            5.0            6.0                  5.0   \n",
              "3       16.0        2.0           13.0           19.0                  7.0   \n",
              "4        6.0        5.0           13.0           16.0                  5.0   \n",
              "\n",
              "   num_sats  num_tl_120dpd_2m  num_tl_30dpd  num_tl_90g_dpd_24m  \\\n",
              "0       4.0               0.0           0.0                 0.0   \n",
              "1      10.0               0.0           0.0                 0.0   \n",
              "2       7.0               0.0           0.0                 0.0   \n",
              "3      15.0               0.0           0.0                 0.0   \n",
              "4      16.0               0.0           0.0                 0.0   \n",
              "\n",
              "   num_tl_op_past_12m  pct_tl_nvr_dlq  percent_bc_gt_75  pub_rec_bankruptcies  \\\n",
              "0                 0.0            75.0              33.3                   1.0   \n",
              "1                 1.0            95.8              60.0                   0.0   \n",
              "2                 1.0           100.0              33.3                   0.0   \n",
              "3                 2.0            95.7               0.0                   0.0   \n",
              "4                 4.0           100.0               0.0                   0.0   \n",
              "\n",
              "   tax_liens  tot_hi_cred_lim  total_bal_ex_mort  total_bc_limit  \\\n",
              "0        0.0         395328.0            11948.0             0.0   \n",
              "1        0.0          88154.0            61815.0         13000.0   \n",
              "2        1.0         171118.0            13124.0         10000.0   \n",
              "3        0.0         202606.0            18520.0         49000.0   \n",
              "4        0.0         152081.0            34847.0         28800.0   \n",
              "\n",
              "   total_il_high_credit_limit  last_pymnt_amnt_log  last_pymnt_amnt_capped  \\\n",
              "0                     17928.0             4.912140                  134.93   \n",
              "1                     52954.0             6.216746                  500.07   \n",
              "2                      7526.0             5.096385                  162.43   \n",
              "3                     20000.0             6.260384                  522.42   \n",
              "4                     38181.0             9.317383                11128.82   \n",
              "\n",
              "   int_rate_clean  term_numeric  debt_to_income  interest_per_loan_amnt  \\\n",
              "0          0.1308            36        0.083333                  1569.6   \n",
              "1          0.0916            60        0.421053                 10992.0   \n",
              "2          0.1049            36        0.090909                  1573.5   \n",
              "3          0.1105            60        0.551724                 13260.0   \n",
              "4          0.1359            60        0.291667                  9513.0   \n",
              "\n",
              "   loan_amnt_log  grade_encoded  loan_amnt_std  annual_inc_std  \\\n",
              "0       8.294300              1      -1.196895       -0.367206   \n",
              "1      10.085851              1       0.915452       -0.264024   \n",
              "2       8.517393              1      -1.091278       -0.286953   \n",
              "3      10.085851              1       0.915452       -0.418798   \n",
              "4       9.546884              2      -0.140722       -0.367206   \n",
              "\n",
              "   loan_amnt_norm  annual_inc_norm  loan_default  \n",
              "0        0.083969         0.004364         False  \n",
              "1        0.592875         0.005182         False  \n",
              "2        0.109415         0.005000         False  \n",
              "3        0.592875         0.003955         False  \n",
              "4        0.338422         0.004364         False  "
            ]
          },
          "execution_count": 3,
          "metadata": {},
          "output_type": "execute_result"
        }
      ],
      "source": [
        "# Read data that was exported from previous session\n",
        "df = pd.read_csv(f\"{path_python_material}/data/2-intermediate/df_out_dsif6.csv\")#.sample(10000, random_state=800)\n",
        "df.head()"
      ]
    },
    {
      "cell_type": "markdown",
      "metadata": {
        "id": "5q6vvIONBLBl"
      },
      "source": [
        "### <span style=\"color:RED\"> **>>> NOTE:**  </span>    \n",
        "> **Make sure to have plenty of data!**"
      ]
    },
    {
      "cell_type": "code",
      "execution_count": null,
      "metadata": {
        "colab": {
          "base_uri": "https://localhost:8080/"
        },
        "id": "HCcvyPnABLBn",
        "outputId": "58413244-3645-4a09-e1f5-374e3b13ffa7"
      },
      "outputs": [
        {
          "data": {
            "text/plain": [
              "(100000, 87)"
            ]
          },
          "execution_count": 4,
          "metadata": {},
          "output_type": "execute_result"
        }
      ],
      "source": [
        "df.shape"
      ]
    },
    {
      "cell_type": "markdown",
      "metadata": {
        "id": "TGArDhlGRBCr"
      },
      "source": [
        "# 2. Data preprocessing\n",
        "\n",
        "Neural networks expect data in a specific format and often require transformations to perform effectively. Here's a brief overview.\n",
        "\n",
        "-   **Numerical Input Data:**\n",
        "    -   **Transformation:** Convert categorical data to numerical using techniques like one-hot encoding or label encoding. Convert categorical target labels to integers or one-hot encoded vectors.\n",
        "    -   **Why:** Neural networks can't process strings or categorical data directly.\n",
        "\n",
        "-   **Feature Scaling:**\n",
        "    -   **Transformation:** Apply normalization (e.g., min-max scaling) or standardization (e.g., z-score normalization).\n",
        "    -   **Why:** Neural networks converge faster and perform better when input features are on a similar scale, preventing dominance of features with larger magnitudes.\n",
        "    \n",
        "-   **Handling Missing Data:**\n",
        "    -   **Transformation:** Impute missing values (e.g., using mean/mode imputation) or remove rows/columns with missing data.\n",
        "    -   **Why:** Missing data can lead to inaccurate training or model errors if not addressed.\n"
      ]
    },
    {
      "cell_type": "code",
      "execution_count": null,
      "metadata": {
        "colab": {
          "base_uri": "https://localhost:8080/"
        },
        "id": "gK5AkKObRBCr",
        "outputId": "3a298d7d-d978-45c2-d437-4c9c514810ca"
      },
      "outputs": [
        {
          "name": "stdout",
          "output_type": "stream",
          "text": [
            "Number of features: 19\n"
          ]
        }
      ],
      "source": [
        "# Let's use same features used by model previously built, plus the categorical ones\n",
        "features = ['installment', 'revol_bal', 'recoveries', 'collection_recovery_fee',\n",
        "       'last_fico_range_high', 'last_fico_range_low', 'tot_cur_bal',\n",
        "       'open_acc_6m', 'open_il_24m', 'total_bal_il', 'inq_fi',\n",
        "       'acc_open_past_24mths', 'bc_util', 'mo_sin_old_il_acct',\n",
        "       'percent_bc_gt_75', 'total_il_high_credit_limit',\n",
        "       'last_pymnt_amnt_capped', 'grade_encoded', 'annual_inc_std']\n",
        "# Note: 'last_pymnt_amnt_log' excluded for now because it containted some null values which was problematic for the below modelling part\n",
        "# Could you think of an alternative way to tackle this problem?\n",
        "\n",
        "X = df[features]\n",
        "y = df['loan_default']\n",
        "\n",
        "print(f\"Number of features: {len(features)}\")"
      ]
    },
    {
      "cell_type": "code",
      "execution_count": null,
      "metadata": {
        "colab": {
          "base_uri": "https://localhost:8080/",
          "height": 226
        },
        "id": "bvB9zVHhBLBq",
        "outputId": "6187698c-99c1-4be1-9af2-8a97113fa2db"
      },
      "outputs": [
        {
          "data": {
            "text/html": [
              "<div>\n",
              "<style scoped>\n",
              "    .dataframe tbody tr th:only-of-type {\n",
              "        vertical-align: middle;\n",
              "    }\n",
              "\n",
              "    .dataframe tbody tr th {\n",
              "        vertical-align: top;\n",
              "    }\n",
              "\n",
              "    .dataframe thead th {\n",
              "        text-align: right;\n",
              "    }\n",
              "</style>\n",
              "<table border=\"1\" class=\"dataframe\">\n",
              "  <thead>\n",
              "    <tr style=\"text-align: right;\">\n",
              "      <th></th>\n",
              "      <th>installment</th>\n",
              "      <th>revol_bal</th>\n",
              "      <th>recoveries</th>\n",
              "      <th>collection_recovery_fee</th>\n",
              "      <th>last_fico_range_high</th>\n",
              "      <th>last_fico_range_low</th>\n",
              "      <th>tot_cur_bal</th>\n",
              "      <th>open_acc_6m</th>\n",
              "      <th>open_il_24m</th>\n",
              "      <th>total_bal_il</th>\n",
              "      <th>inq_fi</th>\n",
              "      <th>acc_open_past_24mths</th>\n",
              "      <th>bc_util</th>\n",
              "      <th>mo_sin_old_il_acct</th>\n",
              "      <th>percent_bc_gt_75</th>\n",
              "      <th>total_il_high_credit_limit</th>\n",
              "      <th>last_pymnt_amnt_capped</th>\n",
              "      <th>grade_encoded</th>\n",
              "      <th>annual_inc_std</th>\n",
              "    </tr>\n",
              "  </thead>\n",
              "  <tbody>\n",
              "    <tr>\n",
              "      <th>0</th>\n",
              "      <td>134.93</td>\n",
              "      <td>1988.0</td>\n",
              "      <td>0.0</td>\n",
              "      <td>0.0</td>\n",
              "      <td>669.0</td>\n",
              "      <td>665.0</td>\n",
              "      <td>259024.0</td>\n",
              "      <td>0.0</td>\n",
              "      <td>1.0</td>\n",
              "      <td>9960.0</td>\n",
              "      <td>1.0</td>\n",
              "      <td>1.0</td>\n",
              "      <td>57.3</td>\n",
              "      <td>179.0</td>\n",
              "      <td>33.3</td>\n",
              "      <td>17928.0</td>\n",
              "      <td>134.93</td>\n",
              "      <td>1</td>\n",
              "      <td>-0.367206</td>\n",
              "    </tr>\n",
              "    <tr>\n",
              "      <th>1</th>\n",
              "      <td>500.07</td>\n",
              "      <td>22697.0</td>\n",
              "      <td>0.0</td>\n",
              "      <td>0.0</td>\n",
              "      <td>704.0</td>\n",
              "      <td>700.0</td>\n",
              "      <td>61815.0</td>\n",
              "      <td>0.0</td>\n",
              "      <td>3.0</td>\n",
              "      <td>39118.0</td>\n",
              "      <td>0.0</td>\n",
              "      <td>4.0</td>\n",
              "      <td>40.5</td>\n",
              "      <td>145.0</td>\n",
              "      <td>60.0</td>\n",
              "      <td>52954.0</td>\n",
              "      <td>500.07</td>\n",
              "      <td>1</td>\n",
              "      <td>-0.264024</td>\n",
              "    </tr>\n",
              "    <tr>\n",
              "      <th>2</th>\n",
              "      <td>162.49</td>\n",
              "      <td>6001.0</td>\n",
              "      <td>0.0</td>\n",
              "      <td>0.0</td>\n",
              "      <td>789.0</td>\n",
              "      <td>785.0</td>\n",
              "      <td>159131.0</td>\n",
              "      <td>0.0</td>\n",
              "      <td>0.0</td>\n",
              "      <td>0.0</td>\n",
              "      <td>0.0</td>\n",
              "      <td>4.0</td>\n",
              "      <td>54.8</td>\n",
              "      <td>57.0</td>\n",
              "      <td>33.3</td>\n",
              "      <td>7526.0</td>\n",
              "      <td>162.43</td>\n",
              "      <td>1</td>\n",
              "      <td>-0.286953</td>\n",
              "    </tr>\n",
              "    <tr>\n",
              "      <th>3</th>\n",
              "      <td>522.42</td>\n",
              "      <td>6573.0</td>\n",
              "      <td>0.0</td>\n",
              "      <td>0.0</td>\n",
              "      <td>749.0</td>\n",
              "      <td>745.0</td>\n",
              "      <td>104590.0</td>\n",
              "      <td>2.0</td>\n",
              "      <td>1.0</td>\n",
              "      <td>11947.0</td>\n",
              "      <td>2.0</td>\n",
              "      <td>4.0</td>\n",
              "      <td>12.0</td>\n",
              "      <td>37.0</td>\n",
              "      <td>0.0</td>\n",
              "      <td>20000.0</td>\n",
              "      <td>522.42</td>\n",
              "      <td>1</td>\n",
              "      <td>-0.418798</td>\n",
              "    </tr>\n",
              "    <tr>\n",
              "      <th>4</th>\n",
              "      <td>322.79</td>\n",
              "      <td>11894.0</td>\n",
              "      <td>0.0</td>\n",
              "      <td>0.0</td>\n",
              "      <td>779.0</td>\n",
              "      <td>775.0</td>\n",
              "      <td>90253.0</td>\n",
              "      <td>2.0</td>\n",
              "      <td>1.0</td>\n",
              "      <td>22953.0</td>\n",
              "      <td>1.0</td>\n",
              "      <td>5.0</td>\n",
              "      <td>39.9</td>\n",
              "      <td>72.0</td>\n",
              "      <td>0.0</td>\n",
              "      <td>38181.0</td>\n",
              "      <td>11128.82</td>\n",
              "      <td>2</td>\n",
              "      <td>-0.367206</td>\n",
              "    </tr>\n",
              "  </tbody>\n",
              "</table>\n",
              "</div>"
            ],
            "text/plain": [
              "   installment  revol_bal  recoveries  collection_recovery_fee  \\\n",
              "0       134.93     1988.0         0.0                      0.0   \n",
              "1       500.07    22697.0         0.0                      0.0   \n",
              "2       162.49     6001.0         0.0                      0.0   \n",
              "3       522.42     6573.0         0.0                      0.0   \n",
              "4       322.79    11894.0         0.0                      0.0   \n",
              "\n",
              "   last_fico_range_high  last_fico_range_low  tot_cur_bal  open_acc_6m  \\\n",
              "0                 669.0                665.0     259024.0          0.0   \n",
              "1                 704.0                700.0      61815.0          0.0   \n",
              "2                 789.0                785.0     159131.0          0.0   \n",
              "3                 749.0                745.0     104590.0          2.0   \n",
              "4                 779.0                775.0      90253.0          2.0   \n",
              "\n",
              "   open_il_24m  total_bal_il  inq_fi  acc_open_past_24mths  bc_util  \\\n",
              "0          1.0        9960.0     1.0                   1.0     57.3   \n",
              "1          3.0       39118.0     0.0                   4.0     40.5   \n",
              "2          0.0           0.0     0.0                   4.0     54.8   \n",
              "3          1.0       11947.0     2.0                   4.0     12.0   \n",
              "4          1.0       22953.0     1.0                   5.0     39.9   \n",
              "\n",
              "   mo_sin_old_il_acct  percent_bc_gt_75  total_il_high_credit_limit  \\\n",
              "0               179.0              33.3                     17928.0   \n",
              "1               145.0              60.0                     52954.0   \n",
              "2                57.0              33.3                      7526.0   \n",
              "3                37.0               0.0                     20000.0   \n",
              "4                72.0               0.0                     38181.0   \n",
              "\n",
              "   last_pymnt_amnt_capped  grade_encoded  annual_inc_std  \n",
              "0                  134.93              1       -0.367206  \n",
              "1                  500.07              1       -0.264024  \n",
              "2                  162.43              1       -0.286953  \n",
              "3                  522.42              1       -0.418798  \n",
              "4                11128.82              2       -0.367206  "
            ]
          },
          "execution_count": 6,
          "metadata": {},
          "output_type": "execute_result"
        }
      ],
      "source": [
        "X.head()"
      ]
    },
    {
      "cell_type": "code",
      "execution_count": null,
      "metadata": {
        "colab": {
          "base_uri": "https://localhost:8080/",
          "height": 226
        },
        "id": "P1NYfZKZBLBs",
        "outputId": "2b87290c-5a2a-4906-b19e-28fecff618ba"
      },
      "outputs": [
        {
          "data": {
            "text/html": [
              "<div>\n",
              "<style scoped>\n",
              "    .dataframe tbody tr th:only-of-type {\n",
              "        vertical-align: middle;\n",
              "    }\n",
              "\n",
              "    .dataframe tbody tr th {\n",
              "        vertical-align: top;\n",
              "    }\n",
              "\n",
              "    .dataframe thead th {\n",
              "        text-align: right;\n",
              "    }\n",
              "</style>\n",
              "<table border=\"1\" class=\"dataframe\">\n",
              "  <thead>\n",
              "    <tr style=\"text-align: right;\">\n",
              "      <th></th>\n",
              "      <th>installment</th>\n",
              "      <th>revol_bal</th>\n",
              "      <th>recoveries</th>\n",
              "      <th>collection_recovery_fee</th>\n",
              "      <th>last_fico_range_high</th>\n",
              "      <th>last_fico_range_low</th>\n",
              "      <th>tot_cur_bal</th>\n",
              "      <th>open_acc_6m</th>\n",
              "      <th>open_il_24m</th>\n",
              "      <th>total_bal_il</th>\n",
              "      <th>inq_fi</th>\n",
              "      <th>acc_open_past_24mths</th>\n",
              "      <th>bc_util</th>\n",
              "      <th>mo_sin_old_il_acct</th>\n",
              "      <th>percent_bc_gt_75</th>\n",
              "      <th>total_il_high_credit_limit</th>\n",
              "      <th>last_pymnt_amnt_capped</th>\n",
              "      <th>grade_encoded</th>\n",
              "      <th>annual_inc_std</th>\n",
              "    </tr>\n",
              "  </thead>\n",
              "  <tbody>\n",
              "    <tr>\n",
              "      <th>0</th>\n",
              "      <td>0.066234</td>\n",
              "      <td>0.001795</td>\n",
              "      <td>0.0</td>\n",
              "      <td>0.0</td>\n",
              "      <td>0.787059</td>\n",
              "      <td>0.786982</td>\n",
              "      <td>0.064183</td>\n",
              "      <td>0.000000</td>\n",
              "      <td>0.035714</td>\n",
              "      <td>0.010777</td>\n",
              "      <td>0.041667</td>\n",
              "      <td>0.023810</td>\n",
              "      <td>0.327429</td>\n",
              "      <td>0.179179</td>\n",
              "      <td>0.333</td>\n",
              "      <td>0.017414</td>\n",
              "      <td>0.048815</td>\n",
              "      <td>0.166667</td>\n",
              "      <td>0.004364</td>\n",
              "    </tr>\n",
              "    <tr>\n",
              "      <th>1</th>\n",
              "      <td>0.281361</td>\n",
              "      <td>0.020488</td>\n",
              "      <td>0.0</td>\n",
              "      <td>0.0</td>\n",
              "      <td>0.828235</td>\n",
              "      <td>0.828402</td>\n",
              "      <td>0.015317</td>\n",
              "      <td>0.000000</td>\n",
              "      <td>0.107143</td>\n",
              "      <td>0.042328</td>\n",
              "      <td>0.000000</td>\n",
              "      <td>0.095238</td>\n",
              "      <td>0.231429</td>\n",
              "      <td>0.145145</td>\n",
              "      <td>0.600</td>\n",
              "      <td>0.051437</td>\n",
              "      <td>0.068886</td>\n",
              "      <td>0.166667</td>\n",
              "      <td>0.005182</td>\n",
              "    </tr>\n",
              "    <tr>\n",
              "      <th>2</th>\n",
              "      <td>0.082471</td>\n",
              "      <td>0.005417</td>\n",
              "      <td>0.0</td>\n",
              "      <td>0.0</td>\n",
              "      <td>0.928235</td>\n",
              "      <td>0.928994</td>\n",
              "      <td>0.039431</td>\n",
              "      <td>0.000000</td>\n",
              "      <td>0.000000</td>\n",
              "      <td>0.000000</td>\n",
              "      <td>0.000000</td>\n",
              "      <td>0.095238</td>\n",
              "      <td>0.313143</td>\n",
              "      <td>0.057057</td>\n",
              "      <td>0.333</td>\n",
              "      <td>0.007310</td>\n",
              "      <td>0.050327</td>\n",
              "      <td>0.166667</td>\n",
              "      <td>0.005000</td>\n",
              "    </tr>\n",
              "    <tr>\n",
              "      <th>3</th>\n",
              "      <td>0.294529</td>\n",
              "      <td>0.005933</td>\n",
              "      <td>0.0</td>\n",
              "      <td>0.0</td>\n",
              "      <td>0.881176</td>\n",
              "      <td>0.881657</td>\n",
              "      <td>0.025916</td>\n",
              "      <td>0.153846</td>\n",
              "      <td>0.035714</td>\n",
              "      <td>0.012927</td>\n",
              "      <td>0.083333</td>\n",
              "      <td>0.095238</td>\n",
              "      <td>0.068571</td>\n",
              "      <td>0.037037</td>\n",
              "      <td>0.000</td>\n",
              "      <td>0.019427</td>\n",
              "      <td>0.070114</td>\n",
              "      <td>0.166667</td>\n",
              "      <td>0.003955</td>\n",
              "    </tr>\n",
              "    <tr>\n",
              "      <th>4</th>\n",
              "      <td>0.176914</td>\n",
              "      <td>0.010737</td>\n",
              "      <td>0.0</td>\n",
              "      <td>0.0</td>\n",
              "      <td>0.916471</td>\n",
              "      <td>0.917160</td>\n",
              "      <td>0.022364</td>\n",
              "      <td>0.153846</td>\n",
              "      <td>0.035714</td>\n",
              "      <td>0.024837</td>\n",
              "      <td>0.041667</td>\n",
              "      <td>0.119048</td>\n",
              "      <td>0.228000</td>\n",
              "      <td>0.072072</td>\n",
              "      <td>0.000</td>\n",
              "      <td>0.037087</td>\n",
              "      <td>0.653100</td>\n",
              "      <td>0.333333</td>\n",
              "      <td>0.004364</td>\n",
              "    </tr>\n",
              "  </tbody>\n",
              "</table>\n",
              "</div>"
            ],
            "text/plain": [
              "   installment  revol_bal  recoveries  collection_recovery_fee  \\\n",
              "0     0.066234   0.001795         0.0                      0.0   \n",
              "1     0.281361   0.020488         0.0                      0.0   \n",
              "2     0.082471   0.005417         0.0                      0.0   \n",
              "3     0.294529   0.005933         0.0                      0.0   \n",
              "4     0.176914   0.010737         0.0                      0.0   \n",
              "\n",
              "   last_fico_range_high  last_fico_range_low  tot_cur_bal  open_acc_6m  \\\n",
              "0              0.787059             0.786982     0.064183     0.000000   \n",
              "1              0.828235             0.828402     0.015317     0.000000   \n",
              "2              0.928235             0.928994     0.039431     0.000000   \n",
              "3              0.881176             0.881657     0.025916     0.153846   \n",
              "4              0.916471             0.917160     0.022364     0.153846   \n",
              "\n",
              "   open_il_24m  total_bal_il    inq_fi  acc_open_past_24mths   bc_util  \\\n",
              "0     0.035714      0.010777  0.041667              0.023810  0.327429   \n",
              "1     0.107143      0.042328  0.000000              0.095238  0.231429   \n",
              "2     0.000000      0.000000  0.000000              0.095238  0.313143   \n",
              "3     0.035714      0.012927  0.083333              0.095238  0.068571   \n",
              "4     0.035714      0.024837  0.041667              0.119048  0.228000   \n",
              "\n",
              "   mo_sin_old_il_acct  percent_bc_gt_75  total_il_high_credit_limit  \\\n",
              "0            0.179179             0.333                    0.017414   \n",
              "1            0.145145             0.600                    0.051437   \n",
              "2            0.057057             0.333                    0.007310   \n",
              "3            0.037037             0.000                    0.019427   \n",
              "4            0.072072             0.000                    0.037087   \n",
              "\n",
              "   last_pymnt_amnt_capped  grade_encoded  annual_inc_std  \n",
              "0                0.048815       0.166667        0.004364  \n",
              "1                0.068886       0.166667        0.005182  \n",
              "2                0.050327       0.166667        0.005000  \n",
              "3                0.070114       0.166667        0.003955  \n",
              "4                0.653100       0.333333        0.004364  "
            ]
          },
          "execution_count": 7,
          "metadata": {},
          "output_type": "execute_result"
        }
      ],
      "source": [
        "from sklearn.preprocessing import MinMaxScaler\n",
        "\n",
        "# Apply Min-Max Scaling (alternative: StandardScaler for z-score normalization)\n",
        "scaler = MinMaxScaler()\n",
        "X_scaled = scaler.fit_transform(X)\n",
        "\n",
        "# Convert back to DataFrame with same column names\n",
        "X_scaled_df = pd.DataFrame(X_scaled, columns=features)\n",
        "X_scaled_df.head()"
      ]
    },
    {
      "cell_type": "markdown",
      "metadata": {
        "id": "hMlGIXWEBLBt"
      },
      "source": [
        "What can you observe now?"
      ]
    },
    {
      "cell_type": "markdown",
      "metadata": {
        "id": "pMUETYxNRBCr"
      },
      "source": [
        "# 3. Building a neural network model\n",
        "\n",
        "We'll use TensorFlow/Keras, and refer to a simple parallel with the brain in the commentary to explain what is going on.."
      ]
    },
    {
      "cell_type": "code",
      "execution_count": null,
      "metadata": {
        "id": "Fcke8q1eRBCs"
      },
      "outputs": [],
      "source": [
        "from sklearn.model_selection import train_test_split\n",
        "\n",
        "# Split the data into training and testing sets (returns pandas dfs)\n",
        "X_train, X_test, y_train, y_test = train_test_split(X_scaled_df, y, test_size=0.3, random_state=123)"
      ]
    },
    {
      "cell_type": "markdown",
      "metadata": {
        "id": "jTUVajWvBLBv"
      },
      "source": [
        "## 3.1 Starting with a simple architecture\n",
        "\n",
        "### Dense relu -> Dense relu -> Dense sigmoid\n",
        "\n"
      ]
    },
    {
      "cell_type": "code",
      "execution_count": null,
      "metadata": {
        "colab": {
          "base_uri": "https://localhost:8080/"
        },
        "id": "LcjWbxKoRBCt",
        "outputId": "6cc11a2d-b323-4b8f-a0c9-40a0f70038c4"
      },
      "outputs": [
        {
          "name": "stderr",
          "output_type": "stream",
          "text": [
            "/opt/miniconda3/lib/python3.12/site-packages/keras/src/layers/core/dense.py:87: UserWarning: Do not pass an `input_shape`/`input_dim` argument to a layer. When using Sequential models, prefer using an `Input(shape)` object as the first layer in the model instead.\n",
            "  super().__init__(activity_regularizer=activity_regularizer, **kwargs)\n"
          ]
        }
      ],
      "source": [
        "from keras.models import Sequential\n",
        "from keras.layers import Dense\n",
        "\n",
        "# Initialize the model (empty intiially)\n",
        "model = Sequential()\n",
        "\n",
        "# Adding layers to our model, which are like different parts of the brain.\n",
        "# Each layer has \"neurons\" (like tiny decision-makers):\n",
        "\n",
        "# Add the first part of our brain that looks at the data\n",
        "model.add(Dense(16, input_dim=X_scaled_df.shape[1], activation='relu'))\n",
        "\n",
        "# smaller brain part that processes what the first layer has figured out.\n",
        "model.add(Dense(8, activation='relu'))\n",
        "\n",
        "#This is like the brain's decision-making part, where it makes a yes/no decision (like \"Will this person pay back their loan?\").\n",
        "model.add(Dense(1, activation='sigmoid'))\n",
        "\n",
        "# Compile the model\n",
        "model.compile(\n",
        "    optimizer='adam', # like the brain’s coach, guiding it to get better and better at its task\n",
        "    loss='binary_crossentropy', # how the brain measures its mistakes,  for optimisation\n",
        "    metrics=['accuracy', 'Precision', 'Recall', 'AUC']\n",
        "    )"
      ]
    },
    {
      "cell_type": "markdown",
      "metadata": {
        "id": "pBUQk90cjwG-"
      },
      "source": [
        "#### **Note**: In older tensorflow versions, keras import syntax would have been:\n",
        "```\n",
        "from tensorflow.keras.models import Sequential\n",
        "from tensorflow.keras.layers import Dense\n",
        "```"
      ]
    },
    {
      "cell_type": "code",
      "execution_count": null,
      "metadata": {
        "colab": {
          "base_uri": "https://localhost:8080/"
        },
        "id": "lsrq8x40RBCv",
        "outputId": "941b57ce-a1b7-4e09-eec3-9ed4e7e325ba"
      },
      "outputs": [
        {
          "name": "stdout",
          "output_type": "stream",
          "text": [
            "Epoch 1/10\n",
            "\u001b[1m1750/1750\u001b[0m \u001b[32m━━━━━━━━━━━━━━━━━━━━\u001b[0m\u001b[37m\u001b[0m \u001b[1m1s\u001b[0m 341us/step - AUC: 0.7982 - Precision: 0.5033 - Recall: 0.2459 - accuracy: 0.8562 - loss: 0.3263 - val_AUC: 0.9742 - val_Precision: 0.8947 - val_Recall: 0.7476 - val_accuracy: 0.9574 - val_loss: 0.1289\n",
            "Epoch 2/10\n",
            "\u001b[1m1750/1750\u001b[0m \u001b[32m━━━━━━━━━━━━━━━━━━━━\u001b[0m\u001b[37m\u001b[0m \u001b[1m0s\u001b[0m 256us/step - AUC: 0.9782 - Precision: 0.9269 - Recall: 0.7106 - accuracy: 0.9566 - loss: 0.1148 - val_AUC: 0.9805 - val_Precision: 0.8832 - val_Recall: 0.8075 - val_accuracy: 0.9626 - val_loss: 0.1037\n",
            "Epoch 3/10\n",
            "\u001b[1m1750/1750\u001b[0m \u001b[32m━━━━━━━━━━━━━━━━━━━━\u001b[0m\u001b[37m\u001b[0m \u001b[1m0s\u001b[0m 259us/step - AUC: 0.9804 - Precision: 0.9153 - Recall: 0.7795 - accuracy: 0.9641 - loss: 0.1000 - val_AUC: 0.9806 - val_Precision: 0.8874 - val_Recall: 0.8104 - val_accuracy: 0.9634 - val_loss: 0.0977\n",
            "Epoch 4/10\n",
            "\u001b[1m1750/1750\u001b[0m \u001b[32m━━━━━━━━━━━━━━━━━━━━\u001b[0m\u001b[37m\u001b[0m \u001b[1m0s\u001b[0m 254us/step - AUC: 0.9821 - Precision: 0.9124 - Recall: 0.8077 - accuracy: 0.9667 - loss: 0.0910 - val_AUC: 0.9812 - val_Precision: 0.9153 - val_Recall: 0.7961 - val_accuracy: 0.9653 - val_loss: 0.0955\n",
            "Epoch 5/10\n",
            "\u001b[1m1750/1750\u001b[0m \u001b[32m━━━━━━━━━━━━━━━━━━━━\u001b[0m\u001b[37m\u001b[0m \u001b[1m0s\u001b[0m 275us/step - AUC: 0.9823 - Precision: 0.9048 - Recall: 0.8077 - accuracy: 0.9653 - loss: 0.0918 - val_AUC: 0.9811 - val_Precision: 0.8905 - val_Recall: 0.8270 - val_accuracy: 0.9656 - val_loss: 0.0929\n",
            "Epoch 6/10\n",
            "\u001b[1m1750/1750\u001b[0m \u001b[32m━━━━━━━━━━━━━━━━━━━━\u001b[0m\u001b[37m\u001b[0m \u001b[1m0s\u001b[0m 253us/step - AUC: 0.9809 - Precision: 0.9106 - Recall: 0.8158 - accuracy: 0.9667 - loss: 0.0915 - val_AUC: 0.9819 - val_Precision: 0.8763 - val_Recall: 0.8418 - val_accuracy: 0.9654 - val_loss: 0.0922\n",
            "Epoch 7/10\n",
            "\u001b[1m1750/1750\u001b[0m \u001b[32m━━━━━━━━━━━━━━━━━━━━\u001b[0m\u001b[37m\u001b[0m \u001b[1m1s\u001b[0m 303us/step - AUC: 0.9827 - Precision: 0.9104 - Recall: 0.8221 - accuracy: 0.9678 - loss: 0.0854 - val_AUC: 0.9788 - val_Precision: 0.9591 - val_Recall: 0.7499 - val_accuracy: 0.9647 - val_loss: 0.1022\n",
            "Epoch 8/10\n",
            "\u001b[1m1750/1750\u001b[0m \u001b[32m━━━━━━━━━━━━━━━━━━━━\u001b[0m\u001b[37m\u001b[0m \u001b[1m0s\u001b[0m 275us/step - AUC: 0.9831 - Precision: 0.9155 - Recall: 0.8205 - accuracy: 0.9683 - loss: 0.0861 - val_AUC: 0.9821 - val_Precision: 0.8859 - val_Recall: 0.8378 - val_accuracy: 0.9662 - val_loss: 0.0898\n",
            "Epoch 9/10\n",
            "\u001b[1m1750/1750\u001b[0m \u001b[32m━━━━━━━━━━━━━━━━━━━━\u001b[0m\u001b[37m\u001b[0m \u001b[1m0s\u001b[0m 280us/step - AUC: 0.9830 - Precision: 0.9250 - Recall: 0.8278 - accuracy: 0.9705 - loss: 0.0821 - val_AUC: 0.9816 - val_Precision: 0.9188 - val_Recall: 0.8075 - val_accuracy: 0.9670 - val_loss: 0.0893\n",
            "Epoch 10/10\n",
            "\u001b[1m1750/1750\u001b[0m \u001b[32m━━━━━━━━━━━━━━━━━━━━\u001b[0m\u001b[37m\u001b[0m \u001b[1m0s\u001b[0m 268us/step - AUC: 0.9836 - Precision: 0.9146 - Recall: 0.8194 - accuracy: 0.9687 - loss: 0.0833 - val_AUC: 0.9819 - val_Precision: 0.9262 - val_Recall: 0.7955 - val_accuracy: 0.9665 - val_loss: 0.0904\n"
          ]
        }
      ],
      "source": [
        "# Train the model\n",
        "history = model.fit(X_train, y_train, epochs=10, batch_size=32, validation_split=0.2 )\n"
      ]
    },
    {
      "cell_type": "markdown",
      "metadata": {
        "id": "mZ306jNCRBCw"
      },
      "source": [
        "#### What is going on here?\n",
        "-   **Epochs (10):** The brain goes through all the data 10 times, learning a bit more with each pass.  \n",
        "-   **Batch Size (32):** The brain practices on 32 examples at a time.\n",
        "-   **Validation Split (0.2):** We set aside 20% of the data to test the brain and see how well it's learning."
      ]
    },
    {
      "cell_type": "code",
      "execution_count": null,
      "metadata": {
        "colab": {
          "base_uri": "https://localhost:8080/"
        },
        "id": "uWjAyyThRBCx",
        "outputId": "0a46036b-0755-4f84-c090-82348a101764"
      },
      "outputs": [
        {
          "name": "stdout",
          "output_type": "stream",
          "text": [
            "\u001b[1m938/938\u001b[0m \u001b[32m━━━━━━━━━━━━━━━━━━━━\u001b[0m\u001b[37m\u001b[0m \u001b[1m0s\u001b[0m 158us/step\n"
          ]
        }
      ],
      "source": [
        "# How does this compare to model built in previous sessions?\n",
        "\n",
        "# Make predictions\n",
        "y_prob = model.predict(X_test)\n",
        "y_pred = (y_prob > 0.5)\n"
      ]
    },
    {
      "cell_type": "code",
      "execution_count": null,
      "metadata": {
        "colab": {
          "base_uri": "https://localhost:8080/",
          "height": 376
        },
        "id": "g1oZYaQdRBCx",
        "outputId": "83c4fc24-cadd-41e8-b06a-b5ad9111598a"
      },
      "outputs": [
        {
          "name": "stdout",
          "output_type": "stream",
          "text": [
            "Accuracy: 0.9670333333333333\n",
            "Precision: 0.9380645161290323\n",
            "Recall: 0.784885290148448\n",
            "F1-Score: 0.8546656869948567\n",
            "ROC-AUC: 0.9840338688076402\n",
            "Confusion Matrix:\n",
            "[[26103   192]\n",
            " [  797  2908]]\n"
          ]
        }
      ],
      "source": [
        "from dsif6utility import model_evaluation_report\n",
        "model_evaluation_report(X_test, y_test, y_pred, y_prob)"
      ]
    },
    {
      "cell_type": "markdown",
      "metadata": {
        "id": "lkb3l-QQBLB2"
      },
      "source": [
        "### Interpreting outputs produced\n",
        "Let's look at the probability scores produced:"
      ]
    },
    {
      "cell_type": "code",
      "execution_count": null,
      "metadata": {
        "id": "YVNVrIeOBLB2",
        "outputId": "dced0102-dcf2-433b-fb1e-f9f020249704"
      },
      "outputs": [
        {
          "data": {
            "text/plain": [
              "count   30000.00\n",
              "mean        0.11\n",
              "std         0.29\n",
              "min         0.00\n",
              "0%          0.00\n",
              "1%          0.00\n",
              "10%         0.00\n",
              "25%         0.00\n",
              "50%         0.00\n",
              "75%         0.02\n",
              "90%         0.57\n",
              "95%         1.00\n",
              "99%         1.00\n",
              "100%        1.00\n",
              "max         1.00\n",
              "Name: prob, dtype: float64"
            ]
          },
          "execution_count": 13,
          "metadata": {},
          "output_type": "execute_result"
        }
      ],
      "source": [
        "# Set float format to 2 decimal places\n",
        "pd.options.display.float_format = '{:.2f}'.format\n",
        "\n",
        "y_prob = pd.DataFrame(y_prob, columns=[\"prob\"])\n",
        "y_prob.prob.describe(percentiles = [i / 100 for i in [0, 1, 10, 25, 50, 75, 90, 95, 99, 100]])"
      ]
    },
    {
      "cell_type": "markdown",
      "metadata": {
        "id": "XrNgPNkeBLB3"
      },
      "source": [
        "### <span style=\"color:BLUE\"> **>>> DISCUSSION:**  </span>    \n",
        "> What do you notice?"
      ]
    },
    {
      "cell_type": "markdown",
      "metadata": {
        "id": "ZKt1484CBLB5"
      },
      "source": [
        "To achieve a wider range of probabilities in your neural network output, you can consider the following modifications:\n",
        "\n",
        "**Change the output layer activation function**\n",
        "If your task requires predicting probabilities for multiple classes, use the `softmax` activation function instead of `sigmoid`. For binary classification, `sigmoid` is appropriate, but if you're observing outputs mostly at the extremes (0 or 1), consider adjusting the model complexity.\n",
        "\n",
        "**Increase model complexity**\n",
        "You can add more layers or increase the number of neurons in the existing layers to allow the model to learn more complex patterns.\n",
        "\n",
        "**Regularization techniques**\n",
        "Consider adding dropout layers to prevent overfitting, which can sometimes lead to extreme outputs.\n",
        "\n",
        "**Adjust the loss function**\n",
        "If your output is indeed binary but you want probabilities that are not strictly 0 or 1, ensure that you balance your dataset or adjust class weights during training."
      ]
    },
    {
      "cell_type": "markdown",
      "metadata": {
        "id": "MVy9rlghBLB5"
      },
      "source": [
        "## 3.2 Some pointers/examples for NNs architectures\n"
      ]
    },
    {
      "cell_type": "markdown",
      "metadata": {
        "id": "YGlp_nggBLB6"
      },
      "source": [
        "The following table includes a brief description of each architecture's structure and its rationale, providing a clearer understanding of why each architecture is suited for its respective use case.\n",
        "\n",
        "| Neural Network Type | Structure | Use Case | Links | Description |\n",
        "| --- | --- | --- | --- | --- |\n",
        "| **Basic Feedforward Neural Network** | Dense (ReLU) → Dense (ReLU) → Dense (Sigmoid) | Binary Classification | [Sonar, Mines vs. Rocks example](https://machinelearningmastery.com/binary-classification-tutorial-with-the-keras-deep-learning-library/) | Simple architecture for binary classification; fully connected layers enable learning complex relationships. |\n",
        "| **Simple Neural Network for Classification** | Dense (ReLU) → Dense (Softmax) | Multi-Class Classification | [Iris Dataset example](https://lnwatson.co.uk/posts/intro_to_nn/) | Designed for multi-class classification; softmax activation allows for probability distribution across multiple classes. |\n",
        "| **Convolutional Neural Network (CNN)** | Conv2D (ReLU) → flatten → Dense (Softmax) | Image Classification | [mnist image recognition example](https://towardsdatascience.com/building-a-convolutional-neural-network-cnn-in-keras-329fbbadc5f5) | Effective for image data; convolutional layers capture spatial hierarchies, while pooling reduces dimensionality. |\n",
        "| **Recurrent Neural Network (RNN)** | LSTM → Dense (Sigmoid) | Time Series Prediction | [lstm for time series example](https://machinelearningmastery.com/time-series-prediction-lstm-recurrent-neural-networks-python-keras/) | Suitable for sequential data; LSTMs manage long-term dependencies in time series or text inputs. |\n",
        "| **Autoencoder** | Dense (ReLU) → Dense (ReLU) → Dense (Bottleneck) → Dense (ReLU) → Dense (Sigmoid) | Unsupervised Learning, Feature Extraction, Fraud detection | [Autoencoders example](https://blog.keras.io/building-autoencoders-in-keras.html) | Unsupervised learning for feature extraction; compresses input data into a lower-dimensional representation. |\n",
        "| **Generative Adversarial Network (GAN)** | Dense (ReLU) → Dense (Output) (Generator) and Dense (ReLU) → Dense (Output) (Discriminator) | Synthetic data generation, Fraud detection | [GANs example](https://medium.com/@marcodelpra/generative-adversarial-networks-dba10e1b4424) | Two competing networks create new data; the generator learns to produce realistic samples while the discriminator assesses them. |\n"
      ]
    },
    {
      "cell_type": "markdown",
      "metadata": {
        "id": "3kcET8G1BLB6"
      },
      "source": [
        "## 3.3 Calculating sample size required - Rule of thumb\n",
        "\n",
        "**Rule of 10**, namely the amount of training data you need for a well performing model is 10x the number of parameters in the model. ([source](https://malay-haldar.medium.com/how-much-training-data-do-you-need-da8ec091e956#:~:text=This%20leads%20us%20to%20the,of%20parameters%20in%20the%20model.))\n",
        "\n",
        "To determine the appropriate sample size based on the rule of 10, we first need to calculate the total number of parameters in your model. Here's how to do that step-by-step:\n",
        "\n",
        "### i \\. **Calculate Parameters for Each Layer**\n",
        "\n",
        "For a `Dense` layer, the number of parameters can be calculated as:\n",
        "\n",
        "Parameters=(number of inputs+1)×(number of neurons)\n",
        "\n",
        "-   **Input Layer:** The first layer has `input_dim` neurons, which is the number of features in your dataset.\n",
        "-   **Hidden Layer 1:** Has 16 neurons.\n",
        "-   **Hidden Layer 2:** Has 8 neurons.\n",
        "-   **Output Layer:** Has 1 neuron.\n",
        "\n",
        "### ii \\. **Calculate the Total Parameters**\n",
        "\n",
        "Assuming your input has n features:\n",
        "\n",
        "-   **First Layer:** (n+1)×16  \n",
        "-   **Second Layer:** (16+1)×8= 136  \n",
        "-   **Output Layer:** (8+1)×1= 9  \n",
        "\n",
        "### iii \\. **Putting It Together**\n",
        "\n",
        "#### Total Parameters:  \n",
        "To ensure a well-performing model, your sample size should be at least:  \n",
        "\n",
        "Sample Size = 10 * [(n+1)×16 + 136 + 9]\n",
        "\n",
        "\n",
        "\n",
        "### Example Calculation\n",
        "\n",
        "If you have, for example, 20 features:\n",
        "\n",
        "Sample Size = 10 * [(20+1)×16 + 136 + 9] = 4810\n",
        "\n",
        "So, if your input has 20 features, you should aim for at least **4810 samples** for training your model. Adjust the calculation based on the actual number of features in your dataset."
      ]
    },
    {
      "cell_type": "markdown",
      "metadata": {
        "id": "OBRyKZrpRBCy"
      },
      "source": [
        "## 3.4 Detecting and dealing with overfitting in NNs"
      ]
    },
    {
      "cell_type": "code",
      "execution_count": null,
      "metadata": {
        "id": "Ft0uontejwG_",
        "outputId": "d6421a2d-4826-48f1-d4b8-484c4f85b695"
      },
      "outputs": [
        {
          "data": {
            "text/plain": [
              "[0.9741565585136414,\n",
              " 0.9805269241333008,\n",
              " 0.9806495904922485,\n",
              " 0.9812343120574951,\n",
              " 0.9810924530029297,\n",
              " 0.9818577766418457,\n",
              " 0.9787722229957581,\n",
              " 0.982123613357544,\n",
              " 0.9816346764564514,\n",
              " 0.9818929433822632]"
            ]
          },
          "execution_count": 14,
          "metadata": {},
          "output_type": "execute_result"
        }
      ],
      "source": [
        "history.history['val_AUC']"
      ]
    },
    {
      "cell_type": "code",
      "execution_count": null,
      "metadata": {
        "colab": {
          "base_uri": "https://localhost:8080/",
          "height": 843
        },
        "id": "teSV1hkeBLB7",
        "outputId": "099ea902-f019-4ca1-aca2-f887289ccb35"
      },
      "outputs": [
        {
          "data": {
            "image/png": "[encoded data removed]",
            "text/plain": [
              "<Figure size 640x480 with 1 Axes>"
            ]
          },
          "metadata": {},
          "output_type": "display_data"
        },
        {
          "data": {
            "image/png": "[encoded data removed]",
            "text/plain": [
              "<Figure size 640x480 with 1 Axes>"
            ]
          },
          "metadata": {},
          "output_type": "display_data"
        }
      ],
      "source": [
        "def plot_training_vs_overfitting(history):\n",
        "    \"\"\"Plot training and validation accuracy to detect overfitting (when gap between 2 is detected)\"\"\"\n",
        "    import matplotlib.pyplot as plt\n",
        "\n",
        "    # Plot accuracy\n",
        "    plt.plot(history.history['accuracy'], label='Train Accuracy')\n",
        "    plt.plot(history.history['val_accuracy'], label='Validation Accuracy')\n",
        "    plt.legend()\n",
        "    plt.show()\n",
        "\n",
        "    # Plot loss\n",
        "    plt.plot(history.history['loss'], label='Train Loss')\n",
        "    plt.plot(history.history['val_loss'], label='Validation Loss')\n",
        "    plt.legend()\n",
        "    plt.show()\n",
        "\n",
        "plot_training_vs_overfitting(history)"
      ]
    },
    {
      "cell_type": "markdown",
      "metadata": {
        "id": "sB5O49e8RBCy"
      },
      "source": [
        "### <span style=\"color:BLUE\"> **>>> DISCUSSION:**  </span>    \n",
        "> How can we see if there is any suspected overfitting?"
      ]
    },
    {
      "cell_type": "markdown",
      "metadata": {
        "id": "yVNBm7N_BLB-"
      },
      "source": [
        "### Common techniques to deal with overfitting:\n",
        "\n",
        "#### i\\. **Add a Dropout Layer**\n",
        "\n",
        "Dropout is a regularization technique that randomly \"drops out\" a fraction of the neurons during training, forcing the model to learn more robust features.\n"
      ]
    },
    {
      "cell_type": "code",
      "execution_count": null,
      "metadata": {
        "colab": {
          "base_uri": "https://localhost:8080/"
        },
        "id": "3z0wQFDaBLB-",
        "outputId": "2e3516ae-c486-40d4-871d-d048b7d2ea29"
      },
      "outputs": [
        {
          "name": "stderr",
          "output_type": "stream",
          "text": [
            "/opt/miniconda3/lib/python3.12/site-packages/keras/src/layers/core/dense.py:87: UserWarning: Do not pass an `input_shape`/`input_dim` argument to a layer. When using Sequential models, prefer using an `Input(shape)` object as the first layer in the model instead.\n",
            "  super().__init__(activity_regularizer=activity_regularizer, **kwargs)\n"
          ]
        }
      ],
      "source": [
        "from keras.layers import Dropout\n",
        "\n",
        "# Initialize the model\n",
        "model2 = Sequential()\n",
        "\n",
        "# First hidden layer with Dropout\n",
        "model2.add(Dense(16, input_dim=X_scaled_df.shape[1], activation='relu'))\n",
        "model2.add(Dropout(0.5))  # Drop 50% of neurons\n",
        "\n",
        "# Second hidden layer with Dropout\n",
        "model2.add(Dense(8, activation='relu'))\n",
        "model2.add(Dropout(0.5))  # Drop 50% of neurons\n",
        "\n",
        "# Output layer\n",
        "model2.add(Dense(1, activation='sigmoid'))\n",
        "\n",
        "# Compile the model\n",
        "model2.compile(\n",
        "    optimizer='adam',\n",
        "    loss='binary_crossentropy',\n",
        "    metrics=['accuracy', 'Precision', 'Recall', 'AUC']\n",
        ")"
      ]
    },
    {
      "cell_type": "code",
      "execution_count": null,
      "metadata": {
        "id": "NIAz_RsOBLB-",
        "outputId": "2e441fc5-5cbd-4400-88b1-a8d1f631c061"
      },
      "outputs": [
        {
          "name": "stdout",
          "output_type": "stream",
          "text": [
            "Epoch 1/10\n",
            "\u001b[1m1750/1750\u001b[0m \u001b[32m━━━━━━━━━━━━━━━━━━━━\u001b[0m\u001b[37m\u001b[0m \u001b[1m1s\u001b[0m 329us/step - AUC: 0.6414 - Precision: 0.2354 - Recall: 0.0281 - accuracy: 0.8629 - loss: 0.4069 - val_AUC: 0.9611 - val_Precision: 0.9584 - val_Recall: 0.4603 - val_accuracy: 0.9300 - val_loss: 0.1844\n",
            "Epoch 2/10\n",
            "\u001b[1m1750/1750\u001b[0m \u001b[32m━━━━━━━━━━━━━━━━━━━━\u001b[0m\u001b[37m\u001b[0m \u001b[1m0s\u001b[0m 276us/step - AUC: 0.9275 - Precision: 0.8169 - Recall: 0.3031 - accuracy: 0.9043 - loss: 0.2120 - val_AUC: 0.9764 - val_Precision: 0.9556 - val_Recall: 0.6642 - val_accuracy: 0.9541 - val_loss: 0.1354\n",
            "Epoch 3/10\n",
            "\u001b[1m1750/1750\u001b[0m \u001b[32m━━━━━━━━━━━━━━━━━━━━\u001b[0m\u001b[37m\u001b[0m \u001b[1m0s\u001b[0m 271us/step - AUC: 0.9519 - Precision: 0.8264 - Recall: 0.4370 - accuracy: 0.9179 - loss: 0.1718 - val_AUC: 0.9778 - val_Precision: 0.8851 - val_Recall: 0.8053 - val_accuracy: 0.9626 - val_loss: 0.1122\n",
            "Epoch 4/10\n",
            "\u001b[1m1750/1750\u001b[0m \u001b[32m━━━━━━━━━━━━━━━━━━━━\u001b[0m\u001b[37m\u001b[0m \u001b[1m0s\u001b[0m 269us/step - AUC: 0.9603 - Precision: 0.8216 - Recall: 0.7454 - accuracy: 0.9485 - loss: 0.1576 - val_AUC: 0.9773 - val_Precision: 0.8789 - val_Recall: 0.8207 - val_accuracy: 0.9634 - val_loss: 0.1062\n",
            "Epoch 5/10\n",
            "\u001b[1m1750/1750\u001b[0m \u001b[32m━━━━━━━━━━━━━━━━━━━━\u001b[0m\u001b[37m\u001b[0m \u001b[1m1s\u001b[0m 308us/step - AUC: 0.9629 - Precision: 0.8113 - Recall: 0.7859 - accuracy: 0.9506 - loss: 0.1538 - val_AUC: 0.9791 - val_Precision: 0.8715 - val_Recall: 0.8447 - val_accuracy: 0.9650 - val_loss: 0.1000\n",
            "Epoch 6/10\n",
            "\u001b[1m1750/1750\u001b[0m \u001b[32m━━━━━━━━━━━━━━━━━━━━\u001b[0m\u001b[37m\u001b[0m \u001b[1m0s\u001b[0m 270us/step - AUC: 0.9664 - Precision: 0.8207 - Recall: 0.7906 - accuracy: 0.9528 - loss: 0.1472 - val_AUC: 0.9796 - val_Precision: 0.9012 - val_Recall: 0.8075 - val_accuracy: 0.9649 - val_loss: 0.0992\n",
            "Epoch 7/10\n",
            "\u001b[1m1750/1750\u001b[0m \u001b[32m━━━━━━━━━━━━━━━━━━━━\u001b[0m\u001b[37m\u001b[0m \u001b[1m0s\u001b[0m 270us/step - AUC: 0.9658 - Precision: 0.8110 - Recall: 0.8006 - accuracy: 0.9526 - loss: 0.1461 - val_AUC: 0.9781 - val_Precision: 0.9174 - val_Recall: 0.7995 - val_accuracy: 0.9659 - val_loss: 0.1014\n",
            "Epoch 8/10\n",
            "\u001b[1m1750/1750\u001b[0m \u001b[32m━━━━━━━━━━━━━━━━━━━━\u001b[0m\u001b[37m\u001b[0m \u001b[1m0s\u001b[0m 269us/step - AUC: 0.9669 - Precision: 0.8178 - Recall: 0.8031 - accuracy: 0.9533 - loss: 0.1439 - val_AUC: 0.9782 - val_Precision: 0.9091 - val_Recall: 0.8110 - val_accuracy: 0.9662 - val_loss: 0.1009\n",
            "Epoch 9/10\n",
            "\u001b[1m1750/1750\u001b[0m \u001b[32m━━━━━━━━━━━━━━━━━━━━\u001b[0m\u001b[37m\u001b[0m \u001b[1m0s\u001b[0m 272us/step - AUC: 0.9654 - Precision: 0.8231 - Recall: 0.8062 - accuracy: 0.9550 - loss: 0.1443 - val_AUC: 0.9794 - val_Precision: 0.8699 - val_Recall: 0.8475 - val_accuracy: 0.9651 - val_loss: 0.0957\n",
            "Epoch 10/10\n",
            "\u001b[1m1750/1750\u001b[0m \u001b[32m━━━━━━━━━━━━━━━━━━━━\u001b[0m\u001b[37m\u001b[0m \u001b[1m0s\u001b[0m 267us/step - AUC: 0.9665 - Precision: 0.8199 - Recall: 0.8080 - accuracy: 0.9533 - loss: 0.1480 - val_AUC: 0.9785 - val_Precision: 0.8664 - val_Recall: 0.8521 - val_accuracy: 0.9651 - val_loss: 0.0973\n"
          ]
        },
        {
          "data": {
            "image/png": "[encoded data removed]",
            "text/plain": [
              "<Figure size 640x480 with 1 Axes>"
            ]
          },
          "metadata": {},
          "output_type": "display_data"
        },
        {
          "data": {
            "image/png": "[encoded data removed]",
            "text/plain": [
              "<Figure size 640x480 with 1 Axes>"
            ]
          },
          "metadata": {},
          "output_type": "display_data"
        }
      ],
      "source": [
        "# Train the model\n",
        "history2 = model2.fit(X_train, y_train, epochs=10, batch_size=32, validation_split=0.2)\n",
        "plot_training_vs_overfitting(history2)"
      ]
    },
    {
      "cell_type": "markdown",
      "metadata": {
        "id": "2kjc9wcujwHD"
      },
      "source": [
        "#### Interpretation\n",
        "- Dropout randomly drops neurons during training, forcing the model to learn more robust representations.\n",
        "- During training, this makes it harder for the network to memorize patterns, leading to lower training accuracy.\n",
        "- However, at validation time, dropout is turned off, meaning the full network is used, allowing the model to make better predictions with all neurons active.\n"
      ]
    },
    {
      "cell_type": "markdown",
      "metadata": {
        "id": "oKG0Oac6BLCA"
      },
      "source": [
        "#### 2\\. **Early Stopping**\n",
        "\n",
        "Early stopping halts training once the performance on the validation data stops improving. This prevents the model from overfitting after a certain point.\n"
      ]
    },
    {
      "cell_type": "code",
      "execution_count": null,
      "metadata": {
        "id": "BpkJJXGmBLCB",
        "outputId": "ee35a879-273f-4bfb-e519-1fea5161b580"
      },
      "outputs": [
        {
          "name": "stdout",
          "output_type": "stream",
          "text": [
            "Epoch 1/100\n",
            "\u001b[1m2188/2188\u001b[0m \u001b[32m━━━━━━━━━━━━━━━━━━━━\u001b[0m\u001b[37m\u001b[0m \u001b[1m1s\u001b[0m 321us/step - AUC: 0.9830 - Precision: 0.9145 - Recall: 0.8248 - accuracy: 0.9689 - loss: 0.0834 - val_AUC: 0.9831 - val_Precision: 0.9229 - val_Recall: 0.8011 - val_accuracy: 0.9672 - val_loss: 0.0862\n",
            "Epoch 2/100\n",
            "\u001b[1m2188/2188\u001b[0m \u001b[32m━━━━━━━━━━━━━━━━━━━━\u001b[0m\u001b[37m\u001b[0m \u001b[1m1s\u001b[0m 306us/step - AUC: 0.9827 - Precision: 0.9194 - Recall: 0.8223 - accuracy: 0.9692 - loss: 0.0831 - val_AUC: 0.9824 - val_Precision: 0.9505 - val_Recall: 0.7773 - val_accuracy: 0.9675 - val_loss: 0.0885\n",
            "Epoch 3/100\n",
            "\u001b[1m2188/2188\u001b[0m \u001b[32m━━━━━━━━━━━━━━━━━━━━\u001b[0m\u001b[37m\u001b[0m \u001b[1m1s\u001b[0m 295us/step - AUC: 0.9821 - Precision: 0.9170 - Recall: 0.8189 - accuracy: 0.9682 - loss: 0.0848 - val_AUC: 0.9840 - val_Precision: 0.8861 - val_Recall: 0.8440 - val_accuracy: 0.9673 - val_loss: 0.0856\n",
            "Epoch 4/100\n",
            "\u001b[1m2188/2188\u001b[0m \u001b[32m━━━━━━━━━━━━━━━━━━━━\u001b[0m\u001b[37m\u001b[0m \u001b[1m1s\u001b[0m 296us/step - AUC: 0.9848 - Precision: 0.9170 - Recall: 0.8320 - accuracy: 0.9692 - loss: 0.0813 - val_AUC: 0.9833 - val_Precision: 0.9469 - val_Recall: 0.7887 - val_accuracy: 0.9684 - val_loss: 0.0847\n"
          ]
        },
        {
          "data": {
            "image/png": "[encoded data removed]",
            "text/plain": [
              "<Figure size 640x480 with 1 Axes>"
            ]
          },
          "metadata": {},
          "output_type": "display_data"
        },
        {
          "data": {
            "image/png": "[encoded data removed]",
            "text/plain": [
              "<Figure size 640x480 with 1 Axes>"
            ]
          },
          "metadata": {},
          "output_type": "display_data"
        }
      ],
      "source": [
        "from keras.callbacks import EarlyStopping\n",
        "\n",
        "# Early stopping to prevent overfitting\n",
        "early_stopping = EarlyStopping(\n",
        "    monitor='val_Precision',  # Evaluation metric to watch\n",
        "    mode='max',\n",
        "    patience=2,               # Stop if no improvement after <X> epochs\n",
        "    restore_best_weights=True  # Restore the model weights at the best epoch\n",
        ")\n",
        "\n",
        "# Train with early stopping\n",
        "history3 = model.fit(\n",
        "    X_train, y_train,\n",
        "    validation_data=(X_test, y_test),\n",
        "    epochs=100,\n",
        "    batch_size=32,\n",
        "    validation_split=0.2,\n",
        "    callbacks=[early_stopping]\n",
        ")\n",
        "plot_training_vs_overfitting(history3)"
      ]
    },
    {
      "cell_type": "markdown",
      "metadata": {
        "id": "ShGREeq4BLCW"
      },
      "source": [
        "#### 3\\. **Reduce Model Complexity**\n",
        "Sometimes, your model may be too complex (too many layers or neurons). You can simplify it by reducing the number of hidden layers or neurons per layer.\n",
        "\n",
        "#### 4\\. **Data Augmentation**\n",
        "If possible, increase the amount of training data by augmenting it. More data can help the model generalize better, especially in tasks like image recognition (though it's less applicable for tabular data).\n",
        "\n",
        "#### 5\\. **Regularization (L2)**\n",
        "L2 regularization (also called weight decay) adds a penalty for large weights, which helps prevent overfitting.\n"
      ]
    },
    {
      "cell_type": "code",
      "execution_count": null,
      "metadata": {
        "id": "QpNxBGByBLCX",
        "outputId": "9ff136e0-25ce-4be9-9b0d-23ed1e726df8"
      },
      "outputs": [
        {
          "name": "stderr",
          "output_type": "stream",
          "text": [
            "/opt/miniconda3/lib/python3.12/site-packages/keras/src/layers/core/dense.py:87: UserWarning: Do not pass an `input_shape`/`input_dim` argument to a layer. When using Sequential models, prefer using an `Input(shape)` object as the first layer in the model instead.\n",
            "  super().__init__(activity_regularizer=activity_regularizer, **kwargs)\n"
          ]
        }
      ],
      "source": [
        "from keras.regularizers import l2\n",
        "\n",
        "# Add L2 regularization to the model\n",
        "model4 = Sequential()\n",
        "model4.add(Dense(16, input_dim=X_scaled_df.shape[1], activation='relu', kernel_regularizer=l2(0.01)))\n",
        "model4.add(Dense(8, activation='relu', kernel_regularizer=l2(0.01)))\n",
        "model4.add(Dense(1, activation='sigmoid'))\n",
        "\n",
        "model4.compile(optimizer='adam', loss='binary_crossentropy', metrics=['accuracy', 'Precision', 'Recall', 'AUC'])\n"
      ]
    },
    {
      "cell_type": "code",
      "execution_count": null,
      "metadata": {
        "id": "kD1lE2GsBLCX",
        "outputId": "8893e5fc-be44-4810-c777-87154bbce537"
      },
      "outputs": [
        {
          "name": "stdout",
          "output_type": "stream",
          "text": [
            "Epoch 1/10\n",
            "\u001b[1m1750/1750\u001b[0m \u001b[32m━━━━━━━━━━━━━━━━━━━━\u001b[0m\u001b[37m\u001b[0m \u001b[1m1s\u001b[0m 313us/step - AUC: 0.7371 - Precision: 0.1228 - Recall: 0.0598 - accuracy: 0.8322 - loss: 0.4909 - val_AUC: 0.9506 - val_Precision: 0.8880 - val_Recall: 0.1856 - val_accuracy: 0.8952 - val_loss: 0.2934\n",
            "Epoch 2/10\n",
            "\u001b[1m1750/1750\u001b[0m \u001b[32m━━━━━━━━━━━━━━━━━━━━\u001b[0m\u001b[37m\u001b[0m \u001b[1m0s\u001b[0m 256us/step - AUC: 0.9573 - Precision: 0.9176 - Recall: 0.2579 - accuracy: 0.9057 - loss: 0.2745 - val_AUC: 0.9683 - val_Precision: 0.8999 - val_Recall: 0.3798 - val_accuracy: 0.9171 - val_loss: 0.2433\n",
            "Epoch 3/10\n",
            "\u001b[1m1750/1750\u001b[0m \u001b[32m━━━━━━━━━━━━━━━━━━━━\u001b[0m\u001b[37m\u001b[0m \u001b[1m0s\u001b[0m 262us/step - AUC: 0.9696 - Precision: 0.8934 - Recall: 0.5011 - accuracy: 0.9325 - loss: 0.2285 - val_AUC: 0.9691 - val_Precision: 0.8781 - val_Recall: 0.5266 - val_accuracy: 0.9316 - val_loss: 0.2185\n",
            "Epoch 4/10\n",
            "\u001b[1m1750/1750\u001b[0m \u001b[32m━━━━━━━━━━━━━━━━━━━━\u001b[0m\u001b[37m\u001b[0m \u001b[1m0s\u001b[0m 252us/step - AUC: 0.9712 - Precision: 0.8738 - Recall: 0.6160 - accuracy: 0.9416 - loss: 0.2084 - val_AUC: 0.9697 - val_Precision: 0.8360 - val_Recall: 0.6870 - val_accuracy: 0.9440 - val_loss: 0.2026\n",
            "Epoch 5/10\n",
            "\u001b[1m1750/1750\u001b[0m \u001b[32m━━━━━━━━━━━━━━━━━━━━\u001b[0m\u001b[37m\u001b[0m \u001b[1m0s\u001b[0m 256us/step - AUC: 0.9707 - Precision: 0.8544 - Recall: 0.6623 - accuracy: 0.9445 - loss: 0.1962 - val_AUC: 0.9701 - val_Precision: 0.8151 - val_Recall: 0.7379 - val_accuracy: 0.9463 - val_loss: 0.1946\n",
            "Epoch 6/10\n",
            "\u001b[1m1750/1750\u001b[0m \u001b[32m━━━━━━━━━━━━━━━━━━━━\u001b[0m\u001b[37m\u001b[0m \u001b[1m0s\u001b[0m 254us/step - AUC: 0.9719 - Precision: 0.8556 - Recall: 0.6899 - accuracy: 0.9473 - loss: 0.1868 - val_AUC: 0.9703 - val_Precision: 0.8414 - val_Recall: 0.6728 - val_accuracy: 0.9432 - val_loss: 0.1872\n",
            "Epoch 7/10\n",
            "\u001b[1m1750/1750\u001b[0m \u001b[32m━━━━━━━━━━━━━━━━━━━━\u001b[0m\u001b[37m\u001b[0m \u001b[1m0s\u001b[0m 254us/step - AUC: 0.9709 - Precision: 0.8447 - Recall: 0.6977 - accuracy: 0.9471 - loss: 0.1835 - val_AUC: 0.9713 - val_Precision: 0.8566 - val_Recall: 0.6585 - val_accuracy: 0.9435 - val_loss: 0.1837\n",
            "Epoch 8/10\n",
            "\u001b[1m1750/1750\u001b[0m \u001b[32m━━━━━━━━━━━━━━━━━━━━\u001b[0m\u001b[37m\u001b[0m \u001b[1m1s\u001b[0m 293us/step - AUC: 0.9735 - Precision: 0.8499 - Recall: 0.7142 - accuracy: 0.9489 - loss: 0.1759 - val_AUC: 0.9720 - val_Precision: 0.8365 - val_Recall: 0.7333 - val_accuracy: 0.9487 - val_loss: 0.1772\n",
            "Epoch 9/10\n",
            "\u001b[1m1750/1750\u001b[0m \u001b[32m━━━━━━━━━━━━━━━━━━━━\u001b[0m\u001b[37m\u001b[0m \u001b[1m0s\u001b[0m 257us/step - AUC: 0.9738 - Precision: 0.8503 - Recall: 0.7244 - accuracy: 0.9513 - loss: 0.1694 - val_AUC: 0.9716 - val_Precision: 0.8222 - val_Recall: 0.7630 - val_accuracy: 0.9497 - val_loss: 0.1751\n",
            "Epoch 10/10\n",
            "\u001b[1m1750/1750\u001b[0m \u001b[32m━━━━━━━━━━━━━━━━━━━━\u001b[0m\u001b[37m\u001b[0m \u001b[1m0s\u001b[0m 255us/step - AUC: 0.9726 - Precision: 0.8438 - Recall: 0.7274 - accuracy: 0.9490 - loss: 0.1718 - val_AUC: 0.9727 - val_Precision: 0.8075 - val_Recall: 0.8001 - val_accuracy: 0.9511 - val_loss: 0.1753\n"
          ]
        },
        {
          "data": {
            "image/png": "[encoded data removed]",
            "text/plain": [
              "<Figure size 640x480 with 1 Axes>"
            ]
          },
          "metadata": {},
          "output_type": "display_data"
        },
        {
          "data": {
            "image/png": "[encoded data removed]",
            "text/plain": [
              "<Figure size 640x480 with 1 Axes>"
            ]
          },
          "metadata": {},
          "output_type": "display_data"
        }
      ],
      "source": [
        "# Train the model\n",
        "history4 = model4.fit(X_train, y_train, epochs=10, batch_size=32, validation_split=0.2)\n",
        "plot_training_vs_overfitting(history4)"
      ]
    },
    {
      "cell_type": "markdown",
      "metadata": {
        "id": "-jJGaVL_RBCz"
      },
      "source": [
        "# 4. Assignment overview\n",
        "\n",
        "### Part 1 - Mandatory\n",
        "**Develop a challenger model:** \\\n",
        "Using the concepts from **Session 7** and **Session 8**, create a challenger model to compare against the `model` and `model_2` built in **Session 5**. Name your new model `model_3`. Explore various architectures, models, activation functions, and other hyperparameters to improve performance.\n",
        "\n",
        "> Experiment with different combinations of optimizers, loss functions, and metrics to evaluate how they affect training speed, overall performance, and the final model's accuracy. This will help you fine-tune your model for the specific problem you're addressing.\n",
        "\n",
        "> Add at least one additional hidden layer. Observe how this affects the model's performance and overfitting and make note of the differences."
      ]
    },
    {
      "cell_type": "markdown",
      "metadata": {
        "id": "mxiuRc_8jwHD"
      },
      "source": [
        "Link to assignment scoring criteria [here](https://docs.google.com/spreadsheets/d/1UXef6HO4hNWv9OiViYsUS-qNzY4ykKV5/edit?gid=711633108#gid=711633108)."
      ]
    },
    {
      "cell_type": "markdown",
      "metadata": {
        "id": "POC6twlhRBC0"
      },
      "source": [
        "# End of session"
      ]
    },
    {
      "cell_type": "code",
      "execution_count": null,
      "metadata": {
        "colab": {
          "base_uri": "https://localhost:8080/",
          "height": 350
        },
        "id": "KuGRHlSsRBC0",
        "outputId": "b341871c-340e-4a78-dc53-205d28ee1b2a"
      },
      "outputs": [
        {
          "data": {
            "image/jpeg": "[encoded data removed]",
            "text/plain": [
              "<IPython.core.display.Image object>"
            ]
          },
          "execution_count": 21,
          "metadata": {
            "image/jpeg": {
              "width": 500
            }
          },
          "output_type": "execute_result"
        }
      ],
      "source": [
        "from IPython.display import Image\n",
        "Image(filename=f\"{path_python_material}/images/the-end.jpg\", width=500,)\n"
      ]
    },
    {
      "cell_type": "markdown",
      "metadata": {
        "id": "5xciZDwtRBC0"
      },
      "source": [
        "# Appendix"
      ]
    },
    {
      "cell_type": "markdown",
      "metadata": {
        "id": "8mgAjRWMRBCu"
      },
      "source": [
        "## Best practices for choosing activation functions:\n",
        "\n",
        "-   **ReLU (Rectified Linear Unit)**:\n",
        "\n",
        "    -   **Default choice for hidden layers** in most neural networks.\n",
        "    -   **Fast and simple**, helps avoid the vanishing gradient problem.\n",
        "    -   Use with caution if inputs can be negative or if your model isn't learning well (may cause \"dying ReLUs\").\n",
        "-   **Leaky ReLU**:\n",
        "\n",
        "    -   **Use when ReLU is causing dead neurons** (outputs stuck at 0).\n",
        "    -   Allows a small, non-zero gradient when the input is negative.\n",
        "-   **Sigmoid**:\n",
        "\n",
        "    -   Good for **binary classification output layers** (produces a probability between 0 and 1).\n",
        "    -   Avoid in hidden layers due to the **vanishing gradient problem**.\n",
        "-   **Tanh (Hyperbolic Tangent)**:\n",
        "\n",
        "    -   Use when outputs need to range between **-1 and 1**.\n",
        "    -   **Better than Sigmoid** for hidden layers but still prone to vanishing gradients.\n",
        "-   **Softmax**:\n",
        "\n",
        "    -   Ideal for **multi-class classification output layers**.\n",
        "    -   Outputs a probability distribution over multiple classes (sums to 1).\n",
        "\n",
        "-   **Linear**:\n",
        "\n",
        "    -   Use in the **output layer for regression tasks** (predicting continuous values).\n",
        "    -   No non-linearity is applied, so the output is a linear combination of inputs.\n"
      ]
    },
    {
      "cell_type": "markdown",
      "metadata": {
        "id": "fL1KW3M-BLCZ"
      },
      "source": [
        "## Changing Optimizer, Loss, and Metrics: What to Expect\n",
        "\n",
        "Changing the **optimizer**, **loss**, and **metrics** in a neural network can have a significant impact on model performance, convergence speed, and the accuracy of predictions.\n",
        "\n",
        "More info here: https://www.tensorflow.org/api_docs/python/tf/keras\n"
      ]
    },
    {
      "cell_type": "code",
      "execution_count": null,
      "metadata": {
        "id": "8Nmj6UScBLCZ"
      },
      "outputs": [],
      "source": []
    },
    {
      "cell_type": "code",
      "execution_count": null,
      "metadata": {
        "id": "9brHM-0AjwHE"
      },
      "outputs": [],
      "source": []
    }
  ],
  "metadata": {
    "colab": {
      "provenance": [],
      "include_colab_link": true
    },
    "kernelspec": {
      "display_name": "Python 3 (ipykernel)",
      "language": "python",
      "name": "python3"
    },
    "language_info": {
      "codemirror_mode": {
        "name": "ipython",
        "version": 3
      },
      "file_extension": ".py",
      "mimetype": "text/x-python",
      "name": "python",
      "nbconvert_exporter": "python",
      "pygments_lexer": "ipython3",
      "version": "3.12.9"
    }
  },
  "nbformat": 4,
  "nbformat_minor": 0
}