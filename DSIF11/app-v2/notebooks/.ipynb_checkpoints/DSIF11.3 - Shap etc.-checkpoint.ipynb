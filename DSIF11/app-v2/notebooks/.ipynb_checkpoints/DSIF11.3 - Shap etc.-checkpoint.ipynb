{
 "cells": [
  {
   "cell_type": "markdown",
   "metadata": {
    "executionInfo": {
     "elapsed": 344,
     "status": "ok",
     "timestamp": 1725171211254,
     "user": {
      "displayName": "Andrea Baroni",
      "userId": "13443912204230378793"
     },
     "user_tz": -60
    },
    "id": "WgDZGKH7IY_z",
    "outputId": "fe6968f7-3214-4d79-88bf-94564852c6de"
   },
   "source": [
    "# SHAP etc."
   ]
  },
  {
   "cell_type": "markdown",
   "metadata": {
    "id": "93zyIXyCTQh6"
   },
   "source": [
    "## Set up"
   ]
  },
  {
   "cell_type": "markdown",
   "metadata": {
    "id": "5q-PsskSTQh9"
   },
   "source": [
    "#### User-specified parameters"
   ]
  },
  {
   "cell_type": "code",
   "execution_count": 1,
   "metadata": {
    "id": "iMxzfTkWTQiA"
   },
   "outputs": [],
   "source": [
    "python_material_folder_name = \"python-material\""
   ]
  },
  {
   "cell_type": "markdown",
   "metadata": {
    "id": "2K81Jx98TQiC"
   },
   "source": [
    "### Import libraries"
   ]
  },
  {
   "cell_type": "code",
   "execution_count": 2,
   "metadata": {
    "id": "lAoEXuaMTQiD"
   },
   "outputs": [],
   "source": [
    "import pandas as pd\n",
    "import numpy as np\n",
    "\n",
    "pd.set_option('display.max_columns', None)\n",
    "pd.set_option('display.max_rows', None)\n",
    "\n",
    "# Check if in Google Colab environment\n",
    "try:\n",
    "    from google.colab import drive\n",
    "    # Mount drive\n",
    "    drive.mount('/content/drive')\n",
    "    # Set up path to Python material parent folder\n",
    "    path_python_material = rf\"drive/MyDrive/{python_material_folder_name}\"\n",
    "        # If unsure, print current directory path by executing the following in a new cell:\n",
    "        # !pwd\n",
    "    IN_COLAB = True\n",
    "except:\n",
    "    IN_COLAB = False\n",
    "    # If working locally on Jupyter Notebook, parent folder is one folder up (assuming you are using the folder structure shared at the beginning of the course)\n",
    "    path_python_material = \"..\""
   ]
  },
  {
   "cell_type": "code",
   "execution_count": 3,
   "metadata": {
    "id": "4ON-ykfTIdnN"
   },
   "outputs": [],
   "source": [
    "if IN_COLAB == True:\n",
    "  !pip install fastapi uvicorn"
   ]
  },
  {
   "cell_type": "markdown",
   "metadata": {},
   "source": [
    "## Data import"
   ]
  },
  {
   "cell_type": "code",
   "execution_count": 4,
   "metadata": {
    "executionInfo": {
     "elapsed": 13,
     "status": "aborted",
     "timestamp": 1725170760639,
     "user": {
      "displayName": "Andrea Baroni",
      "userId": "13443912204230378793"
     },
     "user_tz": -60
    },
    "id": "R3LpI3mxIZB_",
    "outputId": "fc9c32f9-c94a-4d96-96a7-9d393d446237"
   },
   "outputs": [
    {
     "data": {
      "text/html": [
       "<div>\n",
       "<style scoped>\n",
       "    .dataframe tbody tr th:only-of-type {\n",
       "        vertical-align: middle;\n",
       "    }\n",
       "\n",
       "    .dataframe tbody tr th {\n",
       "        vertical-align: top;\n",
       "    }\n",
       "\n",
       "    .dataframe thead th {\n",
       "        text-align: right;\n",
       "    }\n",
       "</style>\n",
       "<table border=\"1\" class=\"dataframe\">\n",
       "  <thead>\n",
       "    <tr style=\"text-align: right;\">\n",
       "      <th></th>\n",
       "      <th>transaction_amount</th>\n",
       "      <th>transaction_date</th>\n",
       "      <th>transaction_time</th>\n",
       "      <th>customer_age</th>\n",
       "      <th>customer_balance</th>\n",
       "      <th>is_fraud</th>\n",
       "    </tr>\n",
       "  </thead>\n",
       "  <tbody>\n",
       "    <tr>\n",
       "      <th>0</th>\n",
       "      <td>46.926809</td>\n",
       "      <td>2023-02-09</td>\n",
       "      <td>55817</td>\n",
       "      <td>43</td>\n",
       "      <td>9143.802446</td>\n",
       "      <td>0</td>\n",
       "    </tr>\n",
       "    <tr>\n",
       "      <th>1</th>\n",
       "      <td>301.012143</td>\n",
       "      <td>2023-01-28</td>\n",
       "      <td>9356</td>\n",
       "      <td>60</td>\n",
       "      <td>3126.627558</td>\n",
       "      <td>0</td>\n",
       "    </tr>\n",
       "    <tr>\n",
       "      <th>2</th>\n",
       "      <td>131.674569</td>\n",
       "      <td>2023-11-13</td>\n",
       "      <td>33099</td>\n",
       "      <td>33</td>\n",
       "      <td>4316.836831</td>\n",
       "      <td>0</td>\n",
       "    </tr>\n",
       "    <tr>\n",
       "      <th>3</th>\n",
       "      <td>91.294255</td>\n",
       "      <td>2023-03-26</td>\n",
       "      <td>3190</td>\n",
       "      <td>18</td>\n",
       "      <td>4235.945356</td>\n",
       "      <td>0</td>\n",
       "    </tr>\n",
       "    <tr>\n",
       "      <th>4</th>\n",
       "      <td>16.962487</td>\n",
       "      <td>2023-12-07</td>\n",
       "      <td>13332</td>\n",
       "      <td>49</td>\n",
       "      <td>5491.237144</td>\n",
       "      <td>0</td>\n",
       "    </tr>\n",
       "  </tbody>\n",
       "</table>\n",
       "</div>"
      ],
      "text/plain": [
       "   transaction_amount transaction_date  transaction_time  customer_age  \\\n",
       "0           46.926809       2023-02-09             55817            43   \n",
       "1          301.012143       2023-01-28              9356            60   \n",
       "2          131.674569       2023-11-13             33099            33   \n",
       "3           91.294255       2023-03-26              3190            18   \n",
       "4           16.962487       2023-12-07             13332            49   \n",
       "\n",
       "   customer_balance  is_fraud  \n",
       "0       9143.802446         0  \n",
       "1       3126.627558         0  \n",
       "2       4316.836831         0  \n",
       "3       4235.945356         0  \n",
       "4       5491.237144         0  "
      ]
     },
     "execution_count": 4,
     "metadata": {},
     "output_type": "execute_result"
    }
   ],
   "source": [
    "# Build quick model here for fraud data\n",
    "import pandas as pd\n",
    "\n",
    "df = pd.read_csv(f\"{path_python_material}/data/1-raw/dsif11-fraud-detection/synthetic_transaction_data.csv\")\n",
    "df.head()\n"
   ]
  },
  {
   "cell_type": "code",
   "execution_count": 5,
   "metadata": {},
   "outputs": [
    {
     "data": {
      "text/plain": [
       "(100000, 6)"
      ]
     },
     "execution_count": 5,
     "metadata": {},
     "output_type": "execute_result"
    }
   ],
   "source": [
    "df.shape"
   ]
  },
  {
   "cell_type": "markdown",
   "metadata": {
    "id": "4xZqtk3I7txf"
   },
   "source": [
    "# dsif11app.py\n",
    "\n",
    "### set up"
   ]
  },
  {
   "cell_type": "code",
   "execution_count": 6,
   "metadata": {},
   "outputs": [],
   "source": [
    "model_id = \"lr1\"\n",
    "import pickle \n",
    "import shap\n",
    "\n",
    "transaction_amount = 20000\n",
    "customer_age = 20\n",
    "customer_balance = 20000\n",
    "\n",
    "data_point = [[\n",
    "        transaction_amount,\n",
    "        customer_age,\n",
    "        customer_balance\n",
    "    ]]"
   ]
  },
  {
   "cell_type": "code",
   "execution_count": 7,
   "metadata": {},
   "outputs": [],
   "source": [
    "# Load the pipeline\n",
    "with open(f\"{path_python_material}/models/{model_id}-pipeline.pkl\", \"rb\") as f:\n",
    "    loaded_pipeline = pickle.load(f)\n"
   ]
  },
  {
   "cell_type": "code",
   "execution_count": 12,
   "metadata": {},
   "outputs": [
    {
     "name": "stdout",
     "output_type": "stream",
     "text": [
      "../data/2-intermediate/dsif11-X_train_scaled.npy\n"
     ]
    },
    {
     "data": {
      "text/plain": [
       "array([[-0.06281656,  0.02766043,  0.27972252],\n",
       "       [-0.03251329,  0.02611688, -1.74136979],\n",
       "       [-0.02208351,  0.01376847,  0.26444425],\n",
       "       ...,\n",
       "       [-0.07080837,  0.02302977,  1.03543975],\n",
       "       [ 0.04647673,  0.00759427, -0.21013666],\n",
       "       [-0.0561283 , -0.00321059, -0.06440905]])"
      ]
     },
     "execution_count": 12,
     "metadata": {},
     "output_type": "execute_result"
    }
   ],
   "source": [
    "# Shap values\n",
    "path = f\"{path_python_material}/data/2-intermediate/dsif11-X_train_scaled.npy\"\n",
    "print(path)\n",
    "X_train_scaled = np.load(path) #pd.DataFrame(np.load(path))\n",
    "\n",
    "explainer = shap.LinearExplainer(loaded_pipeline[1], data_point)\n",
    "shap_values = explainer.shap_values(data_point)\n",
    "shap_values"
   ]
  },
  {
   "cell_type": "code",
   "execution_count": null,
   "metadata": {},
   "outputs": [],
   "source": []
  },
  {
   "cell_type": "code",
   "execution_count": null,
   "metadata": {},
   "outputs": [],
   "source": [
    "X_train_scaled = \n",
    "# X_train_scaled.head()\n"
   ]
  },
  {
   "cell_type": "code",
   "execution_count": null,
   "metadata": {},
   "outputs": [],
   "source": [
    "explainer = shap.LinearExplainer(loaded_pipeline[1], X_train_scaled)"
   ]
  },
  {
   "cell_type": "code",
   "execution_count": null,
   "metadata": {},
   "outputs": [],
   "source": []
  },
  {
   "cell_type": "markdown",
   "metadata": {
    "id": "4xZqtk3I7txf"
   },
   "source": [
    "# dsif11app-fraud-streamlit.py \n",
    "\n",
    "### set up"
   ]
  },
  {
   "cell_type": "code",
   "execution_count": null,
   "metadata": {},
   "outputs": [],
   "source": [
    "api_url = \"http://localhost:8502\"\n",
    "\n",
    "import streamlit as st\n",
    "import requests\n",
    "import numpy as np\n",
    "import matplotlib.pyplot as plt\n",
    "import shap\n",
    "\n",
    "transaction_amount = 20000\n",
    "customer_age = 20\n",
    "customer_balance = 20000\n",
    "\n",
    "data = {\n",
    "        \"transaction_amount\": transaction_amount,\n",
    "        \"customer_age\": customer_age,\n",
    "        \"customer_balance\": customer_balance\n",
    "    }"
   ]
  },
  {
   "cell_type": "markdown",
   "metadata": {},
   "source": [
    "## if st.button(\"Predict\"):"
   ]
  },
  {
   "cell_type": "code",
   "execution_count": null,
   "metadata": {},
   "outputs": [],
   "source": [
    "response = requests.post(f\"{api_url}/predict/\",\n",
    "                         json=data)\n",
    "result = response.json()\n",
    "result"
   ]
  },
  {
   "cell_type": "code",
   "execution_count": null,
   "metadata": {},
   "outputs": [],
   "source": [
    "import seaborn as sns\n",
    "\n",
    "######### SHAP #########\n",
    "# Extract SHAP values and feature names\n",
    "shap_values = np.array(result['shap_values'])\n",
    "features = result['features']\n",
    "\n",
    "# Bar plot for SHAP values\n",
    "fig, ax = plt.subplots()\n",
    "ax.barh(features, shap_values[0])\n",
    "ax.set_xlabel('SHAP Value (Impact on Model Output)')\n",
    "sns.pyplot(fig)"
   ]
  },
  {
   "cell_type": "markdown",
   "metadata": {
    "id": "4xZqtk3I7txf"
   },
   "source": [
    "## if st.button(\"Show Feature Importance\"):"
   ]
  },
  {
   "cell_type": "code",
   "execution_count": null,
   "metadata": {},
   "outputs": [],
   "source": [
    "## Now kick off app from terminal:\n",
    "## uvicorn dsif11app-fraud:app --reload --port 8502"
   ]
  },
  {
   "cell_type": "code",
   "execution_count": null,
   "metadata": {},
   "outputs": [],
   "source": [
    "import matplotlib.pyplot as plt\n",
    "response = requests.get(f\"{api_url}/feature-importance\")\n",
    "response\n"
   ]
  },
  {
   "cell_type": "code",
   "execution_count": null,
   "metadata": {},
   "outputs": [],
   "source": [
    "feature_importance = response.json().get('feature_importance', {})\n",
    "feature_importance"
   ]
  },
  {
   "cell_type": "code",
   "execution_count": null,
   "metadata": {},
   "outputs": [],
   "source": [
    "features = list(feature_importance.keys())\n",
    "importance = list(feature_importance.values())\n"
   ]
  },
  {
   "cell_type": "code",
   "execution_count": null,
   "metadata": {},
   "outputs": [],
   "source": [
    "\n",
    "fig, ax = plt.subplots()\n",
    "ax.barh(features, importance)\n",
    "ax.set_xlabel('Importance')\n",
    "ax.set_title('Feature Importance')\n",
    "st.pyplot(fig)"
   ]
  },
  {
   "cell_type": "code",
   "execution_count": null,
   "metadata": {},
   "outputs": [],
   "source": []
  }
 ],
 "metadata": {
  "colab": {
   "provenance": []
  },
  "kernelspec": {
   "display_name": "dsif",
   "language": "python",
   "name": "dsif"
  },
  "language_info": {
   "codemirror_mode": {
    "name": "ipython",
    "version": 3
   },
   "file_extension": ".py",
   "mimetype": "text/x-python",
   "name": "python",
   "nbconvert_exporter": "python",
   "pygments_lexer": "ipython3",
   "version": "3.11.9"
  }
 },
 "nbformat": 4,
 "nbformat_minor": 1
}
