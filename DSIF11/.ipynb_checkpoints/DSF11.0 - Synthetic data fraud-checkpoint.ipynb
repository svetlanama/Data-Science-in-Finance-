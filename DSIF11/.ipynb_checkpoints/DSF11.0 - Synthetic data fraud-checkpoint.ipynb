{
 "cells": [
  {
   "cell_type": "code",
   "execution_count": 1,
   "id": "ed7dda33",
   "metadata": {},
   "outputs": [],
   "source": [
    "python_material_folder_name = \"python-material\"\n",
    "\n"
   ]
  },
  {
   "cell_type": "code",
   "execution_count": 2,
   "id": "5117fa54",
   "metadata": {},
   "outputs": [],
   "source": [
    "import pandas as pd\n",
    "import numpy as np\n",
    "from datetime import datetime, timedelta\n",
    "import random\n",
    "\n",
    "\n",
    "pd.set_option('display.max_columns', None)\n",
    "pd.set_option('display.max_rows', None)\n",
    "\n",
    "# Check if in Google Colab environment\n",
    "try:\n",
    "    from google.colab import drive\n",
    "    # Mount drive\n",
    "    drive.mount('/content/drive')\n",
    "    # Set up path to Python material parent folder\n",
    "    path_python_material = rf\"drive/MyDrive/{python_material_folder_name}\"\n",
    "        # If unsure, print current directory path by executing the following in a new cell:\n",
    "        # !pwd\n",
    "    IN_COLAB = True\n",
    "except:\n",
    "    IN_COLAB = False\n",
    "    # If working locally on Jupyter Notebook, parent folder is one folder up (assuming you are using the folder structure shared at the beginning of the course)\n",
    "    path_python_material = \"..\""
   ]
  },
  {
   "cell_type": "code",
   "execution_count": 3,
   "id": "84af156f",
   "metadata": {},
   "outputs": [],
   "source": [
    "# Set the random seed for reproducibility\n",
    "np.random.seed(42)\n",
    "\n",
    "# Number of observations\n",
    "n = 100000\n",
    "\n",
    "# Generating random data for each feature\n",
    "transaction_amount = np.random.exponential(scale=100, size=n)  # Exponential distribution for transaction amounts\n",
    "customer_age = np.random.normal(loc=35, scale=10, size=n).clip(18, 80).astype(int)  # Normally distributed customer ages\n",
    "customer_balance = np.random.normal(loc=5000, scale=2000, size=n).clip(0, None)  # Customer balances with some minimum of 0\n",
    "transaction_time = np.random.randint(0, 86400, size=n)  # Time of transaction in seconds since midnight\n",
    "transaction_date = [datetime(2023, 1, 1) + timedelta(days=np.random.randint(0, 365)) for _ in range(n)]\n"
   ]
  },
  {
   "cell_type": "code",
   "execution_count": 5,
   "id": "587eb4b6",
   "metadata": {},
   "outputs": [
    {
     "data": {
      "text/plain": [
       "array([0.        , 0.02474385, 0.01384838, ..., 0.01714096, 0.00693694,\n",
       "       0.        ])"
      ]
     },
     "execution_count": 5,
     "metadata": {},
     "output_type": "execute_result"
    }
   ],
   "source": [
    "\n",
    "# Feature engineering: Higher amounts, younger ages, and lower balances may indicate fraud\n",
    "fraud_probability = (\n",
    "    0.001 +  # Base probability\n",
    "    0.00001 * transaction_amount +  # Higher transaction amount slightly increases fraud probability\n",
    "    0.0001 * (80 - customer_age) +  # Younger customers are slightly more prone to fraud\n",
    "    0.00001 * (5000 - customer_balance)  # Lower balances slightly increase fraud probability\n",
    ").clip(0, 1)\n",
    "fraud_probability"
   ]
  },
  {
   "cell_type": "code",
   "execution_count": 6,
   "id": "676dff60",
   "metadata": {},
   "outputs": [
    {
     "data": {
      "text/plain": [
       "0.01159"
      ]
     },
     "execution_count": 6,
     "metadata": {},
     "output_type": "execute_result"
    }
   ],
   "source": [
    "# Adding randomness/noise\n",
    "fraud_probability = fraud_probability * (0.8 + 0.4 * np.random.rand(n))\n",
    "\n",
    "# Generating fraud flags\n",
    "is_fraud = np.random.binomial(1, fraud_probability)\n",
    "np.mean(is_fraud)"
   ]
  },
  {
   "cell_type": "code",
   "execution_count": 15,
   "id": "fd295a96",
   "metadata": {},
   "outputs": [
    {
     "name": "stdout",
     "output_type": "stream",
     "text": [
      "****\n",
      "0.0\n",
      "0.0\n",
      "0.0014648250893397213\n",
      "0.011574452177355539\n",
      "0.02335527608054668\n",
      "****\n",
      "0.032267770486618594\n",
      "0.033494606780467076\n",
      "0.03481957900605098\n",
      "0.03625396445658421\n",
      "0.03795343424219789\n",
      "0.03982395768933808\n",
      "0.04197956172268464\n",
      "0.044708299292144225\n",
      "0.04820605279304463\n",
      "0.053632974116227465\n"
     ]
    }
   ],
   "source": [
    "print(\"****\")\n",
    "for i in range(0, 100, 20):\n",
    "    print(np.percentile(fraud_probability, i))\n",
    "\n",
    "print(\"****\")\n",
    "for i in range(90, 100, 1):\n",
    "    print(np.percentile(fraud_probability, i))"
   ]
  },
  {
   "cell_type": "code",
   "execution_count": 8,
   "id": "f0e02713",
   "metadata": {},
   "outputs": [
    {
     "data": {
      "text/html": [
       "<div>\n",
       "<style scoped>\n",
       "    .dataframe tbody tr th:only-of-type {\n",
       "        vertical-align: middle;\n",
       "    }\n",
       "\n",
       "    .dataframe tbody tr th {\n",
       "        vertical-align: top;\n",
       "    }\n",
       "\n",
       "    .dataframe thead th {\n",
       "        text-align: right;\n",
       "    }\n",
       "</style>\n",
       "<table border=\"1\" class=\"dataframe\">\n",
       "  <thead>\n",
       "    <tr style=\"text-align: right;\">\n",
       "      <th></th>\n",
       "      <th>transaction_amount</th>\n",
       "      <th>transaction_date</th>\n",
       "      <th>transaction_time</th>\n",
       "      <th>customer_age</th>\n",
       "      <th>customer_balance</th>\n",
       "      <th>is_fraud</th>\n",
       "    </tr>\n",
       "  </thead>\n",
       "  <tbody>\n",
       "    <tr>\n",
       "      <th>0</th>\n",
       "      <td>46.926809</td>\n",
       "      <td>2023-02-09</td>\n",
       "      <td>55817</td>\n",
       "      <td>43</td>\n",
       "      <td>9143.802446</td>\n",
       "      <td>0</td>\n",
       "    </tr>\n",
       "    <tr>\n",
       "      <th>1</th>\n",
       "      <td>301.012143</td>\n",
       "      <td>2023-01-28</td>\n",
       "      <td>9356</td>\n",
       "      <td>60</td>\n",
       "      <td>3126.627558</td>\n",
       "      <td>0</td>\n",
       "    </tr>\n",
       "    <tr>\n",
       "      <th>2</th>\n",
       "      <td>131.674569</td>\n",
       "      <td>2023-11-13</td>\n",
       "      <td>33099</td>\n",
       "      <td>33</td>\n",
       "      <td>4316.836831</td>\n",
       "      <td>0</td>\n",
       "    </tr>\n",
       "    <tr>\n",
       "      <th>3</th>\n",
       "      <td>91.294255</td>\n",
       "      <td>2023-03-26</td>\n",
       "      <td>3190</td>\n",
       "      <td>18</td>\n",
       "      <td>4235.945356</td>\n",
       "      <td>0</td>\n",
       "    </tr>\n",
       "    <tr>\n",
       "      <th>4</th>\n",
       "      <td>16.962487</td>\n",
       "      <td>2023-12-07</td>\n",
       "      <td>13332</td>\n",
       "      <td>49</td>\n",
       "      <td>5491.237144</td>\n",
       "      <td>0</td>\n",
       "    </tr>\n",
       "  </tbody>\n",
       "</table>\n",
       "</div>"
      ],
      "text/plain": [
       "   transaction_amount transaction_date  transaction_time  customer_age  \\\n",
       "0           46.926809       2023-02-09             55817            43   \n",
       "1          301.012143       2023-01-28              9356            60   \n",
       "2          131.674569       2023-11-13             33099            33   \n",
       "3           91.294255       2023-03-26              3190            18   \n",
       "4           16.962487       2023-12-07             13332            49   \n",
       "\n",
       "   customer_balance  is_fraud  \n",
       "0       9143.802446         0  \n",
       "1       3126.627558         0  \n",
       "2       4316.836831         0  \n",
       "3       4235.945356         0  \n",
       "4       5491.237144         0  "
      ]
     },
     "execution_count": 8,
     "metadata": {},
     "output_type": "execute_result"
    }
   ],
   "source": [
    "# Assemble into a DataFrame\n",
    "df = pd.DataFrame({\n",
    "    'transaction_amount': transaction_amount,\n",
    "    'transaction_date': transaction_date,\n",
    "    'transaction_time': transaction_time,\n",
    "    'customer_age': customer_age,\n",
    "    'customer_balance': customer_balance,\n",
    "    'is_fraud': is_fraud\n",
    "})\n",
    "\n",
    "# Show the first few rows of the dataset\n",
    "df.head()\n"
   ]
  },
  {
   "cell_type": "code",
   "execution_count": 9,
   "id": "9ba8b14f",
   "metadata": {},
   "outputs": [],
   "source": [
    "# Data export\n",
    "df.to_csv(f\"{path_python_material}/data/1-raw/dsif11-fraud-detection/synthetic_transaction_data.csv\", index=False)\n"
   ]
  },
  {
   "cell_type": "code",
   "execution_count": 10,
   "id": "590c656a",
   "metadata": {},
   "outputs": [
    {
     "data": {
      "text/plain": [
       "transaction_amount           float64\n",
       "transaction_date      datetime64[ns]\n",
       "transaction_time               int64\n",
       "customer_age                   int64\n",
       "customer_balance             float64\n",
       "is_fraud                       int64\n",
       "dtype: object"
      ]
     },
     "execution_count": 10,
     "metadata": {},
     "output_type": "execute_result"
    }
   ],
   "source": [
    "df.dtypes"
   ]
  },
  {
   "cell_type": "code",
   "execution_count": 11,
   "id": "adc84ba1",
   "metadata": {},
   "outputs": [
    {
     "data": {
      "text/plain": [
       "(100000, 6)"
      ]
     },
     "execution_count": 11,
     "metadata": {},
     "output_type": "execute_result"
    }
   ],
   "source": [
    "df.shape"
   ]
  },
  {
   "cell_type": "code",
   "execution_count": null,
   "id": "63a777d6",
   "metadata": {},
   "outputs": [],
   "source": []
  }
 ],
 "metadata": {
  "kernelspec": {
   "display_name": "dsif",
   "language": "python",
   "name": "dsif"
  },
  "language_info": {
   "codemirror_mode": {
    "name": "ipython",
    "version": 3
   },
   "file_extension": ".py",
   "mimetype": "text/x-python",
   "name": "python",
   "nbconvert_exporter": "python",
   "pygments_lexer": "ipython3",
   "version": "3.11.9"
  }
 },
 "nbformat": 4,
 "nbformat_minor": 5
}
